{
 "cells": [
  {
   "cell_type": "markdown",
   "metadata": {},
   "source": [
    "# Low-Rank and Linear Spectral Matrix Completion for Playlist Recommendation"
   ]
  },
  {
   "cell_type": "code",
   "execution_count": 1,
   "metadata": {
    "collapsed": false
   },
   "outputs": [],
   "source": [
    "# -*- coding: utf8 -*-\n",
    "import sys\n",
    "import os\n",
    "import time\n",
    "import operator\n",
    "import numpy as np\n",
    "import scipy as sp\n",
    "import pandas as pd\n",
    "import networkx as nx\n",
    "import matplotlib as mpl\n",
    "import matplotlib.pyplot as plt\n",
    "import scipy.io\n",
    "import scipy.sparse\n",
    "import itertools\n",
    "import random\n",
    "import IPython.utils.path\n",
    "from sklearn.cross_validation import train_test_split\n",
    "\n",
    "\n",
    "%matplotlib inline\n",
    "mpl.rcParams['axes.edgecolor'] = 'grey'\n",
    "mpl.rcParams['grid.color'] = '#66CCCC'\n",
    "mpl.rcParams['text.color'] = '#0EBFE9'\n",
    "mpl.rcParams['xtick.color'] = '#66CCCC'\n",
    "mpl.rcParams['ytick.color'] = '#66CCCC'\n",
    "mpl.rcParams['axes.labelcolor'] = '#0EBFE9'\n",
    "\n",
    "import recog \n",
    "\n",
    "%load_ext autoreload\n",
    "%autoreload 2\n",
    "\n",
    "# reload(sys)  # Reload does the trick!\n",
    "# sys.setdefaultencoding('UTF8')\n",
    "\n",
    "# pd.options.display.encoding = 'utf-8'"
   ]
  },
  {
   "cell_type": "code",
   "execution_count": 3,
   "metadata": {
    "collapsed": false
   },
   "outputs": [],
   "source": [
    "import bokeh.plotting as bp\n",
    "from bokeh.palettes import brewer\n",
    "bp.output_notebook()"
   ]
  },
  {
   "cell_type": "markdown",
   "metadata": {
    "collapsed": true
   },
   "source": [
    "# Test on real data"
   ]
  },
  {
   "cell_type": "code",
   "execution_count": 4,
   "metadata": {
    "collapsed": true
   },
   "outputs": [],
   "source": [
    "def plot_mat(x, title, fig=(512, 200), cmap='Greys', reverse=False, nb_colors=9):\n",
    "    f1 = bp.figure(plot_width=fig[0], plot_height=fig[1], \n",
    "                   x_range=[0, x.shape[1]], y_range=[0, x.shape[0]])\n",
    "    \n",
    "\n",
    "    pal = brewer[cmap][nb_colors]\n",
    "    if reverse:\n",
    "        pal = pal[::-1]\n",
    "        \n",
    "    f1.image(image=[x], x=[0], y=[0], \n",
    "             dw=[x.shape[1]], dh=[x.shape[0]], palette=pal)\n",
    "    f1.title = title\n",
    "    f1.title_text_color = 'red'\n",
    "    f1.title_text_font_style = 'bold'\n",
    "    bp.show(f1)"
   ]
  },
  {
   "cell_type": "code",
   "execution_count": 5,
   "metadata": {
    "collapsed": false
   },
   "outputs": [
    {
     "name": "stdout",
     "output_type": "stream",
     "text": [
      "Data directory: /Users/kikohs/local/aotmv2/\n"
     ]
    }
   ],
   "source": [
    "# DATA_DIR = os.path.join(IPython.utils.path.get_home_dir(), 'data/aotmv2/')\n",
    "DATA_DIR = os.path.join( IPython.utils.path.get_home_dir(), 'local/aotmv2/')\n",
    "print 'Data directory:', DATA_DIR\n",
    "\n",
    "DATASET_NAME = 'aotm'\n",
    "MAX_PROCESS = 8\n",
    "song_id_key = 'aotm_id'\n",
    "playlist_id_key = 'mix_id'\n",
    "playlist_cat_key = 'playlist_category'"
   ]
  },
  {
   "cell_type": "code",
   "execution_count": 6,
   "metadata": {
    "collapsed": false
   },
   "outputs": [],
   "source": [
    "FULL_SONGS = pd.read_hdf(os.path.join(DATA_DIR, DATASET_NAME + '_songs.h5'), 'data')\n",
    "FULL_SONGS.rename(columns={'temporal_echonest_features': 'ten'}, inplace=True)\n",
    "FULL_PLAYLISTS = pd.read_hdf(os.path.join(DATA_DIR, DATASET_NAME + '_playlists.h5'), 'data')\n",
    "FULL_MIXES = pd.read_hdf(os.path.join(DATA_DIR, DATASET_NAME + '_mixes.h5'), 'data')"
   ]
  },
  {
   "cell_type": "code",
   "execution_count": 7,
   "metadata": {
    "collapsed": true
   },
   "outputs": [],
   "source": [
    "# Extract features only from data\n",
    "to_remove = set(['title', 'artist_name', 'genre', 'top_genres', 'terms', \n",
    "                 'release', 'key', 'mode', 'genre_topics', 'genre_topic', 'ncut_id'])\n",
    "columns = set(FULL_SONGS.columns.tolist())\n",
    "feat_col = list(columns - to_remove)"
   ]
  },
  {
   "cell_type": "markdown",
   "metadata": {},
   "source": [
    "### Create smaller dataset from AOTM data\n",
    "\n",
    "Here we remove ambiguous plyalist categories, we also verify that there are a sufficient number of playlists in each category. Each playlist is composed of \"popular songs\", (songs seen at least in a certain amount of playlists), and is not too short not too long."
   ]
  },
  {
   "cell_type": "code",
   "execution_count": 8,
   "metadata": {
    "collapsed": true
   },
   "outputs": [],
   "source": [
    "# min_playlists = 70\n",
    "min_playlists = 100\n",
    "# min_playlist_size = 8\n",
    "min_playlist_size = 5\n",
    "max_playlist_size = 20\n",
    "min_popularity = 5\n",
    "\n",
    "to_remove = ['Mixed Genre', 'Theme', 'Single Artist', 'Alternating DJ', 'Mixed', 'Cover', 'Narrative']"
   ]
  },
  {
   "cell_type": "code",
   "execution_count": 9,
   "metadata": {
    "collapsed": false
   },
   "outputs": [
    {
     "name": "stdout",
     "output_type": "stream",
     "text": [
      "Number of playlists: 12520\n",
      "Number of songs: 11046\n"
     ]
    }
   ],
   "source": [
    "# Remove ambiguous categories\n",
    "FILT_MIXES = FULL_MIXES[~FULL_MIXES.playlist_category.isin(to_remove)]\n",
    "# Remove too short or too long playlists\n",
    "FILT_MIXES = FILT_MIXES[FILT_MIXES['size'].between(min_playlist_size, max_playlist_size)]\n",
    "\n",
    "# Filter popular songs\n",
    "good_playlist_categories = np.unique(FILT_MIXES.playlist_category.values)\n",
    "FILT_PLAYLISTS = FULL_PLAYLISTS[FULL_PLAYLISTS[playlist_cat_key].isin(good_playlist_categories)]\n",
    "song_popularity_hist = FILT_PLAYLISTS.aotm_id.value_counts()\n",
    "good_songs = song_popularity_hist[song_popularity_hist >= min_popularity].index.values\n",
    "FILT_MIXES[song_id_key] = FILT_MIXES[song_id_key].apply(lambda x: list((set(x) & set(good_songs))))\n",
    "FILT_MIXES['size'] = FILT_MIXES[song_id_key].apply(len)\n",
    "\n",
    "# Refilter size of playlists\n",
    "FILT_MIXES = FILT_MIXES[FILT_MIXES['size'].between(min_playlist_size, max_playlist_size)]\n",
    "# Keep a sufficient number of playlist in each category\n",
    "p_hist = FILT_MIXES[playlist_cat_key].value_counts()\n",
    "P_CATEGORIES = p_hist.index[np.where(p_hist > min_playlists)].values\n",
    "FILT_MIXES = FILT_MIXES[FILT_MIXES[playlist_cat_key].isin(P_CATEGORIES)]\n",
    "\n",
    "# Update the list of valid songs since we removed some playlists\n",
    "good_songs = np.unique(list(itertools.chain(*list(FILT_MIXES[song_id_key].values))))\n",
    "FILT_PLAYLISTS = FILT_PLAYLISTS[FILT_PLAYLISTS[playlist_id_key].isin(FILT_MIXES.index.values)]\n",
    "FILT_PLAYLISTS = FILT_PLAYLISTS[FILT_PLAYLISTS[song_id_key].isin(good_songs)]\n",
    "\n",
    "# Keep only valid song and features in playlists\n",
    "FILT_SONGS = FULL_SONGS[FULL_SONGS.index.isin(good_songs)].sort('genre')\n",
    "FILT_FEAT = FILT_SONGS[feat_col]\n",
    "\n",
    "print 'Number of playlists:', len(FILT_MIXES)\n",
    "print 'Number of songs:', len(FILT_SONGS)"
   ]
  },
  {
   "cell_type": "code",
   "execution_count": 10,
   "metadata": {
    "collapsed": false
   },
   "outputs": [
    {
     "data": {
      "text/plain": [
       "Rock/Pop            2957\n",
       "Indie Rock          2786\n",
       "Romantic            1834\n",
       "Road Trip           1230\n",
       "Depression           818\n",
       "Break Up             746\n",
       "Punk                 609\n",
       "Sleep                429\n",
       "Hip Hop              308\n",
       "Dance/House          154\n",
       "Indie                154\n",
       "Electronic Music     138\n",
       "Rock                 128\n",
       "Rhythm and Blues     122\n",
       "Country              107\n",
       "dtype: int64"
      ]
     },
     "execution_count": 10,
     "metadata": {},
     "output_type": "execute_result"
    }
   ],
   "source": [
    "FILT_MIXES[playlist_cat_key].value_counts()"
   ]
  },
  {
   "cell_type": "markdown",
   "metadata": {},
   "source": [
    "### Create evenly sampled dataset"
   ]
  },
  {
   "cell_type": "code",
   "execution_count": 11,
   "metadata": {
    "collapsed": false
   },
   "outputs": [
    {
     "name": "stdout",
     "output_type": "stream",
     "text": [
      "Number of playlists: 500\n",
      "Number of songs: 2662\n"
     ]
    }
   ],
   "source": [
    "to_keep = ['Romantic', 'Depression', 'Break Up', 'Sleep',\n",
    "           'Punk', 'Country', 'Hip Hop', 'Dance/House', 'Rock', 'Rhythm and Blues']\n",
    "\n",
    "P_CATEGORIES = to_keep\n",
    "\n",
    "cat_size = 50\n",
    "\n",
    "MINI_MIXES = FILT_MIXES[FILT_MIXES.playlist_category.isin(to_keep)]\n",
    "\n",
    "tmp = MINI_MIXES.reset_index().groupby(playlist_cat_key).agg({playlist_id_key: lambda x: random.sample(x, cat_size)})\n",
    "good_mixes = np.unique(list(itertools.chain(*list(tmp[playlist_id_key].values))))\n",
    "\n",
    "MINI_MIXES = MINI_MIXES[MINI_MIXES.index.isin(good_mixes)]\n",
    "# sample_idx = random.sample(MINI_MIXES.index, len(MINI_MIXES) // sample_factor)\n",
    "# MINI_MIXES = MINI_MIXES[MINI_MIXES.index.isin(sample_idx)]\n",
    "# Update the list of valid songs since we removed some playlists\n",
    "good_songs = np.unique(list(itertools.chain(*list(MINI_MIXES[song_id_key].values))))\n",
    "MINI_PLAYLISTS = FILT_PLAYLISTS[FILT_PLAYLISTS[playlist_id_key].isin(MINI_MIXES.index.values)]\n",
    "MINI_PLAYLISTS = MINI_PLAYLISTS[MINI_PLAYLISTS[song_id_key].isin(good_songs)]\n",
    "\n",
    "# Keep only valid song and features in playlists\n",
    "MINI_SONGS = FILT_SONGS[FILT_SONGS.index.isin(good_songs)].sort('genre')\n",
    "MINI_FEAT = MINI_SONGS[feat_col]\n",
    "\n",
    "print 'Number of playlists:', len(MINI_MIXES)\n",
    "print 'Number of songs:', len(MINI_SONGS)"
   ]
  },
  {
   "cell_type": "code",
   "execution_count": 12,
   "metadata": {
    "collapsed": false
   },
   "outputs": [
    {
     "data": {
      "text/plain": [
       "Depression          50\n",
       "Rhythm and Blues    50\n",
       "Hip Hop             50\n",
       "Sleep               50\n",
       "Dance/House         50\n",
       "Rock                50\n",
       "Punk                50\n",
       "Country             50\n",
       "Romantic            50\n",
       "Break Up            50\n",
       "dtype: int64"
      ]
     },
     "execution_count": 12,
     "metadata": {},
     "output_type": "execute_result"
    }
   ],
   "source": [
    "MINI_MIXES[playlist_cat_key].value_counts()"
   ]
  },
  {
   "cell_type": "markdown",
   "metadata": {},
   "source": [
    "### Select working dataset"
   ]
  },
  {
   "cell_type": "code",
   "execution_count": 13,
   "metadata": {
    "collapsed": true
   },
   "outputs": [],
   "source": [
    "MIXES = MINI_MIXES\n",
    "FEAT = MINI_FEAT\n",
    "PLAYLISTS = MINI_PLAYLISTS\n",
    "SONGS = MINI_SONGS"
   ]
  },
  {
   "cell_type": "code",
   "execution_count": 68,
   "metadata": {
    "collapsed": false
   },
   "outputs": [],
   "source": [
    "MIXES = FILT_MIXES\n",
    "FEAT = FILT_FEAT\n",
    "PLAYLISTS = FILT_PLAYLISTS\n",
    "SONGS = FILT_SONGS"
   ]
  },
  {
   "cell_type": "markdown",
   "metadata": {},
   "source": [
    "## Training part\n",
    "\n",
    "First, create train and test dataset"
   ]
  },
  {
   "cell_type": "code",
   "execution_count": 69,
   "metadata": {
    "collapsed": true
   },
   "outputs": [],
   "source": [
    "train_set_size = 0.7"
   ]
  },
  {
   "cell_type": "code",
   "execution_count": 70,
   "metadata": {
    "collapsed": false
   },
   "outputs": [],
   "source": [
    "mixes_train_idx, mixes_test_idx = train_test_split(MIXES.index.values, train_size=train_set_size)\n",
    "mixes_train_idx, mixes_test_idx = sorted(mixes_train_idx), sorted(mixes_test_idx)\n",
    "\n",
    "MIXES_train = MIXES[MIXES.index.isin(mixes_train_idx)]\n",
    "MIXES_test = MIXES[MIXES.index.isin(mixes_test_idx)]\n",
    "\n",
    "songs_train_list = np.unique(list(itertools.chain(*list(MIXES_train[song_id_key].values))))\n",
    "songs_test_list = np.unique(list(itertools.chain(*list(MIXES_test[song_id_key].values))))"
   ]
  },
  {
   "cell_type": "markdown",
   "metadata": {},
   "source": [
    "### Create song graph\n",
    "\n",
    "To keep the same number of nodes, we create the full song graph and we remove edges not in the train set."
   ]
  },
  {
   "cell_type": "code",
   "execution_count": null,
   "metadata": {
    "collapsed": false
   },
   "outputs": [],
   "source": [
    "SONG_GRAPH, SONGS = recog.graph.create_song_graph(FEAT, SONGS, 10)\n",
    "print nx.info(SONG_GRAPH)"
   ]
  },
  {
   "cell_type": "code",
   "execution_count": null,
   "metadata": {
    "collapsed": false
   },
   "outputs": [],
   "source": [
    "SONG_GRAPH_train = recog.graph.remove_edges_keep_nodes(SONG_GRAPH.copy(), songs_test_list, SONGS.index)\n",
    "SONG_GRAPH_train.name += ' train'\n",
    "print nx.info(SONG_GRAPH_train)"
   ]
  },
  {
   "cell_type": "markdown",
   "metadata": {},
   "source": [
    "#### Plot adjacency matrix"
   ]
  },
  {
   "cell_type": "code",
   "execution_count": null,
   "metadata": {
    "collapsed": false
   },
   "outputs": [],
   "source": [
    "W_SONGS = nx.to_scipy_sparse_matrix(SONG_GRAPH)\n",
    "recog.plot_factor_mat(W_SONGS.todense())\n",
    "# plot_mat(W_SONGS.todense(), 'Song graph ncut', fig=(512, 512))"
   ]
  },
  {
   "cell_type": "code",
   "execution_count": null,
   "metadata": {
    "collapsed": false
   },
   "outputs": [],
   "source": [
    "W_SONGS_train = nx.to_scipy_sparse_matrix(SONG_GRAPH_train)\n",
    "recog.plot_factor_mat(W_SONGS_train.todense())"
   ]
  },
  {
   "cell_type": "markdown",
   "metadata": {},
   "source": [
    "### Create playlist graph"
   ]
  },
  {
   "cell_type": "code",
   "execution_count": null,
   "metadata": {
    "collapsed": false
   },
   "outputs": [],
   "source": [
    "PLAYLIST_GRAPH, MIXES = recog.graph.create_playlist_graph(MIXES.copy(), PLAYLISTS, playlist_id_key, song_id_key, \n",
    "                                                       'playlist_category', 0.3, 0.2)\n",
    "print nx.info(PLAYLIST_GRAPH)"
   ]
  },
  {
   "cell_type": "code",
   "execution_count": null,
   "metadata": {
    "collapsed": false
   },
   "outputs": [],
   "source": [
    "PLAYLIST_GRAPH_train = recog.graph.remove_edges_keep_nodes(PLAYLIST_GRAPH.copy(), MIXES_test.index.values, MIXES.index)\n",
    "PLAYLIST_GRAPH_train.name += ' train'\n",
    "print nx.info(PLAYLIST_GRAPH_train)"
   ]
  },
  {
   "cell_type": "markdown",
   "metadata": {},
   "source": [
    "#### Plot adjacency matrix"
   ]
  },
  {
   "cell_type": "code",
   "execution_count": null,
   "metadata": {
    "collapsed": false
   },
   "outputs": [],
   "source": [
    "W_PLAYLISTS = nx.to_scipy_sparse_matrix(PLAYLIST_GRAPH)\n",
    "recog.plot_factor_mat(W_PLAYLISTS.toarray())"
   ]
  },
  {
   "cell_type": "code",
   "execution_count": null,
   "metadata": {
    "collapsed": false
   },
   "outputs": [],
   "source": [
    "W_PLAYLISTS_train = nx.to_scipy_sparse_matrix(PLAYLIST_GRAPH_train)\n",
    "recog.plot_factor_mat(W_PLAYLISTS_train.toarray())"
   ]
  },
  {
   "cell_type": "code",
   "execution_count": null,
   "metadata": {
    "collapsed": false
   },
   "outputs": [],
   "source": [
    "MIXES.groupby('ncut_id')['playlist_category'].value_counts()"
   ]
  },
  {
   "cell_type": "markdown",
   "metadata": {},
   "source": [
    "### Create C matrix"
   ]
  },
  {
   "cell_type": "code",
   "execution_count": null,
   "metadata": {
    "collapsed": false
   },
   "outputs": [],
   "source": [
    "C = recog.create_recommendation_matrix(MIXES, SONGS.index,\n",
    "                                     playlist_id_key, DATASET_NAME, normalize=True)"
   ]
  },
  {
   "cell_type": "markdown",
   "metadata": {},
   "source": [
    "### Plot C"
   ]
  },
  {
   "cell_type": "code",
   "execution_count": null,
   "metadata": {
    "collapsed": false
   },
   "outputs": [],
   "source": [
    "recog.plot_factor_mat(C.toarray())\n",
    "# plot_mat(C.toarray(), 'C', (512, 512))\n",
    "print 'Sparsity ratio:', C.nnz / float(C.shape[0] * C.shape[1])\n",
    "print C.shape"
   ]
  },
  {
   "cell_type": "code",
   "execution_count": null,
   "metadata": {
    "collapsed": false
   },
   "outputs": [],
   "source": [
    "mapped_test_idx = [MIXES.index.get_loc(m) for m in mixes_test_idx]\n",
    "C_train = C.toarray()\n",
    "C_train[mapped_test_idx] = 0\n",
    "C_train = sp.sparse.csr_matrix(C_train)\n",
    "\n",
    "recog.plot_factor_mat(C_train.toarray())\n",
    "# plot_mat(C_train.toarray(), 'C', (512, 512))\n",
    "print 'Sparsity ratio:', C_train.nnz / float(C_train.shape[0] * C_train.shape[1])\n",
    "print C_train.shape"
   ]
  },
  {
   "cell_type": "code",
   "execution_count": null,
   "metadata": {
    "collapsed": false
   },
   "outputs": [],
   "source": [
    "rank = len(P_CATEGORIES)\n",
    "theta_tv_playlist = 10e4 / C.shape[0]\n",
    "theta_tv_songs = 2.0 / C.shape[1]\n",
    "\n",
    "# theta_tv_playlist = 0\n",
    "# theta_tv_songs = 0\n",
    "\n",
    "print 'theta_tv_playlist:', theta_tv_playlist\n",
    "print 'theta_tv_songs:', theta_tv_songs\n",
    "print\n",
    "\n",
    "A, B = recog.proximal_training(C_train, PLAYLIST_GRAPH_train, SONG_GRAPH_train, rank, \n",
    "                             theta_tv_a=theta_tv_playlist, theta_tv_b=theta_tv_songs, \n",
    "                             nb_iter_max=20,\n",
    "                             nb_min_iter=4, \n",
    "                             stop_criterion=1e-3,\n",
    "                             min_iter_inner=50, \n",
    "                             max_iter_inner=800,  # do more iterations\n",
    "                             verbose=1)  # optional A and B to resume iterations"
   ]
  },
  {
   "cell_type": "markdown",
   "metadata": {},
   "source": [
    "### Plot results"
   ]
  },
  {
   "cell_type": "code",
   "execution_count": 44,
   "metadata": {
    "collapsed": false
   },
   "outputs": [
    {
     "data": {
      "image/png": "[encoded data removed]",
      "text/plain": [
       "<matplotlib.figure.Figure at 0x1155260d0>"
      ]
     },
     "metadata": {},
     "output_type": "display_data"
    }
   ],
   "source": [
    "# plot_mat(A, 'A')\n",
    "recog.plot_factor_mat(A)"
   ]
  },
  {
   "cell_type": "code",
   "execution_count": 45,
   "metadata": {
    "collapsed": false
   },
   "outputs": [
    {
     "data": {
      "image/png": "[encoded data removed]",
      "text/plain": [
       "<matplotlib.figure.Figure at 0x133464f50>"
      ]
     },
     "metadata": {},
     "output_type": "display_data"
    }
   ],
   "source": [
    "# plot_mat(B, 'B')\n",
    "recog.plot_factor_mat(B)"
   ]
  },
  {
   "cell_type": "code",
   "execution_count": 46,
   "metadata": {
    "collapsed": false
   },
   "outputs": [
    {
     "data": {
      "image/png": "[encoded data removed]",
      "text/plain": [
       "<matplotlib.figure.Figure at 0x134f4ac10>"
      ]
     },
     "metadata": {},
     "output_type": "display_data"
    }
   ],
   "source": [
    "# plot_mat(A.dot(B), 'C = A.dot(B)', reverse=False)\n",
    "recog.plot_factor_mat(A.dot(B))"
   ]
  },
  {
   "cell_type": "markdown",
   "metadata": {},
   "source": [
    "## Recommender part\n",
    "\n",
    "Now that the model is trained, we recommend playlists using the test set."
   ]
  },
  {
   "cell_type": "code",
   "execution_count": 47,
   "metadata": {
    "collapsed": true
   },
   "outputs": [],
   "source": [
    "SONG_TO_IDX = dict(zip(SONGS.index.values, itertools.count()))\n",
    "np.unique(MIXES[playlist_cat_key]).tolist()\n",
    "\n",
    "playlist_size = 30\n",
    "sample_size = 10\n",
    "nb_sampled_playlists = 30"
   ]
  },
  {
   "cell_type": "code",
   "execution_count": 48,
   "metadata": {
    "collapsed": false
   },
   "outputs": [
    {
     "data": {
      "text/plain": [
       "Break Up            18\n",
       "Hip Hop             17\n",
       "Rhythm and Blues    16\n",
       "Country             16\n",
       "Romantic            16\n",
       "Dance/House         15\n",
       "Punk                14\n",
       "Sleep               14\n",
       "Depression          13\n",
       "Rock                11\n",
       "dtype: int64"
      ]
     },
     "execution_count": 48,
     "metadata": {},
     "output_type": "execute_result"
    }
   ],
   "source": [
    "MIXES_test[playlist_cat_key].value_counts()"
   ]
  },
  {
   "cell_type": "markdown",
   "metadata": {},
   "source": [
    "### Use A and B"
   ]
  },
  {
   "cell_type": "code",
   "execution_count": 49,
   "metadata": {
    "collapsed": false
   },
   "outputs": [
    {
     "name": "stdout",
     "output_type": "stream",
     "text": [
      "Done in 25.9540169239 seconds\n"
     ]
    }
   ],
   "source": [
    "start = time.time()\n",
    "results_test = recog.test_playlists(MIXES_test, PLAYLISTS, SONGS, A, B, playlist_size, \n",
    "                                    SONG_TO_IDX, song_id_key, playlist_cat_key, use_both=True) \n",
    "mean_results_test = results_test.groupby(playlist_cat_key).agg({'score': np.mean})\n",
    "\n",
    "results_sampled = recog.sampled_vs_random(nb_sampled_playlists, P_CATEGORIES, PLAYLISTS, SONGS, \n",
    "                                    sample_size, A, B, playlist_size, SONG_TO_IDX, song_id_key, \n",
    "                                          playlist_cat_key, use_both=True)\n",
    "\n",
    "results = results_sampled\n",
    "results['test_set'] = mean_results_test\n",
    "results['test_set / random absolute gain'] = (results['test_set'] - results['random']) * 100\n",
    "results['test_set / random relative gain'] = ((results['test_set'] / results['random']) - 1) * 100\n",
    "\n",
    "print 'Done in {} seconds'.format(time.time() - start)"
   ]
  },
  {
   "cell_type": "code",
   "execution_count": 50,
   "metadata": {
    "collapsed": false
   },
   "outputs": [
    {
     "name": "stdout",
     "output_type": "stream",
     "text": [
      "Average test set: 0.521757713964\n"
     ]
    }
   ],
   "source": [
    "print 'Average test set:', results['test_set'].mean()"
   ]
  },
  {
   "cell_type": "code",
   "execution_count": 51,
   "metadata": {
    "collapsed": false
   },
   "outputs": [
    {
     "data": {
      "text/html": [
       "<div style=\"max-height:1000px;max-width:1500px;overflow:auto;\">\n",
       "<table border=\"1\" class=\"dataframe\">\n",
       "  <thead>\n",
       "    <tr style=\"text-align: right;\">\n",
       "      <th></th>\n",
       "      <th>sampled</th>\n",
       "      <th>random</th>\n",
       "      <th>sampled / random absolute gain</th>\n",
       "      <th>sampled / random relative gain</th>\n",
       "      <th>test_set</th>\n",
       "      <th>test_set / random absolute gain</th>\n",
       "      <th>test_set / random relative gain</th>\n",
       "    </tr>\n",
       "    <tr>\n",
       "      <th>playlist_category</th>\n",
       "      <th></th>\n",
       "      <th></th>\n",
       "      <th></th>\n",
       "      <th></th>\n",
       "      <th></th>\n",
       "      <th></th>\n",
       "      <th></th>\n",
       "    </tr>\n",
       "  </thead>\n",
       "  <tbody>\n",
       "    <tr>\n",
       "      <th>Break Up</th>\n",
       "      <td> 0.674444</td>\n",
       "      <td> 0.021111</td>\n",
       "      <td> 65.333333</td>\n",
       "      <td> 3094.736842</td>\n",
       "      <td> 0.274074</td>\n",
       "      <td> 25.296296</td>\n",
       "      <td> 1198.245614</td>\n",
       "    </tr>\n",
       "    <tr>\n",
       "      <th>Country</th>\n",
       "      <td> 1.000000</td>\n",
       "      <td> 0.035556</td>\n",
       "      <td> 96.444444</td>\n",
       "      <td> 2712.500000</td>\n",
       "      <td> 0.937500</td>\n",
       "      <td> 90.194444</td>\n",
       "      <td> 2536.718750</td>\n",
       "    </tr>\n",
       "    <tr>\n",
       "      <th>Dance/House</th>\n",
       "      <td> 0.775556</td>\n",
       "      <td> 0.082222</td>\n",
       "      <td> 69.333333</td>\n",
       "      <td>  843.243243</td>\n",
       "      <td> 0.666667</td>\n",
       "      <td> 58.444444</td>\n",
       "      <td>  710.810811</td>\n",
       "    </tr>\n",
       "    <tr>\n",
       "      <th>Depression</th>\n",
       "      <td> 0.900000</td>\n",
       "      <td> 0.100000</td>\n",
       "      <td> 80.000000</td>\n",
       "      <td>  800.000000</td>\n",
       "      <td> 0.494872</td>\n",
       "      <td> 39.487179</td>\n",
       "      <td>  394.871795</td>\n",
       "    </tr>\n",
       "    <tr>\n",
       "      <th>Hip Hop</th>\n",
       "      <td> 0.903333</td>\n",
       "      <td> 0.135556</td>\n",
       "      <td> 76.777778</td>\n",
       "      <td>  566.393443</td>\n",
       "      <td> 0.605882</td>\n",
       "      <td> 47.032680</td>\n",
       "      <td>  346.962392</td>\n",
       "    </tr>\n",
       "    <tr>\n",
       "      <th>Punk</th>\n",
       "      <td> 1.000000</td>\n",
       "      <td> 0.520000</td>\n",
       "      <td> 48.000000</td>\n",
       "      <td>   92.307692</td>\n",
       "      <td> 0.714286</td>\n",
       "      <td> 19.428571</td>\n",
       "      <td>   37.362637</td>\n",
       "    </tr>\n",
       "    <tr>\n",
       "      <th>Rhythm and Blues</th>\n",
       "      <td> 0.933333</td>\n",
       "      <td> 0.100000</td>\n",
       "      <td> 83.333333</td>\n",
       "      <td>  833.333333</td>\n",
       "      <td> 0.750000</td>\n",
       "      <td> 65.000000</td>\n",
       "      <td>  650.000000</td>\n",
       "    </tr>\n",
       "    <tr>\n",
       "      <th>Rock</th>\n",
       "      <td> 0.966667</td>\n",
       "      <td> 0.101111</td>\n",
       "      <td> 86.555556</td>\n",
       "      <td>  856.043956</td>\n",
       "      <td> 0.360606</td>\n",
       "      <td> 25.949495</td>\n",
       "      <td>  256.643357</td>\n",
       "    </tr>\n",
       "    <tr>\n",
       "      <th>Romantic</th>\n",
       "      <td> 0.572222</td>\n",
       "      <td> 0.008889</td>\n",
       "      <td> 56.333333</td>\n",
       "      <td> 6337.500000</td>\n",
       "      <td> 0.220833</td>\n",
       "      <td> 21.194444</td>\n",
       "      <td> 2384.375000</td>\n",
       "    </tr>\n",
       "    <tr>\n",
       "      <th>Sleep</th>\n",
       "      <td> 0.611111</td>\n",
       "      <td> 0.006667</td>\n",
       "      <td> 60.444444</td>\n",
       "      <td> 9066.666667</td>\n",
       "      <td> 0.192857</td>\n",
       "      <td> 18.619048</td>\n",
       "      <td> 2792.857143</td>\n",
       "    </tr>\n",
       "  </tbody>\n",
       "</table>\n",
       "</div>"
      ],
      "text/plain": [
       "                    sampled    random  sampled / random absolute gain  \\\n",
       "playlist_category                                                       \n",
       "Break Up           0.674444  0.021111                       65.333333   \n",
       "Country            1.000000  0.035556                       96.444444   \n",
       "Dance/House        0.775556  0.082222                       69.333333   \n",
       "Depression         0.900000  0.100000                       80.000000   \n",
       "Hip Hop            0.903333  0.135556                       76.777778   \n",
       "Punk               1.000000  0.520000                       48.000000   \n",
       "Rhythm and Blues   0.933333  0.100000                       83.333333   \n",
       "Rock               0.966667  0.101111                       86.555556   \n",
       "Romantic           0.572222  0.008889                       56.333333   \n",
       "Sleep              0.611111  0.006667                       60.444444   \n",
       "\n",
       "                   sampled / random relative gain  test_set  \\\n",
       "playlist_category                                             \n",
       "Break Up                              3094.736842  0.274074   \n",
       "Country                               2712.500000  0.937500   \n",
       "Dance/House                            843.243243  0.666667   \n",
       "Depression                             800.000000  0.494872   \n",
       "Hip Hop                                566.393443  0.605882   \n",
       "Punk                                    92.307692  0.714286   \n",
       "Rhythm and Blues                       833.333333  0.750000   \n",
       "Rock                                   856.043956  0.360606   \n",
       "Romantic                              6337.500000  0.220833   \n",
       "Sleep                                 9066.666667  0.192857   \n",
       "\n",
       "                   test_set / random absolute gain  \\\n",
       "playlist_category                                    \n",
       "Break Up                                 25.296296   \n",
       "Country                                  90.194444   \n",
       "Dance/House                              58.444444   \n",
       "Depression                               39.487179   \n",
       "Hip Hop                                  47.032680   \n",
       "Punk                                     19.428571   \n",
       "Rhythm and Blues                         65.000000   \n",
       "Rock                                     25.949495   \n",
       "Romantic                                 21.194444   \n",
       "Sleep                                    18.619048   \n",
       "\n",
       "                   test_set / random relative gain  \n",
       "playlist_category                                   \n",
       "Break Up                               1198.245614  \n",
       "Country                                2536.718750  \n",
       "Dance/House                             710.810811  \n",
       "Depression                              394.871795  \n",
       "Hip Hop                                 346.962392  \n",
       "Punk                                     37.362637  \n",
       "Rhythm and Blues                        650.000000  \n",
       "Rock                                    256.643357  \n",
       "Romantic                               2384.375000  \n",
       "Sleep                                  2792.857143  "
      ]
     },
     "execution_count": 51,
     "metadata": {},
     "output_type": "execute_result"
    }
   ],
   "source": [
    "results"
   ]
  },
  {
   "cell_type": "code",
   "execution_count": 52,
   "metadata": {
    "collapsed": false
   },
   "outputs": [
    {
     "data": {
      "text/html": [
       "<div style=\"max-height:1000px;max-width:1500px;overflow:auto;\">\n",
       "<table border=\"1\" class=\"dataframe\">\n",
       "  <thead>\n",
       "    <tr style=\"text-align: right;\">\n",
       "      <th></th>\n",
       "      <th>index</th>\n",
       "      <th>0</th>\n",
       "    </tr>\n",
       "  </thead>\n",
       "  <tbody>\n",
       "    <tr>\n",
       "      <th>0</th>\n",
       "      <td>                         sampled</td>\n",
       "      <td>    0.833667</td>\n",
       "    </tr>\n",
       "    <tr>\n",
       "      <th>1</th>\n",
       "      <td>                          random</td>\n",
       "      <td>    0.111111</td>\n",
       "    </tr>\n",
       "    <tr>\n",
       "      <th>2</th>\n",
       "      <td>  sampled / random absolute gain</td>\n",
       "      <td>   72.255556</td>\n",
       "    </tr>\n",
       "    <tr>\n",
       "      <th>3</th>\n",
       "      <td>  sampled / random relative gain</td>\n",
       "      <td> 2520.272518</td>\n",
       "    </tr>\n",
       "    <tr>\n",
       "      <th>4</th>\n",
       "      <td>                        test_set</td>\n",
       "      <td>    0.521758</td>\n",
       "    </tr>\n",
       "    <tr>\n",
       "      <th>5</th>\n",
       "      <td> test_set / random absolute gain</td>\n",
       "      <td>   41.064660</td>\n",
       "    </tr>\n",
       "    <tr>\n",
       "      <th>6</th>\n",
       "      <td> test_set / random relative gain</td>\n",
       "      <td> 1130.884750</td>\n",
       "    </tr>\n",
       "  </tbody>\n",
       "</table>\n",
       "</div>"
      ],
      "text/plain": [
       "                             index            0\n",
       "0                          sampled     0.833667\n",
       "1                           random     0.111111\n",
       "2   sampled / random absolute gain    72.255556\n",
       "3   sampled / random relative gain  2520.272518\n",
       "4                         test_set     0.521758\n",
       "5  test_set / random absolute gain    41.064660\n",
       "6  test_set / random relative gain  1130.884750"
      ]
     },
     "execution_count": 52,
     "metadata": {},
     "output_type": "execute_result"
    }
   ],
   "source": [
    "results.mean().reset_index()  # test_set 0.1"
   ]
  },
  {
   "cell_type": "markdown",
   "metadata": {},
   "source": [
    "## Dump data"
   ]
  },
  {
   "cell_type": "code",
   "execution_count": 66,
   "metadata": {
    "collapsed": false
   },
   "outputs": [
    {
     "name": "stdout",
     "output_type": "stream",
     "text": [
      "Exported file: /Users/kikohs/local/aotmv2/dump_mini/mini_recog_real_data.mat\n"
     ]
    }
   ],
   "source": [
    "def dump(outdir, name='mini'):\n",
    "    dump_dir = os.path.join(DATA_DIR, 'dump_' + name + '/')\n",
    "    \n",
    "    if not os.path.exists(dump_dir):\n",
    "        os.mkdir(dump_dir)\n",
    "\n",
    "    nx.write_gpickle(SONG_GRAPH, os.path.join(dump_dir, name + '_song_graph.gpickle'))\n",
    "    nx.write_gpickle(PLAYLIST_GRAPH, os.path.join(dump_dir, name + '_playlist_graph.gpickle'))\n",
    "    store = pd.HDFStore(os.path.join(dump_dir, name + '_data.h5'))\n",
    "    store['songs'] = SONGS\n",
    "    store['mixes'] = MIXES\n",
    "    store['results'] = results\n",
    "    store.close()\n",
    "\n",
    "    matlab_export_path = os.path.join(dump_dir, name + '_recog_real_data.mat')\n",
    "    matlab_data = dict()\n",
    "\n",
    "    matlab_data['C'] = C\n",
    "    matlab_data['W_a'] = W_PLAYLISTS\n",
    "    matlab_data['W_b'] = W_SONGS\n",
    "    matlab_data['A'] = A\n",
    "    matlab_data['B'] = B\n",
    "    matlab_data['songs_train'] = songs_train_list\n",
    "    matlab_data['songs_test'] = songs_test_list\n",
    "    matlab_data['mixes_train'] = np.array(songs_train_list)\n",
    "    matlab_data['mixes_test'] = np.array(songs_test_list)\n",
    "\n",
    "    sp.io.savemat(matlab_export_path, matlab_data)\n",
    "    print 'Exported file:', matlab_export_path\n",
    "    \n",
    "dump(DATA_DIR, 'mini')"
   ]
  },
  {
   "cell_type": "code",
   "execution_count": null,
   "metadata": {
    "collapsed": true
   },
   "outputs": [],
   "source": []
  }
 ],
 "metadata": {
  "kernelspec": {
   "display_name": "Python 2",
   "language": "python",
   "name": "python2"
  },
  "language_info": {
   "codemirror_mode": {
    "name": "ipython",
    "version": 2
   },
   "file_extension": ".py",
   "mimetype": "text/x-python",
   "name": "python",
   "nbconvert_exporter": "python",
   "pygments_lexer": "ipython2",
   "version": "2.7.9"
  }
 },
 "nbformat": 4,
 "nbformat_minor": 0
}
