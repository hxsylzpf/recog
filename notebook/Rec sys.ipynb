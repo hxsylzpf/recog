{
 "cells": [
  {
   "cell_type": "markdown",
   "metadata": {},
   "source": [
    "# Low-Rank and Linear Spectral Matrix Completion for Playlist Recommendation"
   ]
  },
  {
   "cell_type": "code",
   "execution_count": null,
   "metadata": {
    "collapsed": false
   },
   "outputs": [],
   "source": [
    "# -*- coding: utf8 -*-\n",
    "import sys\n",
    "import os\n",
    "import time\n",
    "import operator\n",
    "import numpy as np\n",
    "import scipy as sp\n",
    "import pandas as pd\n",
    "import networkx as nx\n",
    "import matplotlib as mpl\n",
    "import matplotlib.pyplot as plt\n",
    "import scipy.io\n",
    "import scipy.sparse\n",
    "import itertools\n",
    "import random\n",
    "import community\n",
    "import IPython.utils.path\n",
    "import cPickle as pickle \n",
    "from sklearn.cross_validation import train_test_split\n",
    "\n",
    "\n",
    "%matplotlib inline\n",
    "mpl.rcParams['axes.edgecolor'] = 'grey'\n",
    "mpl.rcParams['grid.color'] = '#66CCCC'\n",
    "mpl.rcParams['text.color'] = '#0EBFE9'\n",
    "mpl.rcParams['xtick.color'] = '#66CCCC'\n",
    "mpl.rcParams['ytick.color'] = '#66CCCC'\n",
    "mpl.rcParams['axes.labelcolor'] = '#0EBFE9'\n",
    "\n",
    "import recog \n",
    "\n",
    "%load_ext autoreload\n",
    "%autoreload 2\n",
    "\n",
    "# reload(sys)  # Reload does the trick!\n",
    "# sys.setdefaultencoding('UTF8')\n",
    "\n",
    "# pd.options.display.encoding = 'utf-8'"
   ]
  },
  {
   "cell_type": "code",
   "execution_count": null,
   "metadata": {
    "collapsed": false
   },
   "outputs": [],
   "source": [
    "import bokeh.plotting as bp\n",
    "from bokeh.palettes import brewer\n",
    "bp.output_notebook()"
   ]
  },
  {
   "cell_type": "markdown",
   "metadata": {
    "collapsed": true
   },
   "source": [
    "# Test on real data"
   ]
  },
  {
   "cell_type": "code",
   "execution_count": null,
   "metadata": {
    "collapsed": true
   },
   "outputs": [],
   "source": [
    "def plot_mat(x, title, fig=(512, 200), cmap='Greys', reverse=False, nb_colors=9):\n",
    "    f1 = bp.figure(plot_width=fig[0], plot_height=fig[1], \n",
    "                   x_range=[0, x.shape[1]], y_range=[0, x.shape[0]])\n",
    "    \n",
    "\n",
    "    pal = brewer[cmap][nb_colors]\n",
    "    if reverse:\n",
    "        pal = pal[::-1]\n",
    "        \n",
    "    f1.image(image=[x], x=[0], y=[0], \n",
    "             dw=[x.shape[1]], dh=[x.shape[0]], palette=pal)\n",
    "    f1.title = title\n",
    "    f1.title_text_color = 'red'\n",
    "    f1.title_text_font_style = 'bold'\n",
    "    bp.show(f1)"
   ]
  },
  {
   "cell_type": "code",
   "execution_count": null,
   "metadata": {
    "collapsed": false
   },
   "outputs": [],
   "source": [
    "# DATA_DIR = os.path.join(IPython.utils.path.get_home_dir(), 'data/aotmv2/')\n",
    "DATA_DIR = os.path.join( IPython.utils.path.get_home_dir(), 'local/aotmv2/')\n",
    "print 'Data directory:', DATA_DIR\n",
    "\n",
    "DATASET_NAME = 'aotm'\n",
    "MAX_PROCESS = 8\n",
    "song_id_key = 'aotm_id'\n",
    "playlist_id_key = 'mix_id'\n",
    "playlist_cat_key = 'playlist_category'"
   ]
  },
  {
   "cell_type": "code",
   "execution_count": null,
   "metadata": {
    "collapsed": false
   },
   "outputs": [],
   "source": [
    "FULL_SONGS = pd.read_hdf(os.path.join(DATA_DIR, DATASET_NAME + '_songs.h5'), 'data')\n",
    "FULL_SONGS.rename(columns={'temporal_echonest_features': 'ten'}, inplace=True)\n",
    "FULL_PLAYLISTS = pd.read_hdf(os.path.join(DATA_DIR, DATASET_NAME + '_playlists.h5'), 'data')\n",
    "FULL_MIXES = pd.read_hdf(os.path.join(DATA_DIR, DATASET_NAME + '_mixes.h5'), 'data')"
   ]
  },
  {
   "cell_type": "code",
   "execution_count": null,
   "metadata": {
    "collapsed": true
   },
   "outputs": [],
   "source": [
    "# Extract features only from data\n",
    "to_remove = set(['title', 'artist_name', 'genre', 'top_genres', 'terms', \n",
    "                 'release', 'key', 'mode', 'genre_topics', 'genre_topic', 'ncut_id'])\n",
    "columns = set(FULL_SONGS.columns.tolist())\n",
    "feat_col = list(columns - to_remove)"
   ]
  },
  {
   "cell_type": "markdown",
   "metadata": {},
   "source": [
    "### Create smaller dataset from AOTM data\n",
    "\n",
    "Here we remove ambiguous plyalist categories, we also verify that there are a sufficient number of playlists in each category. Each playlist is composed of \"popular songs\", (songs seen at least in a certain amount of playlists), and is not too short not too long."
   ]
  },
  {
   "cell_type": "code",
   "execution_count": null,
   "metadata": {
    "collapsed": true
   },
   "outputs": [],
   "source": [
    "# min_playlists = 70\n",
    "min_playlists = 100\n",
    "# min_playlist_size = 8\n",
    "min_playlist_size = 5\n",
    "max_playlist_size = 20\n",
    "min_popularity = 5\n",
    "\n",
    "to_remove = ['Mixed Genre', 'Theme', 'Single Artist', 'Alternating DJ', 'Mixed', 'Cover', 'Narrative']"
   ]
  },
  {
   "cell_type": "code",
   "execution_count": null,
   "metadata": {
    "collapsed": false
   },
   "outputs": [],
   "source": [
    "# Remove ambiguous categories\n",
    "FILT_MIXES = FULL_MIXES[~FULL_MIXES.playlist_category.isin(to_remove)]\n",
    "# Remove too short or too long playlists\n",
    "FILT_MIXES = FILT_MIXES[FILT_MIXES['size'].between(min_playlist_size, max_playlist_size)]\n",
    "\n",
    "# Filter popular songs\n",
    "good_playlist_categories = np.unique(FILT_MIXES.playlist_category.values)\n",
    "FILT_PLAYLISTS = FULL_PLAYLISTS[FULL_PLAYLISTS[playlist_cat_key].isin(good_playlist_categories)]\n",
    "song_popularity_hist = FILT_PLAYLISTS.aotm_id.value_counts()\n",
    "good_songs = song_popularity_hist[song_popularity_hist >= min_popularity].index.values\n",
    "FILT_MIXES[song_id_key] = FILT_MIXES[song_id_key].apply(lambda x: list((set(x) & set(good_songs))))\n",
    "FILT_MIXES['size'] = FILT_MIXES[song_id_key].apply(len)\n",
    "\n",
    "# Refilter size of playlists\n",
    "FILT_MIXES = FILT_MIXES[FILT_MIXES['size'].between(min_playlist_size, max_playlist_size)]\n",
    "# Keep a sufficient number of playlist in each category\n",
    "p_hist = FILT_MIXES[playlist_cat_key].value_counts()\n",
    "P_CATEGORIES = p_hist.index[np.where(p_hist > min_playlists)].values\n",
    "FILT_MIXES = FILT_MIXES[FILT_MIXES[playlist_cat_key].isin(P_CATEGORIES)]\n",
    "\n",
    "# Update the list of valid songs since we removed some playlists\n",
    "good_songs = np.unique(list(itertools.chain(*list(FILT_MIXES[song_id_key].values))))\n",
    "FILT_PLAYLISTS = FILT_PLAYLISTS[FILT_PLAYLISTS[playlist_id_key].isin(FILT_MIXES.index.values)]\n",
    "FILT_PLAYLISTS = FILT_PLAYLISTS[FILT_PLAYLISTS[song_id_key].isin(good_songs)]\n",
    "\n",
    "# Keep only valid song and features in playlists\n",
    "FILT_SONGS = FULL_SONGS[FULL_SONGS.index.isin(good_songs)].sort('genre')\n",
    "FILT_FEAT = FILT_SONGS[feat_col]\n",
    "\n",
    "print 'Number of playlists:', len(FILT_MIXES)\n",
    "print 'Number of songs:', len(FILT_SONGS)"
   ]
  },
  {
   "cell_type": "code",
   "execution_count": null,
   "metadata": {
    "collapsed": false
   },
   "outputs": [],
   "source": [
    "FILT_MIXES[playlist_cat_key].value_counts()"
   ]
  },
  {
   "cell_type": "markdown",
   "metadata": {},
   "source": [
    "### Create evenly sampled dataset"
   ]
  },
  {
   "cell_type": "code",
   "execution_count": null,
   "metadata": {
    "collapsed": true
   },
   "outputs": [],
   "source": [
    "to_keep = ['Romantic', 'Depression', 'Break Up', 'Sleep',\n",
    "           'Punk', 'Country', 'Hip Hop', 'Dance/House', 'Rock', 'Rhythm and Blues']\n",
    "\n",
    "P_CATEGORIES = to_keep\n",
    "\n",
    "cat_size = 100"
   ]
  },
  {
   "cell_type": "code",
   "execution_count": null,
   "metadata": {
    "collapsed": false
   },
   "outputs": [],
   "source": [
    "MINI_MIXES = FILT_MIXES[FILT_MIXES.playlist_category.isin(to_keep)]\n",
    "\n",
    "tmp = MINI_MIXES.reset_index().groupby(playlist_cat_key).agg({playlist_id_key: lambda x: random.sample(x, cat_size)})\n",
    "good_mixes = np.unique(list(itertools.chain(*list(tmp[playlist_id_key].values))))\n",
    "\n",
    "MINI_MIXES = MINI_MIXES[MINI_MIXES.index.isin(good_mixes)]\n",
    "# sample_idx = random.sample(MINI_MIXES.index, len(MINI_MIXES) // sample_factor)\n",
    "# MINI_MIXES = MINI_MIXES[MINI_MIXES.index.isin(sample_idx)]\n",
    "# Update the list of valid songs since we removed some playlists\n",
    "good_songs = np.unique(list(itertools.chain(*list(MINI_MIXES[song_id_key].values))))\n",
    "MINI_PLAYLISTS = FILT_PLAYLISTS[FILT_PLAYLISTS[playlist_id_key].isin(MINI_MIXES.index.values)]\n",
    "MINI_PLAYLISTS = MINI_PLAYLISTS[MINI_PLAYLISTS[song_id_key].isin(good_songs)]\n",
    "\n",
    "# Keep only valid song and features in playlists\n",
    "MINI_SONGS = FILT_SONGS[FILT_SONGS.index.isin(good_songs)].sort('genre')\n",
    "MINI_FEAT = MINI_SONGS[feat_col]\n",
    "\n",
    "print 'Number of playlists:', len(MINI_MIXES)\n",
    "print 'Number of songs:', len(MINI_SONGS)"
   ]
  },
  {
   "cell_type": "code",
   "execution_count": null,
   "metadata": {
    "collapsed": false
   },
   "outputs": [],
   "source": [
    "MINI_MIXES[playlist_cat_key].value_counts()"
   ]
  },
  {
   "cell_type": "markdown",
   "metadata": {},
   "source": [
    "### Select working dataset"
   ]
  },
  {
   "cell_type": "code",
   "execution_count": null,
   "metadata": {
    "collapsed": true
   },
   "outputs": [],
   "source": [
    "MIXES = MINI_MIXES\n",
    "FEAT = MINI_FEAT\n",
    "PLAYLISTS = MINI_PLAYLISTS\n",
    "SONGS = MINI_SONGS\n",
    "DATASET_VERSION = 'medium'"
   ]
  },
  {
   "cell_type": "code",
   "execution_count": null,
   "metadata": {
    "collapsed": false
   },
   "outputs": [],
   "source": [
    "# MIXES = FILT_MIXES\n",
    "# FEAT = FILT_FEAT\n",
    "# PLAYLISTS = FILT_PLAYLISTS\n",
    "# SONGS = FILT_SONGS\n",
    "# SONG_TO_IDX = dict(zip(SONGS.index.values, itertools.count()))\n",
    "# DATASET_VERSION = 'filt'"
   ]
  },
  {
   "cell_type": "code",
   "execution_count": null,
   "metadata": {
    "collapsed": true
   },
   "outputs": [],
   "source": [
    "DUMP_DIR = os.path.join(DATA_DIR, 'dump_' + DATASET_VERSION + '/')\n",
    "\n",
    "if not os.path.exists(DUMP_DIR):\n",
    "    os.mkdir(DUMP_DIR)"
   ]
  },
  {
   "cell_type": "markdown",
   "metadata": {},
   "source": [
    "## Prepare graphs\n",
    "\n",
    "First, create train and test dataset."
   ]
  },
  {
   "cell_type": "code",
   "execution_count": null,
   "metadata": {
    "collapsed": true
   },
   "outputs": [],
   "source": [
    "train_set_size = 0.7"
   ]
  },
  {
   "cell_type": "code",
   "execution_count": null,
   "metadata": {
    "collapsed": false
   },
   "outputs": [],
   "source": [
    "mixes_train_idx, mixes_test_idx = train_test_split(MIXES.index.values, train_size=train_set_size)\n",
    "mixes_train_idx, mixes_test_idx = sorted(mixes_train_idx), sorted(mixes_test_idx)\n",
    "\n",
    "MIXES_train = MIXES[MIXES.index.isin(mixes_train_idx)]\n",
    "MIXES_test = MIXES[MIXES.index.isin(mixes_test_idx)]\n",
    "PLAYLISTS_train = PLAYLISTS[PLAYLISTS[playlist_id_key].isin(mixes_train_idx)]\n",
    "\n",
    "songs_train_idx = np.unique(list(itertools.chain(*list(MIXES_train[song_id_key].values))))\n",
    "songs_test_idx = np.unique(list(itertools.chain(*list(MIXES_test[song_id_key].values))))"
   ]
  },
  {
   "cell_type": "markdown",
   "metadata": {},
   "source": [
    "### Create song graph\n",
    "\n",
    "To keep the same number of nodes, we create the full song graph and we remove edges not in the train set."
   ]
  },
  {
   "cell_type": "code",
   "execution_count": null,
   "metadata": {
    "collapsed": false
   },
   "outputs": [],
   "source": [
    "SONG_GRAPH, SONGS = recog.graph.create_song_graph(FEAT, SONGS, 5)\n",
    "SONG_TO_IDX = dict(zip(SONGS.index.values, itertools.count()))\n",
    "print nx.info(SONG_GRAPH)"
   ]
  },
  {
   "cell_type": "markdown",
   "metadata": {},
   "source": [
    "#### Plot adjacency matrix"
   ]
  },
  {
   "cell_type": "code",
   "execution_count": null,
   "metadata": {
    "collapsed": true
   },
   "outputs": [],
   "source": [
    "W_SONGS = nx.to_numpy_matrix(SONG_GRAPH)"
   ]
  },
  {
   "cell_type": "code",
   "execution_count": null,
   "metadata": {
    "collapsed": false
   },
   "outputs": [],
   "source": [
    "# sample = W_SONGS[2300:3500, 2300:3500]\n",
    "sample = W_SONGS\n",
    "sample = (sample > 0).astype(np.float)\n",
    "recog.plot_factor_mat(sample, 'Adjacency matrix for Song graph', 'Blues')\n",
    "# plot_mat(W_SONGS.todense(), 'Song graph ncut', fig=(512, 512))\n",
    "fig1 = plt.gcf()\n",
    "ax = plt.gca()\n",
    "fig1.frameon = False\n",
    "ax.patch.set_visible(False)\n",
    "ax.axis('off')\n",
    "fig_path = os.path.join(DUMP_DIR, 'sample_song_graph_partitions_' + str(SONG_GRAPH.graph['partitions']) + '.png')\n",
    "fig1.savefig(fig_path, dpi=500)"
   ]
  },
  {
   "cell_type": "markdown",
   "metadata": {},
   "source": [
    "### Compute all shortest path between songs for validation"
   ]
  },
  {
   "cell_type": "code",
   "execution_count": null,
   "metadata": {
    "collapsed": false
   },
   "outputs": [],
   "source": [
    "start = time.time()\n",
    "pairs_distance = nx.all_pairs_dijkstra_path_length(SONG_GRAPH, weight='dist')\n",
    "end = time.time()\n",
    "print 'Created in:', end - start"
   ]
  },
  {
   "cell_type": "code",
   "execution_count": null,
   "metadata": {
    "collapsed": false
   },
   "outputs": [],
   "source": [
    "pickle.dump(pairs_distance, open(os.path.join(DUMP_DIR, 'song_pairs_distance.pickle'), \"wb\" ) )"
   ]
  },
  {
   "cell_type": "markdown",
   "metadata": {},
   "source": [
    "### Create playlist graph"
   ]
  },
  {
   "cell_type": "code",
   "execution_count": null,
   "metadata": {
    "collapsed": false
   },
   "outputs": [],
   "source": [
    "PLAYLIST_GRAPH_train, MIXES_train, PLAYLISTS_train = recog.graph.create_playlist_graph(MIXES_train.copy(), PLAYLISTS_train, playlist_id_key, song_id_key, \n",
    "                                                       'playlist_category', 0.3, 0.2)\n",
    "print nx.info(PLAYLIST_GRAPH_train)\n",
    "\n",
    "PLAYLISTS_test = PLAYLISTS[PLAYLISTS[playlist_id_key].isin(mixes_test_idx)]\n",
    "# MIXES_train = MIXES[MIXES.index.isin(mixes_train_idx)]\n",
    "# MIXES_test = MIXES[MIXES.index.isin(mixes_test_idx)]"
   ]
  },
  {
   "cell_type": "markdown",
   "metadata": {},
   "source": [
    "#### Plot adjacency matrix"
   ]
  },
  {
   "cell_type": "code",
   "execution_count": null,
   "metadata": {
    "collapsed": false
   },
   "outputs": [],
   "source": [
    "W_PLAYLISTS = nx.to_numpy_matrix(PLAYLIST_GRAPH_train)"
   ]
  },
  {
   "cell_type": "code",
   "execution_count": null,
   "metadata": {
    "collapsed": false
   },
   "outputs": [],
   "source": [
    "sample = (W_PLAYLISTS > 0).astype(np.float)\n",
    "recog.plot_factor_mat(sample, 'Adjacency matrix for Playlist graph', 'Blues')\n",
    "# plot_mat(W_SONGS.todense(), 'Song graph ncut', fig=(512, 512))\n",
    "fig1 = plt.gcf()\n",
    "ax = plt.gca()\n",
    "fig1.frameon = False\n",
    "ax.patch.set_visible(False)\n",
    "ax.axis('off')\n",
    "fig_path = os.path.join(DUMP_DIR, 'sample_playlist_graph_partitions_' + str(PLAYLIST_GRAPH.graph['partitions']) + '.png')\n",
    "fig1.savefig(fig_path, dpi=100)"
   ]
  },
  {
   "cell_type": "markdown",
   "metadata": {},
   "source": [
    "### Playlist graph without categories"
   ]
  },
  {
   "cell_type": "code",
   "execution_count": null,
   "metadata": {
    "collapsed": true
   },
   "outputs": [],
   "source": [
    "def stripped_playlist_graph(g):\n",
    "    h = nx.Graph()\n",
    "    h.add_nodes_from(g.nodes(data=True))\n",
    "    counts = nx.get_edge_attributes(g, 'count')\n",
    "\n",
    "    cosine = lambda u, v, x: float(x) / (np.sqrt(g.node[u]['size']) * np.sqrt(g.node[v]['size']))\n",
    "    reweighted_attrs = [(k[0], k[1], cosine(k[0], k[1], v)) for k, v in counts.iteritems()]\n",
    "\n",
    "    h.add_weighted_edges_from(reweighted_attrs)\n",
    "\n",
    "    d = community.best_partition(h)\n",
    "    mod = community.modularity(d, h)\n",
    "    print 'Number of clusters: {}, Modularity: {}'.format(len(set(d.values())), mod)\n",
    "    return h"
   ]
  },
  {
   "cell_type": "code",
   "execution_count": null,
   "metadata": {
    "collapsed": false
   },
   "outputs": [],
   "source": [
    "STRIPPED_PLAYLIST_GRAPH_train = stripped_playlist_graph(PLAYLIST_GRAPH_train)"
   ]
  },
  {
   "cell_type": "code",
   "execution_count": null,
   "metadata": {
    "collapsed": true
   },
   "outputs": [],
   "source": [
    "W_PLAYLISTS_train = nx.to_numpy_matrix(STRIPPED_PLAYLIST_GRAPH_train)"
   ]
  },
  {
   "cell_type": "code",
   "execution_count": 629,
   "metadata": {
    "collapsed": false
   },
   "outputs": [
    {
     "data": {
      "image/png": "[encoded data removed]",
      "text/plain": [
       "<matplotlib.figure.Figure at 0x12e99c090>"
      ]
     },
     "metadata": {},
     "output_type": "display_data"
    }
   ],
   "source": [
    "sample = (W_PLAYLISTS_train > 0).astype(np.float)\n",
    "recog.plot_factor_mat(sample, 'Adjacency matrix for Playlist graph train', 'Blues')\n",
    "# plot_mat(W_SONGS.todense(), 'Song graph ncut', fig=(512, 512))\n",
    "fig1 = plt.gcf()\n",
    "ax = plt.gca()\n",
    "fig1.frameon = False\n",
    "ax.patch.set_visible(False)\n",
    "ax.axis('off')\n",
    "fig_path = os.path.join(DUMP_DIR, 'sample_stripped_playlist_graph_train_partitions_' + str(PLAYLIST_GRAPH.graph['partitions']) + '.png')\n",
    "fig1.savefig(fig_path, dpi=100)"
   ]
  },
  {
   "cell_type": "code",
   "execution_count": null,
   "metadata": {
    "collapsed": false
   },
   "outputs": [],
   "source": [
    "MIXES_train.groupby('cluster_id')['playlist_category'].value_counts()"
   ]
  },
  {
   "cell_type": "markdown",
   "metadata": {},
   "source": [
    "### Create C matrix"
   ]
  },
  {
   "cell_type": "code",
   "execution_count": null,
   "metadata": {
    "collapsed": false
   },
   "outputs": [],
   "source": [
    "C_train = recog.create_recommendation_matrix(MIXES_train, SONGS.index,\n",
    "                                     playlist_id_key, DATASET_NAME, normalize=True)"
   ]
  },
  {
   "cell_type": "markdown",
   "metadata": {},
   "source": [
    "### Plot C"
   ]
  },
  {
   "cell_type": "code",
   "execution_count": 627,
   "metadata": {
    "collapsed": false
   },
   "outputs": [
    {
     "name": "stdout",
     "output_type": "stream",
     "text": [
      "Sparsity ratio: 0.00173426433249\n",
      "(700, 4276)\n"
     ]
    },
    {
     "data": {
      "image/png": "[encoded data removed]",
      "text/plain": [
       "<matplotlib.figure.Figure at 0x1380a5ad0>"
      ]
     },
     "metadata": {},
     "output_type": "display_data"
    }
   ],
   "source": [
    "recog.plot_factor_mat(C_train.toarray())\n",
    "# plot_mat(C_train.toarray(), 'C', (512, 512))\n",
    "print 'Sparsity ratio:', C_train.nnz / float(C_train.shape[0] * C_train.shape[1])\n",
    "print C_train.shape"
   ]
  },
  {
   "cell_type": "markdown",
   "metadata": {},
   "source": [
    "## Dump data"
   ]
  },
  {
   "cell_type": "code",
   "execution_count": null,
   "metadata": {
    "collapsed": false
   },
   "outputs": [],
   "source": [
    "def dump(outdir):\n",
    "    # Write graphs\n",
    "    nx.write_gpickle(SONG_GRAPH, os.path.join(outdir, 'song_graph.gpickle'))\n",
    "#     nx.write_gpickle(SONG_GRAPH_train, os.path.join(outdir, 'song_graph_train.gpickle'))\n",
    "#     nx.write_gpickle(PLAYLIST_GRAPH, os.path.join(outdir, 'playlist_graph.gpickle'))\n",
    "    nx.write_gpickle(PLAYLIST_GRAPH_train, os.path.join(outdir, 'playlist_graph_train.gpickle'))\n",
    "    \n",
    "    # Write data\n",
    "    store = pd.HDFStore(os.path.join(outdir, 'data.h5'))\n",
    "    store['songs'] = SONGS\n",
    "    store['mixes'] = MIXES\n",
    "    store['playlists'] = PLAYLISTS\n",
    "    store.close()\n",
    "\n",
    "    matlab_export_path = os.path.join(outdir, 'recog_real_data.mat')\n",
    "    matlab_data = dict()\n",
    "\n",
    "#     matlab_data['C'] = C\n",
    "    matlab_data['C_train'] = C_train\n",
    "#     matlab_data['songs_train'] = songs_train_idx.tolist()\n",
    "#     matlab_data['songs_test'] = songs_test_idx.tolist()\n",
    "    matlab_data['mixes_train'] = mixes_train_idx\n",
    "    matlab_data['mixes_test'] = mixes_test_idx\n",
    "\n",
    "    sp.io.savemat(matlab_export_path, matlab_data)\n",
    "    print 'Dump data to:', outdir\n",
    "    \n",
    "dump(DUMP_DIR)"
   ]
  },
  {
   "cell_type": "markdown",
   "metadata": {},
   "source": [
    "## Load data"
   ]
  },
  {
   "cell_type": "code",
   "execution_count": null,
   "metadata": {
    "collapsed": false
   },
   "outputs": [],
   "source": [
    "def load(outdir):    \n",
    "    if not os.path.exists(outdir):\n",
    "        print 'Error folder does not exists'\n",
    "        return\n",
    "\n",
    "    song_graph = nx.read_gpickle(os.path.join(outdir, 'song_graph.gpickle'))\n",
    "    playlist_graph_train = nx.read_gpickle(os.path.join(outdir, 'playlist_graph_train.gpickle'))\n",
    "    \n",
    "    store = pd.HDFStore(os.path.join(outdir, 'data.h5'))\n",
    "    songs = store['songs']\n",
    "    mixes = store['mixes']\n",
    "    playlists = store['playlists']\n",
    "    store.close()\n",
    "\n",
    "    matlab_export_path = os.path.join(outdir, 'recog_real_data.mat')\n",
    "    data = sp.io.loadmat(matlab_export_path)\n",
    "    c_train = data['C_train']\n",
    "    mixes_train_idx = data['mixes_train'].tolist()[0]\n",
    "    mixes_test_idx = data['mixes_test'].tolist()[0]\n",
    "\n",
    "    return songs, mixes, playlists, song_graph, playlist_graph_train, c_train, mixes_train_idx, mixes_test_idx\n",
    "    \n",
    "\n",
    "DATASET_VERSION = 'medium'\n",
    "DUMP_DIR = os.path.join(DATA_DIR, 'dump_' + DATASET_VERSION + '/')\n",
    "    \n",
    "SONGS, MIXES, PLAYLISTS, SONG_GRAPH, PLAYLIST_GRAPH_train, C_train, mixes_train_idx, mixes_test_idx = load(DUMP_DIR)\n",
    "FEAT = SONGS[feat_col]\n",
    "SONG_TO_IDX = dict(zip(SONGS.index.values, itertools.count()))\n",
    "MIXES_test = MIXES[MIXES.index.isin(mixes_test_idx)]\n",
    "pairs_distance = None\n",
    "PLAYLISTS_train = PLAYLISTS[PLAYLISTS[playlist_id_key].isin(mixes_train_idx)]\n",
    "PLAYLISTS_test = PLAYLISTS[PLAYLISTS[playlist_id_key].isin(mixes_test_idx)]\n",
    "STRIPPED_PLAYLIST_GRAPH_train = stripped_playlist_graph(PLAYLIST_GRAPH_train)"
   ]
  },
  {
   "cell_type": "code",
   "execution_count": null,
   "metadata": {
    "collapsed": true
   },
   "outputs": [],
   "source": [
    "# if needed\n",
    "pairs_distance = pickle.load(open(os.path.join(DUMP_DIR, 'song_pairs_distance.pickle'), \"rb\"))"
   ]
  },
  {
   "cell_type": "code",
   "execution_count": null,
   "metadata": {
    "collapsed": true
   },
   "outputs": [],
   "source": []
  },
  {
   "cell_type": "markdown",
   "metadata": {},
   "source": [
    "# Experiments\n"
   ]
  },
  {
   "cell_type": "code",
   "execution_count": 392,
   "metadata": {
    "collapsed": true
   },
   "outputs": [],
   "source": [
    "# rank = len(P_CATEGORIES)\n",
    "# RANK = 10  # number of clusters of song graph; number of playlist categories\n",
    "RANK = 15\n",
    "PLAYLIST_SIZE = 10\n",
    "SAMPLE_SIZE = 3  # pick x songs as input from a playlist\n",
    "NB_SAMPLED_PLAYLISTS = 100  # playlist per categories for random and sampled case\n",
    "TOP_K_PLAYLISTS = 50"
   ]
  },
  {
   "cell_type": "code",
   "execution_count": 690,
   "metadata": {
    "collapsed": false
   },
   "outputs": [],
   "source": [
    "def agglomerate_results_per_category(data_path, key):\n",
    "    \n",
    "    def f2(x):\n",
    "        return '%1.2f' % x\n",
    "    \n",
    "    path = data_path + '.h5'\n",
    "    store = pd.HDFStore(path)\n",
    "    random = store['results_random'][key]\n",
    "    test_set = store['results_test'][key]\n",
    "    \n",
    "    sampled = None\n",
    "    if 'results_sampled' in store:\n",
    "        sampled = store['results_sampled'][key]\n",
    "    \n",
    "    res = pd.DataFrame(index=random.index)\n",
    "    res['Random'] = random\n",
    "    res['Test set'] = test_set\n",
    "    \n",
    "    if sampled is not None:\n",
    "        res['Sampled'] = sampled\n",
    "    store.close()\n",
    "    \n",
    "    res.index.name = 'Playlist category'\n",
    "    \n",
    "    out = data_path + '_agg_' + key + '.tex'\n",
    "#     towrite = res.to_latex(formatters=[f2, f2, f2])\n",
    "    towrite = res.to_csv(formatters=[f2, f2, f2])\n",
    "    \n",
    "    with open(out, 'w') as f:\n",
    "        f.write(towrite)\n",
    "    return res\n",
    "\n",
    "\n",
    "def training_closure():\n",
    "    def inner(data_path, theta_playlists, theta_songs, playlist_graph):  # stripped or normal\n",
    "        return recog.proximal_training(C_train, playlist_graph, SONG_GRAPH, RANK,\n",
    "                                       theta_tv_a=theta_playlists,\n",
    "                                       theta_tv_b=theta_songs,\n",
    "                                       data_path=data_path,\n",
    "                                       verbose=1)\n",
    "    return inner\n",
    "\n",
    "    \n",
    "def create_sampled_mix_df(playlist_df, playlist_size, nb_playlists, p_categories, do_random=True):\n",
    "    assert(playlist_size > 0)\n",
    "    mix_df = []\n",
    "    mix_id = 0\n",
    "    for cat, group in playlist_df.groupby('playlist_category'):\n",
    "        for i in xrange(nb_playlists):\n",
    "            mix_id += 1\n",
    "            if do_random:\n",
    "                size = min(playlist_size, len(playlist_df))\n",
    "                songs = list(np.random.choice(playlist_df[SONG_ID_KEY].values, size, replace=False))\n",
    "            else:\n",
    "                size = min(playlist_size, len(group))\n",
    "                songs = list(np.random.choice(group[SONG_ID_KEY].values, size, replace=False))\n",
    "\n",
    "            d = {'mix_id': mix_id, 'playlist_category': cat, SONG_ID_KEY: songs}\n",
    "            mix_df.append(d)\n",
    "        \n",
    "    mix_df = pd.DataFrame(mix_df).set_index('mix_id')\n",
    "    return mix_df\n",
    "\n",
    "\n",
    "def scores_from_mix_df(mix_df, song_df, reco_func, score_func, sample_size=0):    \n",
    "    results = []\n",
    "    for mix_id, row in mix_df.iterrows():\n",
    "        p_category = row['playlist_category']\n",
    "        songs = row[SONG_ID_KEY]\n",
    "        if sample_size > 0:\n",
    "            songs = np.random.choice(songs, min(sample_size, len(songs)), replace=False)\n",
    "        \n",
    "        reco_df = reco_func(songs)\n",
    "        input_df = song_df.loc[songs]\n",
    "        scores = score_func(reco_df, input_df, p_category)\n",
    "        scores['mix_id'] = mix_id\n",
    "        results.append(scores)\n",
    "    res = pd.DataFrame(results).set_index('mix_id')\n",
    "    return res.groupby('playlist_category').mean()\n",
    "\n",
    "\n",
    "\n",
    "def run_validation(data_path, A, B, method=0, sample_size=SAMPLE_SIZE, top_k_playlist=TOP_K_PLAYLISTS,\n",
    "                   score_playlist_cat_only=False,\n",
    "                   with_sampled_playlists=True, only_test_set=False):\n",
    "    \n",
    "    start = time.time()\n",
    "    # Select recommend method\n",
    "    reco_f = None\n",
    "    if method == 0:\n",
    "        reco_f = lambda x: recog.recommend(x, SONGS, A, B, PLAYLIST_SIZE, SONG_TO_IDX, top_k_playlist)\n",
    "    elif method == 1:\n",
    "        reco_f = lambda x: recog.recommend_playlist_graph_only(x, SONGS, MIXES_train,\n",
    "                                                               PLAYLISTS_train, \n",
    "                                                               SONG_ID_KEY,\n",
    "                                                               PLAYLIST_ID_KEY,\n",
    "                                                               top_k_playlists=top_k_playlist, \n",
    "                                                               top_k_songs=PLAYLIST_SIZE)\n",
    "    else:\n",
    "        raise NotImplementedError\n",
    "        \n",
    "    # Select score func\n",
    "    score_func = lambda x, y, z: recog.recommend_score(x, y, z, \n",
    "                                                       'playlist_category', \n",
    "                                                       'cluster_id', PLAYLISTS_train,\n",
    "                                                        PLAYLIST_SIZE, SONG_TO_IDX, SONG_ID_KEY, \n",
    "                                                        PAIR_DISTANCES, score_playlist_cat_only)\n",
    "        \n",
    "    results_test = scores_from_mix_df(MIXES_test, SONGS, reco_f, score_func, sample_size)\n",
    "    if only_test_set:\n",
    "        print 'Validation took {} seconds'.format(time.time() - start)\n",
    "        return results_test\n",
    "    \n",
    "    random_mix = create_sampled_mix_df(PLAYLISTS_test, PLAYLIST_SIZE, NB_SAMPLED_PLAYLISTS, P_CATEGORIES)\n",
    "    results_random = scores_from_mix_df(random_mix, SONGS, reco_f, score_func, sample_size)\n",
    "    \n",
    "    # Dump results to disk\n",
    "    path = data_path + '.h5'\n",
    "    store = pd.HDFStore(path)\n",
    "    store['results_test'] = results_test\n",
    "    store['results_random'] = results_random\n",
    "    \n",
    "    # Concat results\n",
    "    res = [results_test.mean(), results_random.mean()]\n",
    "    cols = [(0, 'test_set'), (1, 'random')]\n",
    "\n",
    "    if with_sampled_playlists:\n",
    "        sampled_mix = create_sampled_mix_df(PLAYLISTS, PLAYLIST_SIZE, NB_SAMPLED_PLAYLISTS, P_CATEGORIES, False)\n",
    "        results_sampled = scores_from_mix_df(sampled_mix, SONGS, reco_f, score_func, sample_size)\n",
    "        store['results_sampled'] = results_sampled\n",
    "        res.append(results_sampled.mean())\n",
    "        cols.append([2, 'sampled'])\n",
    "\n",
    "    store.close()\n",
    "    \n",
    "    results = pd.concat(res, axis=1)\n",
    "    results.rename(columns=dict(cols), inplace=True)\n",
    "    \n",
    "    print 'Validation took {} seconds'.format(time.time() - start)\n",
    "    return results\n",
    "    "
   ]
  },
  {
   "cell_type": "markdown",
   "metadata": {},
   "source": [
    "### Average pairwise distance of song graph"
   ]
  },
  {
   "cell_type": "code",
   "execution_count": null,
   "metadata": {
    "collapsed": false
   },
   "outputs": [],
   "source": [
    "distances = nx.get_edge_attributes(SONG_GRAPH, 'dist')\n",
    "\n",
    "res = sum(map(lambda x: x[1], distances.items()))\n",
    "res /= len(distances)\n",
    "\n",
    "print 'Average distance on the song graph:', res\n",
    "    \n",
    "print 'Diameter:', nx.diameter(SONG_GRAPH)"
   ]
  },
  {
   "cell_type": "markdown",
   "metadata": {},
   "source": [
    "## Experiment 1\n",
    "\n",
    "Here we set theta_song to 0 and compare our model to the random case or using a simple playlist recommender system.\n",
    "\n",
    "We designed two scenarii with a playlist graph only created with cosine similarity, the second scenario also add the metadata.\n",
    "\n",
    "We test different cases:\n",
    "\n",
    "- NMF only $\\theta_p = \\theta_s = 0$\n",
    "- NMF + playlist graph compared to a different rec sys using only playlist"
   ]
  },
  {
   "cell_type": "code",
   "execution_count": 495,
   "metadata": {
    "collapsed": true
   },
   "outputs": [],
   "source": [
    "EXPERIMENT_DIR = os.path.join(DUMP_DIR, 'experiment1')\n",
    "if not os.path.exists(EXPERIMENT_DIR):\n",
    "    os.mkdir(EXPERIMENT_DIR)"
   ]
  },
  {
   "cell_type": "markdown",
   "metadata": {},
   "source": [
    "### NMF only"
   ]
  },
  {
   "cell_type": "code",
   "execution_count": 496,
   "metadata": {
    "collapsed": true
   },
   "outputs": [],
   "source": [
    "theta_playlists_nmf_only = 0\n",
    "theta_songs_nmf_only = 0\n",
    "data_path = os.path.join(EXPERIMENT_DIR, 'nmf_only')"
   ]
  },
  {
   "cell_type": "code",
   "execution_count": null,
   "metadata": {
    "collapsed": false
   },
   "outputs": [],
   "source": [
    "A_nmf_only, B_nmf_only = training_closure()(data_path, \n",
    "                                            theta_playlists_nmf_only,\n",
    "                                            theta_songs_nmf_only, \n",
    "                                            STRIPPED_PLAYLIST_GRAPH_train)"
   ]
  },
  {
   "cell_type": "code",
   "execution_count": 501,
   "metadata": {
    "collapsed": false
   },
   "outputs": [
    {
     "name": "stdout",
     "output_type": "stream",
     "text": [
      "Validation took 194.234740973 seconds\n"
     ]
    }
   ],
   "source": [
    "results_nmf_only = run_validation(data_path, A_nmf_only, B_nmf_only)"
   ]
  },
  {
   "cell_type": "code",
   "execution_count": 502,
   "metadata": {
    "collapsed": false
   },
   "outputs": [
    {
     "data": {
      "text/html": [
       "<div style=\"max-height:1000px;max-width:1500px;overflow:auto;\">\n",
       "<table border=\"1\" class=\"dataframe\">\n",
       "  <thead>\n",
       "    <tr style=\"text-align: right;\">\n",
       "      <th></th>\n",
       "      <th>test_set</th>\n",
       "      <th>random</th>\n",
       "      <th>sampled</th>\n",
       "    </tr>\n",
       "  </thead>\n",
       "  <tbody>\n",
       "    <tr>\n",
       "      <th>p_cat_out</th>\n",
       "      <td>0.260165</td>\n",
       "      <td>0.141300</td>\n",
       "      <td>0.262500</td>\n",
       "    </tr>\n",
       "    <tr>\n",
       "      <th>s_cluster</th>\n",
       "      <td>-0.136006</td>\n",
       "      <td>-0.144733</td>\n",
       "      <td>-0.161800</td>\n",
       "    </tr>\n",
       "    <tr>\n",
       "      <th>s_genre</th>\n",
       "      <td>0.456694</td>\n",
       "      <td>0.417908</td>\n",
       "      <td>0.437443</td>\n",
       "    </tr>\n",
       "    <tr>\n",
       "      <th>s_graph_dist_in</th>\n",
       "      <td>62.583382</td>\n",
       "      <td>62.636764</td>\n",
       "      <td>63.145036</td>\n",
       "    </tr>\n",
       "    <tr>\n",
       "      <th>s_graph_dist_out</th>\n",
       "      <td>62.599355</td>\n",
       "      <td>63.093224</td>\n",
       "      <td>64.016040</td>\n",
       "    </tr>\n",
       "  </tbody>\n",
       "</table>\n",
       "</div>"
      ],
      "text/plain": [
       "                   test_set     random    sampled\n",
       "p_cat_out          0.260165   0.141300   0.262500\n",
       "s_cluster         -0.136006  -0.144733  -0.161800\n",
       "s_genre            0.456694   0.417908   0.437443\n",
       "s_graph_dist_in   62.583382  62.636764  63.145036\n",
       "s_graph_dist_out  62.599355  63.093224  64.016040"
      ]
     },
     "execution_count": 502,
     "metadata": {},
     "output_type": "execute_result"
    }
   ],
   "source": [
    "results_nmf_only"
   ]
  },
  {
   "cell_type": "markdown",
   "metadata": {},
   "source": [
    "### Scenario 1\n",
    "\n",
    "In this scenario no playlist categories are given, we create a playlist similarity graph only using cosine similarity. This is the normal case (Spotify, Deezer, etc.)."
   ]
  },
  {
   "cell_type": "code",
   "execution_count": 471,
   "metadata": {
    "collapsed": true
   },
   "outputs": [],
   "source": [
    "SCENARIO_DIR = os.path.join(EXPERIMENT_DIR, 'scenario1')\n",
    "if not os.path.exists(SCENARIO_DIR):\n",
    "    os.mkdir(SCENARIO_DIR)"
   ]
  },
  {
   "cell_type": "markdown",
   "metadata": {},
   "source": [
    "#### Playlist graph recommender"
   ]
  },
  {
   "cell_type": "code",
   "execution_count": 481,
   "metadata": {
    "collapsed": false
   },
   "outputs": [
    {
     "name": "stdout",
     "output_type": "stream",
     "text": [
      "Validation took 24.7849290371 seconds\n"
     ]
    }
   ],
   "source": [
    "data_path = os.path.join(SCENARIO_DIR, 'playlist_graph_rec')\n",
    "exp1_s1_playlist_graph_rec = run_validation(data_path, None, None, method=1)"
   ]
  },
  {
   "cell_type": "code",
   "execution_count": 482,
   "metadata": {
    "collapsed": false
   },
   "outputs": [
    {
     "data": {
      "text/html": [
       "<div style=\"max-height:1000px;max-width:1500px;overflow:auto;\">\n",
       "<table border=\"1\" class=\"dataframe\">\n",
       "  <thead>\n",
       "    <tr style=\"text-align: right;\">\n",
       "      <th></th>\n",
       "      <th>test_set</th>\n",
       "      <th>random</th>\n",
       "      <th>sampled</th>\n",
       "    </tr>\n",
       "  </thead>\n",
       "  <tbody>\n",
       "    <tr>\n",
       "      <th>p_cat_out</th>\n",
       "      <td>0.534044</td>\n",
       "      <td>0.139565</td>\n",
       "      <td>0.546162</td>\n",
       "    </tr>\n",
       "    <tr>\n",
       "      <th>s_cluster</th>\n",
       "      <td>-0.186687</td>\n",
       "      <td>-0.172476</td>\n",
       "      <td>-0.178289</td>\n",
       "    </tr>\n",
       "    <tr>\n",
       "      <th>s_genre</th>\n",
       "      <td>0.290114</td>\n",
       "      <td>0.340844</td>\n",
       "      <td>0.296780</td>\n",
       "    </tr>\n",
       "    <tr>\n",
       "      <th>s_graph_dist_in</th>\n",
       "      <td>63.590160</td>\n",
       "      <td>62.809294</td>\n",
       "      <td>62.896684</td>\n",
       "    </tr>\n",
       "    <tr>\n",
       "      <th>s_graph_dist_out</th>\n",
       "      <td>55.670097</td>\n",
       "      <td>57.210029</td>\n",
       "      <td>57.032354</td>\n",
       "    </tr>\n",
       "  </tbody>\n",
       "</table>\n",
       "</div>"
      ],
      "text/plain": [
       "                   test_set     random    sampled\n",
       "p_cat_out          0.534044   0.139565   0.546162\n",
       "s_cluster         -0.186687  -0.172476  -0.178289\n",
       "s_genre            0.290114   0.340844   0.296780\n",
       "s_graph_dist_in   63.590160  62.809294  62.896684\n",
       "s_graph_dist_out  55.670097  57.210029  57.032354"
      ]
     },
     "execution_count": 482,
     "metadata": {},
     "output_type": "execute_result"
    }
   ],
   "source": [
    "exp1_s1_playlist_graph_rec"
   ]
  },
  {
   "cell_type": "markdown",
   "metadata": {},
   "source": [
    "#### Our recommender system\n",
    "\n",
    "Find best theta from grid search."
   ]
  },
  {
   "cell_type": "code",
   "execution_count": 269,
   "metadata": {
    "collapsed": true
   },
   "outputs": [],
   "source": [
    "def grid_search_theta_playlist():\n",
    "    results = []\n",
    "    for theta in xrange(25, 50, 5):\n",
    "        d = {'theta_playlist': theta}\n",
    "        data_path = os.path.join(SCENARIO_DIR, 'exp1_s1_theta_p_' + str(theta))\n",
    "        d['data_path'] = data_path\n",
    "        a, b = training_closure()(data_path, theta, 0.0, STRIPPED_PLAYLIST_GRAPH_train)\n",
    "        d['a'] = a\n",
    "        d['b'] = b\n",
    "        results.append(d)\n",
    "    return results\n",
    "\n",
    "def find_best_theta(all_data):\n",
    "    best_d = all_data[0]\n",
    "    old_score = 0\n",
    "    for d in all_data:\n",
    "        r = run_validation(d['data_path'], d['a'], d['b'], sample_size=0,\n",
    "                           with_sampled_playlists=False, score_playlist_cat_only=True, only_test_set=True)\n",
    "        score = r['p_cat_out'].mean()\n",
    "        if score > old_score:\n",
    "            print 'Theta: {}, score: {}'.format(d['theta_playlist'], score)\n",
    "            best_d = d\n",
    "            old_score = score\n",
    "    return best_d\n",
    "\n",
    "\n",
    "valid_func = lambda x, y: run_validation(data_path, x, y, sample_size=0, only_test_set=True)['p_cat_out']"
   ]
  },
  {
   "cell_type": "code",
   "execution_count": 503,
   "metadata": {
    "collapsed": false
   },
   "outputs": [],
   "source": [
    "best_theta_p_s1 = 25\n",
    "# results_gs_theta_playlist_exp1_s1 = grid_search_theta_playlist()\n",
    "# exp1_s1_d = find_best_theta(results_gs_theta_playlist_exp1_s1)\n",
    "# data_path = os.path.join(SCENARIO_DIR, 'exp1_s1_best_theta_p' + str(exp1_s1_d['theta_playlist']))\n",
    "# np.savez(data_path, A=exp1_s1_d['a'], B=exp1_s1_d['b'])\n",
    "# print 'Best theta playlist:', exp1_s1_d['theta_playlist']"
   ]
  },
  {
   "cell_type": "code",
   "execution_count": 539,
   "metadata": {
    "collapsed": false
   },
   "outputs": [
    {
     "name": "stdout",
     "output_type": "stream",
     "text": [
      "Validation took 196.737946987 seconds\n"
     ]
    }
   ],
   "source": [
    "data_path = os.path.join(SCENARIO_DIR, 'exp1_s1_best_theta_p' + str(best_theta_p_s1))\n",
    "d = np.load(data_path + '.npz')\n",
    "exp1_s1_results = run_validation(data_path, d['A'], d['B'])"
   ]
  },
  {
   "cell_type": "code",
   "execution_count": 540,
   "metadata": {
    "collapsed": false
   },
   "outputs": [
    {
     "data": {
      "text/html": [
       "<div style=\"max-height:1000px;max-width:1500px;overflow:auto;\">\n",
       "<table border=\"1\" class=\"dataframe\">\n",
       "  <thead>\n",
       "    <tr style=\"text-align: right;\">\n",
       "      <th></th>\n",
       "      <th>test_set</th>\n",
       "      <th>random</th>\n",
       "      <th>sampled</th>\n",
       "    </tr>\n",
       "  </thead>\n",
       "  <tbody>\n",
       "    <tr>\n",
       "      <th>p_cat_out</th>\n",
       "      <td>0.543714</td>\n",
       "      <td>0.210900</td>\n",
       "      <td>0.584900</td>\n",
       "    </tr>\n",
       "    <tr>\n",
       "      <th>s_cluster</th>\n",
       "      <td>-0.176392</td>\n",
       "      <td>-0.168300</td>\n",
       "      <td>-0.165000</td>\n",
       "    </tr>\n",
       "    <tr>\n",
       "      <th>s_genre</th>\n",
       "      <td>0.403024</td>\n",
       "      <td>0.447039</td>\n",
       "      <td>0.392772</td>\n",
       "    </tr>\n",
       "    <tr>\n",
       "      <th>s_graph_dist_in</th>\n",
       "      <td>63.050319</td>\n",
       "      <td>63.543391</td>\n",
       "      <td>62.683222</td>\n",
       "    </tr>\n",
       "    <tr>\n",
       "      <th>s_graph_dist_out</th>\n",
       "      <td>65.255562</td>\n",
       "      <td>65.817303</td>\n",
       "      <td>65.435115</td>\n",
       "    </tr>\n",
       "  </tbody>\n",
       "</table>\n",
       "</div>"
      ],
      "text/plain": [
       "                   test_set     random    sampled\n",
       "p_cat_out          0.543714   0.210900   0.584900\n",
       "s_cluster         -0.176392  -0.168300  -0.165000\n",
       "s_genre            0.403024   0.447039   0.392772\n",
       "s_graph_dist_in   63.050319  63.543391  62.683222\n",
       "s_graph_dist_out  65.255562  65.817303  65.435115"
      ]
     },
     "execution_count": 540,
     "metadata": {},
     "output_type": "execute_result"
    }
   ],
   "source": [
    "exp1_s1_results"
   ]
  },
  {
   "cell_type": "markdown",
   "metadata": {},
   "source": [
    "### Scenario 2\n",
    "\n",
    "In this scenario, we have the playlist categories and the graph of playlists is well connected using both metadata and cosine similarity."
   ]
  },
  {
   "cell_type": "code",
   "execution_count": 276,
   "metadata": {
    "collapsed": true
   },
   "outputs": [],
   "source": [
    "SCENARIO_DIR2 = os.path.join(EXPERIMENT_DIR, 'scenario2')\n",
    "if not os.path.exists(SCENARIO_DIR2):\n",
    "    os.mkdir(SCENARIO_DIR2)"
   ]
  },
  {
   "cell_type": "markdown",
   "metadata": {},
   "source": [
    "#### Our recommender system"
   ]
  },
  {
   "cell_type": "code",
   "execution_count": 491,
   "metadata": {
    "collapsed": false
   },
   "outputs": [],
   "source": [
    "best_theta_p_s2 = 19\n",
    "def grid_search_theta_playlist_scenario2():\n",
    "    results = []\n",
    "    for theta in xrange(19, 50, 5):\n",
    "        d = {'theta_playlist': theta}\n",
    "        data_path = os.path.join(SCENARIO_DIR2, 'exp1_s2_theta_p_' + str(theta))\n",
    "        d['data_path'] = data_path\n",
    "        a, b = training_closure()(data_path, theta, 0.0, PLAYLIST_GRAPH_train)\n",
    "        d['a'] = a\n",
    "        d['b'] = b\n",
    "        results.append(d)\n",
    "    return results\n",
    "\n",
    "# results_gs_theta_playlist_exp1_s2 = grid_search_theta_playlist_scenario2()\n",
    "# exp1_s2_d = find_best_theta(results_gs_theta_playlist_exp1_s2)\n",
    "# data_path = os.path.join(SCENARIO_DIR2, 'exp1_s2_best_theta_p' + str(exp1_s2_d['theta_playlist']))\n",
    "# np.savez(data_path, A=exp1_s2_d['a'], B=exp1_s2_d['b'])\n",
    "# print 'Best theta playlist:', exp1_s2_d['theta_playlist']"
   ]
  },
  {
   "cell_type": "code",
   "execution_count": 692,
   "metadata": {
    "collapsed": false
   },
   "outputs": [],
   "source": [
    "data_path = os.path.join(SCENARIO_DIR2, 'exp1_s2_best_theta_p' + str(best_theta_p_s2))\n",
    "d = np.load(data_path + '.npz')\n",
    "\n",
    "# exp1_s2_results = run_validation(data_path, d['A'], d['B'])"
   ]
  },
  {
   "cell_type": "code",
   "execution_count": 555,
   "metadata": {
    "collapsed": false
   },
   "outputs": [
    {
     "data": {
      "text/html": [
       "<div style=\"max-height:1000px;max-width:1500px;overflow:auto;\">\n",
       "<table border=\"1\" class=\"dataframe\">\n",
       "  <thead>\n",
       "    <tr style=\"text-align: right;\">\n",
       "      <th></th>\n",
       "      <th>test_set</th>\n",
       "      <th>random</th>\n",
       "      <th>sampled</th>\n",
       "    </tr>\n",
       "  </thead>\n",
       "  <tbody>\n",
       "    <tr>\n",
       "      <th>p_cat_out</th>\n",
       "      <td>0.648500</td>\n",
       "      <td>0.149600</td>\n",
       "      <td>0.939900</td>\n",
       "    </tr>\n",
       "    <tr>\n",
       "      <th>s_cluster</th>\n",
       "      <td>-0.151416</td>\n",
       "      <td>-0.143033</td>\n",
       "      <td>-0.135300</td>\n",
       "    </tr>\n",
       "    <tr>\n",
       "      <th>s_genre</th>\n",
       "      <td>0.339907</td>\n",
       "      <td>0.394979</td>\n",
       "      <td>0.303312</td>\n",
       "    </tr>\n",
       "    <tr>\n",
       "      <th>s_graph_dist_in</th>\n",
       "      <td>62.538924</td>\n",
       "      <td>63.255801</td>\n",
       "      <td>63.220173</td>\n",
       "    </tr>\n",
       "    <tr>\n",
       "      <th>s_graph_dist_out</th>\n",
       "      <td>62.725839</td>\n",
       "      <td>62.903782</td>\n",
       "      <td>62.779066</td>\n",
       "    </tr>\n",
       "  </tbody>\n",
       "</table>\n",
       "</div>"
      ],
      "text/plain": [
       "                   test_set     random    sampled\n",
       "p_cat_out          0.648500   0.149600   0.939900\n",
       "s_cluster         -0.151416  -0.143033  -0.135300\n",
       "s_genre            0.339907   0.394979   0.303312\n",
       "s_graph_dist_in   62.538924  63.255801  63.220173\n",
       "s_graph_dist_out  62.725839  62.903782  62.779066"
      ]
     },
     "execution_count": 555,
     "metadata": {},
     "output_type": "execute_result"
    }
   ],
   "source": [
    "exp1_s2_results"
   ]
  },
  {
   "cell_type": "code",
   "execution_count": 693,
   "metadata": {
    "collapsed": false
   },
   "outputs": [
    {
     "data": {
      "text/html": [
       "<div style=\"max-height:1000px;max-width:1500px;overflow:auto;\">\n",
       "<table border=\"1\" class=\"dataframe\">\n",
       "  <thead>\n",
       "    <tr style=\"text-align: right;\">\n",
       "      <th></th>\n",
       "      <th>Random</th>\n",
       "      <th>Test set</th>\n",
       "      <th>Sampled</th>\n",
       "    </tr>\n",
       "    <tr>\n",
       "      <th>Playlist category</th>\n",
       "      <th></th>\n",
       "      <th></th>\n",
       "      <th></th>\n",
       "    </tr>\n",
       "  </thead>\n",
       "  <tbody>\n",
       "    <tr>\n",
       "      <th>Break Up</th>\n",
       "      <td>0.205</td>\n",
       "      <td>0.478125</td>\n",
       "      <td>0.876</td>\n",
       "    </tr>\n",
       "    <tr>\n",
       "      <th>Country</th>\n",
       "      <td>0.100</td>\n",
       "      <td>0.884615</td>\n",
       "      <td>1.000</td>\n",
       "    </tr>\n",
       "    <tr>\n",
       "      <th>Dance/House</th>\n",
       "      <td>0.109</td>\n",
       "      <td>0.595455</td>\n",
       "      <td>0.929</td>\n",
       "    </tr>\n",
       "    <tr>\n",
       "      <th>Depression</th>\n",
       "      <td>0.277</td>\n",
       "      <td>0.503846</td>\n",
       "      <td>0.874</td>\n",
       "    </tr>\n",
       "    <tr>\n",
       "      <th>Hip Hop</th>\n",
       "      <td>0.108</td>\n",
       "      <td>0.942857</td>\n",
       "      <td>1.000</td>\n",
       "    </tr>\n",
       "    <tr>\n",
       "      <th>Punk</th>\n",
       "      <td>0.043</td>\n",
       "      <td>0.489655</td>\n",
       "      <td>0.944</td>\n",
       "    </tr>\n",
       "    <tr>\n",
       "      <th>Rhythm and Blues</th>\n",
       "      <td>0.143</td>\n",
       "      <td>0.848485</td>\n",
       "      <td>1.000</td>\n",
       "    </tr>\n",
       "    <tr>\n",
       "      <th>Rock</th>\n",
       "      <td>0.054</td>\n",
       "      <td>0.240000</td>\n",
       "      <td>0.932</td>\n",
       "    </tr>\n",
       "    <tr>\n",
       "      <th>Romantic</th>\n",
       "      <td>0.228</td>\n",
       "      <td>0.656250</td>\n",
       "      <td>0.893</td>\n",
       "    </tr>\n",
       "    <tr>\n",
       "      <th>Sleep</th>\n",
       "      <td>0.229</td>\n",
       "      <td>0.845714</td>\n",
       "      <td>0.951</td>\n",
       "    </tr>\n",
       "  </tbody>\n",
       "</table>\n",
       "</div>"
      ],
      "text/plain": [
       "                   Random  Test set  Sampled\n",
       "Playlist category                           \n",
       "Break Up            0.205  0.478125    0.876\n",
       "Country             0.100  0.884615    1.000\n",
       "Dance/House         0.109  0.595455    0.929\n",
       "Depression          0.277  0.503846    0.874\n",
       "Hip Hop             0.108  0.942857    1.000\n",
       "Punk                0.043  0.489655    0.944\n",
       "Rhythm and Blues    0.143  0.848485    1.000\n",
       "Rock                0.054  0.240000    0.932\n",
       "Romantic            0.228  0.656250    0.893\n",
       "Sleep               0.229  0.845714    0.951"
      ]
     },
     "execution_count": 693,
     "metadata": {},
     "output_type": "execute_result"
    }
   ],
   "source": [
    "agglomerate_results_per_category(data_path, 'p_cat_out')"
   ]
  },
  {
   "cell_type": "markdown",
   "metadata": {},
   "source": [
    "### Compute final table for experiment 1"
   ]
  },
  {
   "cell_type": "code",
   "execution_count": 513,
   "metadata": {
    "collapsed": false
   },
   "outputs": [
    {
     "data": {
      "text/plain": [
       "test_set    0.260165\n",
       "random      0.141300\n",
       "sampled     0.262500\n",
       "Name: p_cat_out, dtype: float64"
      ]
     },
     "execution_count": 513,
     "metadata": {},
     "output_type": "execute_result"
    }
   ],
   "source": [
    "results_nmf_only.loc['p_cat_out']"
   ]
  },
  {
   "cell_type": "code",
   "execution_count": 515,
   "metadata": {
    "collapsed": false
   },
   "outputs": [
    {
     "data": {
      "text/plain": [
       "test_set    0.534044\n",
       "random      0.139565\n",
       "sampled     0.546162\n",
       "Name: p_cat_out, dtype: float64"
      ]
     },
     "execution_count": 515,
     "metadata": {},
     "output_type": "execute_result"
    }
   ],
   "source": [
    "exp1_s1_playlist_graph_rec.loc['p_cat_out']"
   ]
  },
  {
   "cell_type": "code",
   "execution_count": 541,
   "metadata": {
    "collapsed": false
   },
   "outputs": [
    {
     "data": {
      "text/plain": [
       "test_set    0.543714\n",
       "random      0.210900\n",
       "sampled     0.584900\n",
       "Name: p_cat_out, dtype: float64"
      ]
     },
     "execution_count": 541,
     "metadata": {},
     "output_type": "execute_result"
    }
   ],
   "source": [
    "exp1_s1_results.loc['p_cat_out']"
   ]
  },
  {
   "cell_type": "code",
   "execution_count": 536,
   "metadata": {
    "collapsed": false
   },
   "outputs": [
    {
     "data": {
      "text/plain": [
       "test_set    0.6485\n",
       "random      0.1496\n",
       "sampled     0.9399\n",
       "Name: p_cat_out, dtype: float64"
      ]
     },
     "execution_count": 536,
     "metadata": {},
     "output_type": "execute_result"
    }
   ],
   "source": [
    "exp1_s2_results.loc['p_cat_out']"
   ]
  },
  {
   "cell_type": "code",
   "execution_count": 542,
   "metadata": {
    "collapsed": true
   },
   "outputs": [],
   "source": [
    "res = [results_nmf_only.loc['p_cat_out'], \n",
    "       exp1_s1_playlist_graph_rec.loc['p_cat_out'], \n",
    "       exp1_s1_results.loc['p_cat_out'],\n",
    "       exp1_s2_results.loc['p_cat_out']]\n",
    "exp1_resume = pd.concat(res, axis=1)\n",
    "\n",
    "cols = ['NMF only', 'Playlist graph only', 'NMF + playlist graph', 'NMF + playlist graph with categories']\n",
    "exp1_resume.columns = cols"
   ]
  },
  {
   "cell_type": "code",
   "execution_count": 543,
   "metadata": {
    "collapsed": false
   },
   "outputs": [
    {
     "data": {
      "text/html": [
       "<div style=\"max-height:1000px;max-width:1500px;overflow:auto;\">\n",
       "<table border=\"1\" class=\"dataframe\">\n",
       "  <thead>\n",
       "    <tr style=\"text-align: right;\">\n",
       "      <th></th>\n",
       "      <th>NMF only</th>\n",
       "      <th>Playlist graph only</th>\n",
       "      <th>NMF + playlist graph</th>\n",
       "      <th>NMF + playlist graph with categories</th>\n",
       "    </tr>\n",
       "  </thead>\n",
       "  <tbody>\n",
       "    <tr>\n",
       "      <th>test_set</th>\n",
       "      <td>0.260165</td>\n",
       "      <td>0.534044</td>\n",
       "      <td>0.543714</td>\n",
       "      <td>0.6485</td>\n",
       "    </tr>\n",
       "    <tr>\n",
       "      <th>random</th>\n",
       "      <td>0.141300</td>\n",
       "      <td>0.139565</td>\n",
       "      <td>0.210900</td>\n",
       "      <td>0.1496</td>\n",
       "    </tr>\n",
       "    <tr>\n",
       "      <th>sampled</th>\n",
       "      <td>0.262500</td>\n",
       "      <td>0.546162</td>\n",
       "      <td>0.584900</td>\n",
       "      <td>0.9399</td>\n",
       "    </tr>\n",
       "  </tbody>\n",
       "</table>\n",
       "</div>"
      ],
      "text/plain": [
       "          NMF only  Playlist graph only  NMF + playlist graph  \\\n",
       "test_set  0.260165             0.534044              0.543714   \n",
       "random    0.141300             0.139565              0.210900   \n",
       "sampled   0.262500             0.546162              0.584900   \n",
       "\n",
       "          NMF + playlist graph with categories  \n",
       "test_set                                0.6485  \n",
       "random                                  0.1496  \n",
       "sampled                                 0.9399  "
      ]
     },
     "execution_count": 543,
     "metadata": {},
     "output_type": "execute_result"
    }
   ],
   "source": [
    "exp1_resume"
   ]
  },
  {
   "cell_type": "code",
   "execution_count": 588,
   "metadata": {
    "collapsed": false
   },
   "outputs": [],
   "source": [
    "def f2(x):\n",
    "    return '%1.2f' % x\n",
    "\n",
    "out = os.path.join(EXPERIMENT_DIR, 'exp1_overall_all.tex')\n",
    "towrite = exp1_resume.to_latex(formatters=[f2, f2, f2, f2])\n",
    "with open(out, 'w') as f:\n",
    "    f.write(towrite)"
   ]
  },
  {
   "cell_type": "markdown",
   "metadata": {},
   "source": [
    "## Example of generated playlist"
   ]
  },
  {
   "cell_type": "code",
   "execution_count": 684,
   "metadata": {
    "collapsed": false
   },
   "outputs": [],
   "source": [
    "# SONGS[SONGS.genre == 'Rock'].sort('artist_name')\n",
    "\n",
    "\n",
    "songs = [12676, 76700, 648214]\n",
    "input_df = SONGS.loc[songs]"
   ]
  },
  {
   "cell_type": "code",
   "execution_count": 685,
   "metadata": {
    "collapsed": false
   },
   "outputs": [],
   "source": [
    "output = recog.recommend(songs, SONGS, d['A'], d['B'], 7, SONG_TO_IDX)"
   ]
  },
  {
   "cell_type": "code",
   "execution_count": 686,
   "metadata": {
    "collapsed": true
   },
   "outputs": [],
   "source": [
    "final = pd.concat([input_df, output])"
   ]
  },
  {
   "cell_type": "code",
   "execution_count": 687,
   "metadata": {
    "collapsed": false
   },
   "outputs": [],
   "source": [
    "final = final.sort('energy')[['artist_name', 'title', 'genre']]\n",
    "clean_out = final.reset_index(drop=True)\n",
    "clean_out.index += 1"
   ]
  },
  {
   "cell_type": "code",
   "execution_count": 688,
   "metadata": {
    "collapsed": false
   },
   "outputs": [
    {
     "data": {
      "text/html": [
       "<div style=\"max-height:1000px;max-width:1500px;overflow:auto;\">\n",
       "<table border=\"1\" class=\"dataframe\">\n",
       "  <thead>\n",
       "    <tr style=\"text-align: right;\">\n",
       "      <th></th>\n",
       "      <th>artist_name</th>\n",
       "      <th>title</th>\n",
       "      <th>genre</th>\n",
       "    </tr>\n",
       "  </thead>\n",
       "  <tbody>\n",
       "    <tr>\n",
       "      <th>1</th>\n",
       "      <td>Van Halen</td>\n",
       "      <td>Jump</td>\n",
       "      <td>Rock</td>\n",
       "    </tr>\n",
       "    <tr>\n",
       "      <th>2</th>\n",
       "      <td>Better Than Ezra</td>\n",
       "      <td>Good</td>\n",
       "      <td>Alternative</td>\n",
       "    </tr>\n",
       "    <tr>\n",
       "      <th>3</th>\n",
       "      <td>Survivor</td>\n",
       "      <td>The Eye Of The Tiger</td>\n",
       "      <td>Rock</td>\n",
       "    </tr>\n",
       "    <tr>\n",
       "      <th>4</th>\n",
       "      <td>Bon Jovi</td>\n",
       "      <td>Living on a Prayer</td>\n",
       "      <td>Rock</td>\n",
       "    </tr>\n",
       "    <tr>\n",
       "      <th>5</th>\n",
       "      <td>Count Five</td>\n",
       "      <td>Psychotic Reaction</td>\n",
       "      <td>Psychedelic Rock</td>\n",
       "    </tr>\n",
       "    <tr>\n",
       "      <th>6</th>\n",
       "      <td>Sam Roberts</td>\n",
       "      <td>Don't Walk Away Eileen</td>\n",
       "      <td>Alternative</td>\n",
       "    </tr>\n",
       "    <tr>\n",
       "      <th>7</th>\n",
       "      <td>Aerosmith</td>\n",
       "      <td>Dude (Looks Like a Lady)</td>\n",
       "      <td>Rock</td>\n",
       "    </tr>\n",
       "    <tr>\n",
       "      <th>8</th>\n",
       "      <td>Soundgarden</td>\n",
       "      <td>Jesus Christ Pose</td>\n",
       "      <td>Alternative</td>\n",
       "    </tr>\n",
       "    <tr>\n",
       "      <th>9</th>\n",
       "      <td>Queens of the Stone Age</td>\n",
       "      <td>Little Sister</td>\n",
       "      <td>Alternative</td>\n",
       "    </tr>\n",
       "    <tr>\n",
       "      <th>10</th>\n",
       "      <td>Disturbed</td>\n",
       "      <td>Liberate</td>\n",
       "      <td>Metal</td>\n",
       "    </tr>\n",
       "  </tbody>\n",
       "</table>\n",
       "</div>"
      ],
      "text/plain": [
       "                artist_name                     title             genre\n",
       "1                 Van Halen                      Jump              Rock\n",
       "2          Better Than Ezra                      Good       Alternative\n",
       "3                  Survivor      The Eye Of The Tiger              Rock\n",
       "4                  Bon Jovi        Living on a Prayer              Rock\n",
       "5                Count Five        Psychotic Reaction  Psychedelic Rock\n",
       "6               Sam Roberts    Don't Walk Away Eileen       Alternative\n",
       "7                 Aerosmith  Dude (Looks Like a Lady)              Rock\n",
       "8               Soundgarden         Jesus Christ Pose       Alternative\n",
       "9   Queens of the Stone Age             Little Sister       Alternative\n",
       "10                Disturbed                  Liberate             Metal"
      ]
     },
     "execution_count": 688,
     "metadata": {},
     "output_type": "execute_result"
    }
   ],
   "source": [
    "clean_out"
   ]
  },
  {
   "cell_type": "code",
   "execution_count": 689,
   "metadata": {
    "collapsed": true
   },
   "outputs": [],
   "source": [
    "clean_out.to_latex(os.path.join(EXPERIMENT_DIR, 'example_playlist.tex'))"
   ]
  },
  {
   "cell_type": "code",
   "execution_count": null,
   "metadata": {
    "collapsed": true
   },
   "outputs": [],
   "source": []
  },
  {
   "cell_type": "markdown",
   "metadata": {},
   "source": [
    "## Experiment 2\n",
    "\n",
    "In this experiment we show the diversity of the recommended playlist. It augments if we augment the influence of the graph of songs. We use the STRIPPED playlist graph."
   ]
  },
  {
   "cell_type": "code",
   "execution_count": 545,
   "metadata": {
    "collapsed": true
   },
   "outputs": [],
   "source": [
    "EXPERIMENT_DIR2 = os.path.join(DUMP_DIR, 'experiment2')\n",
    "if not os.path.exists(EXPERIMENT_DIR2):\n",
    "    os.mkdir(EXPERIMENT_DIR2)"
   ]
  },
  {
   "cell_type": "markdown",
   "metadata": {},
   "source": [
    "#### Theta songs = 0"
   ]
  },
  {
   "cell_type": "code",
   "execution_count": 546,
   "metadata": {
    "collapsed": false
   },
   "outputs": [
    {
     "data": {
      "text/html": [
       "<div style=\"max-height:1000px;max-width:1500px;overflow:auto;\">\n",
       "<table border=\"1\" class=\"dataframe\">\n",
       "  <thead>\n",
       "    <tr style=\"text-align: right;\">\n",
       "      <th></th>\n",
       "      <th>test_set</th>\n",
       "      <th>random</th>\n",
       "      <th>sampled</th>\n",
       "    </tr>\n",
       "  </thead>\n",
       "  <tbody>\n",
       "    <tr>\n",
       "      <th>p_cat_out</th>\n",
       "      <td>0.543714</td>\n",
       "      <td>0.210900</td>\n",
       "      <td>0.584900</td>\n",
       "    </tr>\n",
       "    <tr>\n",
       "      <th>s_cluster</th>\n",
       "      <td>-0.176392</td>\n",
       "      <td>-0.168300</td>\n",
       "      <td>-0.165000</td>\n",
       "    </tr>\n",
       "    <tr>\n",
       "      <th>s_genre</th>\n",
       "      <td>0.403024</td>\n",
       "      <td>0.447039</td>\n",
       "      <td>0.392772</td>\n",
       "    </tr>\n",
       "    <tr>\n",
       "      <th>s_graph_dist_in</th>\n",
       "      <td>63.050319</td>\n",
       "      <td>63.543391</td>\n",
       "      <td>62.683222</td>\n",
       "    </tr>\n",
       "    <tr>\n",
       "      <th>s_graph_dist_out</th>\n",
       "      <td>65.255562</td>\n",
       "      <td>65.817303</td>\n",
       "      <td>65.435115</td>\n",
       "    </tr>\n",
       "  </tbody>\n",
       "</table>\n",
       "</div>"
      ],
      "text/plain": [
       "                   test_set     random    sampled\n",
       "p_cat_out          0.543714   0.210900   0.584900\n",
       "s_cluster         -0.176392  -0.168300  -0.165000\n",
       "s_genre            0.403024   0.447039   0.392772\n",
       "s_graph_dist_in   63.050319  63.543391  62.683222\n",
       "s_graph_dist_out  65.255562  65.817303  65.435115"
      ]
     },
     "execution_count": 546,
     "metadata": {},
     "output_type": "execute_result"
    }
   ],
   "source": [
    "exp1_s1_results"
   ]
  },
  {
   "cell_type": "markdown",
   "metadata": {},
   "source": [
    "#### Playlist graph reco only"
   ]
  },
  {
   "cell_type": "code",
   "execution_count": 547,
   "metadata": {
    "collapsed": false
   },
   "outputs": [
    {
     "data": {
      "text/html": [
       "<div style=\"max-height:1000px;max-width:1500px;overflow:auto;\">\n",
       "<table border=\"1\" class=\"dataframe\">\n",
       "  <thead>\n",
       "    <tr style=\"text-align: right;\">\n",
       "      <th></th>\n",
       "      <th>test_set</th>\n",
       "      <th>random</th>\n",
       "      <th>sampled</th>\n",
       "    </tr>\n",
       "  </thead>\n",
       "  <tbody>\n",
       "    <tr>\n",
       "      <th>p_cat_out</th>\n",
       "      <td>0.534044</td>\n",
       "      <td>0.139565</td>\n",
       "      <td>0.546162</td>\n",
       "    </tr>\n",
       "    <tr>\n",
       "      <th>s_cluster</th>\n",
       "      <td>-0.186687</td>\n",
       "      <td>-0.172476</td>\n",
       "      <td>-0.178289</td>\n",
       "    </tr>\n",
       "    <tr>\n",
       "      <th>s_genre</th>\n",
       "      <td>0.290114</td>\n",
       "      <td>0.340844</td>\n",
       "      <td>0.296780</td>\n",
       "    </tr>\n",
       "    <tr>\n",
       "      <th>s_graph_dist_in</th>\n",
       "      <td>63.590160</td>\n",
       "      <td>62.809294</td>\n",
       "      <td>62.896684</td>\n",
       "    </tr>\n",
       "    <tr>\n",
       "      <th>s_graph_dist_out</th>\n",
       "      <td>55.670097</td>\n",
       "      <td>57.210029</td>\n",
       "      <td>57.032354</td>\n",
       "    </tr>\n",
       "  </tbody>\n",
       "</table>\n",
       "</div>"
      ],
      "text/plain": [
       "                   test_set     random    sampled\n",
       "p_cat_out          0.534044   0.139565   0.546162\n",
       "s_cluster         -0.186687  -0.172476  -0.178289\n",
       "s_genre            0.290114   0.340844   0.296780\n",
       "s_graph_dist_in   63.590160  62.809294  62.896684\n",
       "s_graph_dist_out  55.670097  57.210029  57.032354"
      ]
     },
     "execution_count": 547,
     "metadata": {},
     "output_type": "execute_result"
    }
   ],
   "source": [
    "exp1_s1_playlist_graph_rec"
   ]
  },
  {
   "cell_type": "markdown",
   "metadata": {},
   "source": [
    "#### Grid seach theta songs"
   ]
  },
  {
   "cell_type": "code",
   "execution_count": 626,
   "metadata": {
    "collapsed": false
   },
   "outputs": [
    {
     "name": "stdout",
     "output_type": "stream",
     "text": [
      "Validation took 27.2217578888 seconds\n",
      "playlist_category\n",
      "Break Up            0.065625\n",
      "Country             0.346154\n",
      "Dance/House         0.390909\n",
      "Depression          0.115385\n",
      "Hip Hop             0.268571\n",
      "Punk                0.013793\n",
      "Rhythm and Blues    0.836364\n",
      "Rock                0.013333\n",
      "Romantic            0.128125\n",
      "Sleep               0.048571\n",
      "Name: p_cat_out, dtype: float64\n",
      "0.222683048274\n",
      "Step:1 done in 250.167725086 seconds\n",
      "\n",
      "Validation took 27.0409100056 seconds\n",
      "playlist_category\n",
      "Break Up            0.446875\n",
      "Country             0.938462\n",
      "Dance/House         0.740909\n",
      "Depression          0.596154\n",
      "Hip Hop             0.974286\n",
      "Punk                0.082759\n",
      "Rhythm and Blues    0.939394\n",
      "Rock                0.120000\n",
      "Romantic            0.525000\n",
      "Sleep               0.485714\n",
      "Name: p_cat_out, dtype: float64\n",
      "0.584955203561\n",
      "Step:2 done in 258.050352097 seconds\n",
      "\n",
      "Validation took 26.2936770916 seconds\n",
      "playlist_category\n",
      "Break Up            0.331250\n",
      "Country             0.923077\n",
      "Dance/House         0.740909\n",
      "Depression          0.623077\n",
      "Hip Hop             0.954286\n",
      "Punk                0.689655\n",
      "Rhythm and Blues    0.909091\n",
      "Rock                0.320000\n",
      "Romantic            0.453125\n",
      "Sleep               0.697143\n",
      "Name: p_cat_out, dtype: float64\n",
      "0.664161259\n",
      "Step:3 done in 259.187341928 seconds\n",
      "\n",
      "Validation took 26.8279080391 seconds\n",
      "playlist_category\n",
      "Break Up            0.462500\n",
      "Country             0.961538\n",
      "Dance/House         0.754545\n",
      "Depression          0.542308\n",
      "Hip Hop             0.971429\n",
      "Punk                0.734483\n",
      "Rhythm and Blues    0.912121\n",
      "Rock                0.350000\n",
      "Romantic            0.631250\n",
      "Sleep               0.760000\n",
      "Name: p_cat_out, dtype: float64\n",
      "0.708017415056\n",
      "Step:4 done in 262.024942875 seconds\n",
      "\n",
      "Validation took 28.382887125 seconds\n",
      "playlist_category\n",
      "Break Up            0.437500\n",
      "Country             0.923077\n",
      "Dance/House         0.795455\n",
      "Depression          0.550000\n",
      "Hip Hop             0.974286\n",
      "Punk                0.724138\n",
      "Rhythm and Blues    0.915152\n",
      "Rock                0.353333\n",
      "Romantic            0.603125\n",
      "Sleep               0.725714\n",
      "Name: p_cat_out, dtype: float64\n",
      "0.700177924805\n",
      "Step:5 done in 265.093792915 seconds\n",
      "\n",
      "Validation took 28.1304650307 seconds\n",
      "playlist_category\n",
      "Break Up            0.518750\n",
      "Country             0.923077\n",
      "Dance/House         0.740909\n",
      "Depression          0.623077\n",
      "Hip Hop             0.945714\n",
      "Punk                0.724138\n",
      "Rhythm and Blues    0.912121\n",
      "Rock                0.353333\n",
      "Romantic            0.487500\n",
      "Sleep               0.525714\n",
      "Name: p_cat_out, dtype: float64\n",
      "0.675433398498\n",
      "Step:6 done in 264.292845964 seconds\n",
      "\n",
      "Validation took 26.4840171337 seconds\n",
      "playlist_category\n",
      "Break Up            0.559375\n",
      "Country             0.930769\n",
      "Dance/House         0.754545\n",
      "Depression          0.573077\n",
      "Hip Hop             0.942857\n",
      "Punk                0.724138\n",
      "Rhythm and Blues    0.912121\n",
      "Rock                0.350000\n",
      "Romantic            0.515625\n",
      "Sleep               0.551429\n",
      "Name: p_cat_out, dtype: float64\n",
      "0.681393646583\n",
      "Step:7 done in 262.216262817 seconds\n",
      "\n",
      "Max iterations reached 7 steps, reconstruction error: 27.1281172709\n",
      "Total elapsed time: 1821.851861 seconds\n",
      "Validation took 28.4748120308 seconds\n",
      "playlist_category\n",
      "Break Up            0.071875\n",
      "Country             0.384615\n",
      "Dance/House         0.413636\n",
      "Depression          0.123077\n",
      "Hip Hop             0.282857\n",
      "Punk                0.010345\n",
      "Rhythm and Blues    0.824242\n",
      "Rock                0.020000\n",
      "Romantic            0.065625\n",
      "Sleep               0.028571\n",
      "Name: p_cat_out, dtype: float64\n",
      "0.222484449459\n",
      "Step:1 done in 269.02563405 seconds\n",
      "\n",
      "Validation took 29.7638781071 seconds\n",
      "playlist_category\n",
      "Break Up            0.475000\n",
      "Country             0.930769\n",
      "Dance/House         0.727273\n",
      "Depression          0.600000\n",
      "Hip Hop             0.971429\n",
      "Punk                0.100000\n",
      "Rhythm and Blues    0.939394\n",
      "Rock                0.116667\n",
      "Romantic            0.500000\n",
      "Sleep               0.668571\n",
      "Name: p_cat_out, dtype: float64\n",
      "0.60291025641\n",
      "Step:2 done in 271.792922974 seconds\n",
      "\n",
      "Validation took 28.1131880283 seconds\n",
      "playlist_category\n",
      "Break Up            0.496875\n",
      "Country             0.934615\n",
      "Dance/House         0.740909\n",
      "Depression          0.584615\n",
      "Hip Hop             0.974286\n",
      "Punk                0.579310\n",
      "Rhythm and Blues    0.939394\n",
      "Rock                0.293333\n",
      "Romantic            0.371875\n",
      "Sleep               0.671429\n",
      "Name: p_cat_out, dtype: float64\n",
      "0.658664176341\n",
      "Step:3 done in 265.426225185 seconds\n",
      "\n",
      "Validation took 27.9027159214 seconds\n",
      "playlist_category\n",
      "Break Up            0.378125\n",
      "Country             0.884615\n",
      "Dance/House         0.754545\n",
      "Depression          0.488462\n",
      "Hip Hop             0.971429\n",
      "Punk                0.731034\n",
      "Rhythm and Blues    0.912121\n",
      "Rock                0.280000\n",
      "Romantic            0.362500\n",
      "Sleep               0.685714\n",
      "Name: p_cat_out, dtype: float64\n",
      "0.644854592965\n",
      "Step:4 done in 265.261693001 seconds\n",
      "\n",
      "Validation took 27.8102297783 seconds\n",
      "playlist_category\n",
      "Break Up            0.440625\n",
      "Country             0.884615\n",
      "Dance/House         0.763636\n",
      "Depression          0.538462\n",
      "Hip Hop             0.945714\n",
      "Punk                0.703448\n",
      "Rhythm and Blues    0.909091\n",
      "Rock                0.320000\n",
      "Romantic            0.431250\n",
      "Sleep               0.628571\n",
      "Name: p_cat_out, dtype: float64\n",
      "0.656541318595\n",
      "Step:5 done in 266.738540888 seconds\n",
      "\n",
      "Validation took 26.9545938969 seconds\n",
      "playlist_category\n",
      "Break Up            0.346875\n",
      "Country             0.884615\n",
      "Dance/House         0.750000\n",
      "Depression          0.561538\n",
      "Hip Hop             0.971429\n",
      "Punk                0.731034\n",
      "Rhythm and Blues    0.912121\n",
      "Rock                0.360000\n",
      "Romantic            0.425000\n",
      "Sleep               0.634286\n",
      "Name: p_cat_out, dtype: float64\n",
      "0.657689882675\n",
      "Step:6 done in 265.458817959 seconds\n",
      "\n",
      "Validation took 27.9148550034 seconds\n",
      "playlist_category\n",
      "Break Up            0.550000\n",
      "Country             0.884615\n",
      "Dance/House         0.768182\n",
      "Depression          0.488462\n",
      "Hip Hop             0.971429\n",
      "Punk                0.731034\n",
      "Rhythm and Blues    0.912121\n",
      "Rock                0.303333\n",
      "Romantic            0.490625\n",
      "Sleep               0.688571\n",
      "Name: p_cat_out, dtype: float64\n",
      "0.678837276947\n",
      "Step:7 done in 263.909052134 seconds\n",
      "\n",
      "Max iterations reached 7 steps, reconstruction error: 27.1047360873\n",
      "Total elapsed time: 1868.45111704 seconds\n",
      "Validation took 28.1778180599 seconds\n",
      "playlist_category\n",
      "Break Up            0.056250\n",
      "Country             0.415385\n",
      "Dance/House         0.377273\n",
      "Depression          0.115385\n",
      "Hip Hop             0.254286\n",
      "Punk                0.000000\n",
      "Rhythm and Blues    0.890909\n",
      "Rock                0.023333\n",
      "Romantic            0.053125\n",
      "Sleep               0.080000\n",
      "Name: p_cat_out, dtype: float64\n",
      "0.226594509657\n",
      "Step:1 done in 267.886117935 seconds\n",
      "\n",
      "Validation took 27.2835290432 seconds\n",
      "playlist_category\n",
      "Break Up            0.487500\n",
      "Country             0.930769\n",
      "Dance/House         0.781818\n",
      "Depression          0.646154\n",
      "Hip Hop             0.977143\n",
      "Punk                0.362069\n",
      "Rhythm and Blues    0.909091\n",
      "Rock                0.100000\n",
      "Romantic            0.390625\n",
      "Sleep               0.614286\n",
      "Name: p_cat_out, dtype: float64\n",
      "0.619945470478\n",
      "Step:2 done in 262.748504877 seconds\n",
      "\n",
      "Validation took 26.7825610638 seconds\n",
      "playlist_category\n",
      "Break Up            0.293750\n",
      "Country             0.973077\n",
      "Dance/House         0.740909\n",
      "Depression          0.450000\n",
      "Hip Hop             0.945714\n",
      "Punk                0.800000\n",
      "Rhythm and Blues    0.915152\n",
      "Rock                0.156667\n",
      "Romantic            0.350000\n",
      "Sleep               0.840000\n",
      "Name: p_cat_out, dtype: float64\n",
      "0.646526848152\n",
      "Step:3 done in 262.66033411 seconds\n",
      "\n",
      "Validation took 27.0982139111 seconds\n",
      "playlist_category\n",
      "Break Up            0.334375\n",
      "Country             0.961538\n",
      "Dance/House         0.727273\n",
      "Depression          0.538462\n",
      "Hip Hop             0.945714\n",
      "Punk                0.724138\n",
      "Rhythm and Blues    0.912121\n",
      "Rock                0.203333\n",
      "Romantic            0.409375\n",
      "Sleep               0.868571\n",
      "Name: p_cat_out, dtype: float64\n",
      "0.662490091805\n",
      "Step:4 done in 264.42840004 seconds\n",
      "\n",
      "Validation took 27.5300409794 seconds\n",
      "playlist_category\n",
      "Break Up            0.278125\n",
      "Country             0.923077\n",
      "Dance/House         0.681818\n",
      "Depression          0.446154\n",
      "Hip Hop             0.942857\n",
      "Punk                0.731034\n",
      "Rhythm and Blues    0.912121\n",
      "Rock                0.336667\n",
      "Romantic            0.565625\n",
      "Sleep               0.648571\n",
      "Name: p_cat_out, dtype: float64\n",
      "0.646604988402\n",
      "Step:5 done in 264.993186951 seconds\n",
      "\n",
      "Validation took 25.8369119167 seconds\n",
      "playlist_category\n",
      "Break Up            0.284375\n",
      "Country             0.923077\n",
      "Dance/House         0.727273\n",
      "Depression          0.484615\n",
      "Hip Hop             0.971429\n",
      "Punk                0.727586\n",
      "Rhythm and Blues    0.912121\n",
      "Rock                0.383333\n",
      "Romantic            0.506250\n",
      "Sleep               0.708571\n",
      "Name: p_cat_out, dtype: float64\n",
      "0.662863078732\n",
      "Step:6 done in 264.169248104 seconds\n",
      "\n",
      "Validation took 25.8683481216 seconds\n",
      "playlist_category\n",
      "Break Up            0.365625\n",
      "Country             0.884615\n",
      "Dance/House         0.681818\n",
      "Depression          0.403846\n",
      "Hip Hop             0.974286\n",
      "Punk                0.727586\n",
      "Rhythm and Blues    0.912121\n",
      "Rock                0.360000\n",
      "Romantic            0.468750\n",
      "Sleep               0.711429\n",
      "Name: p_cat_out, dtype: float64\n",
      "0.649007642501\n",
      "Step:7 done in 255.598433971 seconds\n",
      "\n",
      "Max iterations reached 7 steps, reconstruction error: 27.2458357711\n",
      "Total elapsed time: 1843.36793399 seconds\n",
      "Validation took 25.7646229267 seconds\n",
      "playlist_category\n",
      "Break Up            0.334375\n",
      "Country             0.200000\n",
      "Dance/House         0.222727\n",
      "Depression          0.300000\n",
      "Hip Hop             0.114286\n",
      "Punk                0.131034\n",
      "Rhythm and Blues    0.606061\n",
      "Rock                0.220000\n",
      "Romantic            0.246875\n",
      "Sleep               0.254286\n",
      "Name: p_cat_out, dtype: float64\n",
      "0.262964379012\n",
      "Step:1 done in 255.14745307 seconds\n",
      "\n",
      "Validation took 26.7873210907 seconds\n",
      "playlist_category\n",
      "Break Up            0.625000\n",
      "Country             0.826923\n",
      "Dance/House         0.490909\n",
      "Depression          0.684615\n",
      "Hip Hop             0.554286\n",
      "Punk                0.144828\n",
      "Rhythm and Blues    0.784848\n",
      "Rock                0.286667\n",
      "Romantic            0.318750\n",
      "Sleep               0.602857\n",
      "Name: p_cat_out, dtype: float64\n",
      "0.531968314731\n",
      "Step:2 done in 258.701173067 seconds\n",
      "\n",
      "Validation took 27.7572000027 seconds\n",
      "playlist_category\n",
      "Break Up            0.653125\n",
      "Country             0.873077\n",
      "Dance/House         0.609091\n",
      "Depression          0.734615\n",
      "Hip Hop             0.748571\n",
      "Punk                0.141379\n",
      "Rhythm and Blues    0.863636\n",
      "Rock                0.433333\n",
      "Romantic            0.462500\n",
      "Sleep               0.571429\n",
      "Name: p_cat_out, dtype: float64\n",
      "0.60907572241\n",
      "Step:3 done in 262.54373908 seconds\n",
      "\n",
      "Validation took 27.9896109104 seconds\n",
      "playlist_category\n",
      "Break Up            0.562500\n",
      "Country             0.884615\n",
      "Dance/House         0.672727\n",
      "Depression          0.615385\n",
      "Hip Hop             0.902857\n",
      "Punk                0.317241\n",
      "Rhythm and Blues    0.866667\n",
      "Rock                0.223333\n",
      "Romantic            0.450000\n",
      "Sleep               0.480000\n",
      "Name: p_cat_out, dtype: float64\n",
      "0.597532579489\n",
      "Step:4 done in 266.340824842 seconds\n",
      "\n",
      "Validation took 29.5451228619 seconds\n",
      "playlist_category\n",
      "Break Up            0.487500\n",
      "Country             0.919231\n",
      "Dance/House         0.750000\n",
      "Depression          0.707692\n",
      "Hip Hop             0.845714\n",
      "Punk                0.531034\n",
      "Rhythm and Blues    0.918182\n",
      "Rock                0.223333\n",
      "Romantic            0.481250\n",
      "Sleep               0.862857\n",
      "Name: p_cat_out, dtype: float64\n",
      "0.672679413977\n",
      "Step:5 done in 268.727944851 seconds\n",
      "\n",
      "Validation took 27.5072350502 seconds\n",
      "playlist_category\n",
      "Break Up            0.440625\n",
      "Country             0.884615\n",
      "Dance/House         0.572727\n",
      "Depression          0.419231\n",
      "Hip Hop             0.891429\n",
      "Punk                0.551724\n",
      "Rhythm and Blues    0.906061\n",
      "Rock                0.403333\n",
      "Romantic            0.515625\n",
      "Sleep               0.611429\n",
      "Name: p_cat_out, dtype: float64\n",
      "0.619679864676\n",
      "Step:6 done in 266.338718891 seconds\n",
      "\n",
      "Validation took 26.7763950825 seconds\n",
      "playlist_category\n",
      "Break Up            0.356250\n",
      "Country             0.884615\n",
      "Dance/House         0.822727\n",
      "Depression          0.546154\n",
      "Hip Hop             0.908571\n",
      "Punk                0.551724\n",
      "Rhythm and Blues    0.896970\n",
      "Rock                0.353333\n",
      "Romantic            0.306250\n",
      "Sleep               0.657143\n",
      "Name: p_cat_out, dtype: float64\n",
      "0.628373795744\n",
      "Step:7 done in 265.557041883 seconds\n",
      "\n",
      "Max iterations reached 7 steps, reconstruction error: 26.6072438623\n",
      "Total elapsed time: 1844.17167711 seconds\n",
      "Validation took 27.6560070515 seconds\n",
      "playlist_category\n",
      "Break Up            0.278125\n",
      "Country             0.080769\n",
      "Dance/House         0.509091\n",
      "Depression          0.257692\n",
      "Hip Hop             0.257143\n",
      "Punk                0.093103\n",
      "Rhythm and Blues    0.884848\n",
      "Rock                0.073333\n",
      "Romantic            0.146875\n",
      "Sleep               0.097143\n",
      "Name: p_cat_out, dtype: float64\n",
      "0.26781234283\n",
      "Step:1 done in 264.841197014 seconds\n",
      "\n",
      "Validation took 26.7619571686 seconds\n",
      "playlist_category\n",
      "Break Up            0.509375\n",
      "Country             0.930769\n",
      "Dance/House         0.640909\n",
      "Depression          0.600000\n",
      "Hip Hop             0.808571\n",
      "Punk                0.072414\n",
      "Rhythm and Blues    0.884848\n",
      "Rock                0.100000\n",
      "Romantic            0.446875\n",
      "Sleep               0.574286\n",
      "Name: p_cat_out, dtype: float64\n",
      "0.556804774249\n",
      "Step:2 done in 263.00127697 seconds\n",
      "\n",
      "Validation took 27.4625139236 seconds\n",
      "playlist_category\n",
      "Break Up            0.543750\n",
      "Country             0.853846\n",
      "Dance/House         0.695455\n",
      "Depression          0.600000\n",
      "Hip Hop             0.811429\n",
      "Punk                0.317241\n",
      "Rhythm and Blues    0.887879\n",
      "Rock                0.263333\n",
      "Romantic            0.403125\n",
      "Sleep               0.582857\n",
      "Name: p_cat_out, dtype: float64\n",
      "0.595891491411\n",
      "Step:3 done in 265.70904398 seconds\n",
      "\n",
      "Validation took 26.7733860016 seconds\n",
      "playlist_category\n",
      "Break Up            0.468750\n",
      "Country             0.853846\n",
      "Dance/House         0.695455\n",
      "Depression          0.507692\n",
      "Hip Hop             0.802857\n",
      "Punk                0.793103\n",
      "Rhythm and Blues    0.909091\n",
      "Rock                0.053333\n",
      "Romantic            0.381250\n",
      "Sleep               0.585714\n",
      "Name: p_cat_out, dtype: float64\n",
      "0.605109212626\n",
      "Step:4 done in 262.922661066 seconds\n",
      "\n",
      "Validation took 27.6492419243 seconds\n",
      "playlist_category\n",
      "Break Up            0.534375\n",
      "Country             0.850000\n",
      "Dance/House         0.695455\n",
      "Depression          0.473077\n",
      "Hip Hop             0.854286\n",
      "Punk                0.827586\n",
      "Rhythm and Blues    0.887879\n",
      "Rock                0.060000\n",
      "Romantic            0.400000\n",
      "Sleep               0.594286\n",
      "Name: p_cat_out, dtype: float64\n",
      "0.617694289188\n",
      "Step:5 done in 262.445449829 seconds\n",
      "\n",
      "Validation took 27.6636788845 seconds\n",
      "playlist_category\n",
      "Break Up            0.518750\n",
      "Country             0.850000\n",
      "Dance/House         0.695455\n",
      "Depression          0.511538\n",
      "Hip Hop             0.822857\n",
      "Punk                0.827586\n",
      "Rhythm and Blues    0.887879\n",
      "Rock                0.083333\n",
      "Romantic            0.403125\n",
      "Sleep               0.602857\n",
      "Name: p_cat_out, dtype: float64\n",
      "0.620338062082\n",
      "Step:6 done in 264.417863846 seconds\n",
      "\n",
      "Validation took 28.0204129219 seconds\n",
      "playlist_category\n",
      "Break Up            0.506250\n",
      "Country             0.850000\n",
      "Dance/House         0.695455\n",
      "Depression          0.469231\n",
      "Hip Hop             0.848571\n",
      "Punk                0.827586\n",
      "Rhythm and Blues    0.887879\n",
      "Rock                0.080000\n",
      "Romantic            0.406250\n",
      "Sleep               0.600000\n",
      "Name: p_cat_out, dtype: float64\n",
      "0.617122173803\n",
      "Step:7 done in 265.42115593 seconds\n",
      "\n",
      "Max iterations reached 7 steps, reconstruction error: 26.68717545\n",
      "Total elapsed time: 1849.59826112 seconds\n",
      "Validation took 26.9820580482 seconds\n",
      "playlist_category\n",
      "Break Up            0.278125\n",
      "Country             0.080769\n",
      "Dance/House         0.509091\n",
      "Depression          0.257692\n",
      "Hip Hop             0.257143\n",
      "Punk                0.093103\n",
      "Rhythm and Blues    0.884848\n",
      "Rock                0.073333\n",
      "Romantic            0.146875\n",
      "Sleep               0.097143\n",
      "Name: p_cat_out, dtype: float64\n",
      "0.26781234283\n",
      "Step:1 done in 265.958925009 seconds\n",
      "\n"
     ]
    },
    {
     "ename": "KeyboardInterrupt",
     "evalue": "",
     "output_type": "error",
     "traceback": [
      "\u001b[0;31m---------------------------------------------------------------------------\u001b[0m",
      "\u001b[0;31mKeyboardInterrupt\u001b[0m                         Traceback (most recent call last)",
      "\u001b[0;32m<ipython-input-626-026ef22e52e5>\u001b[0m in \u001b[0;36m<module>\u001b[0;34m()\u001b[0m\n\u001b[1;32m     16\u001b[0m     \u001b[0;32mreturn\u001b[0m \u001b[0mresults\u001b[0m\u001b[0;34m\u001b[0m\u001b[0m\n\u001b[1;32m     17\u001b[0m \u001b[0;34m\u001b[0m\u001b[0m\n\u001b[0;32m---> 18\u001b[0;31m \u001b[0mresults_gs_theta_song_exp2\u001b[0m \u001b[0;34m=\u001b[0m \u001b[0mgrid_search_theta_song\u001b[0m\u001b[0;34m(\u001b[0m\u001b[0;34m)\u001b[0m\u001b[0;34m\u001b[0m\u001b[0m\n\u001b[0m\u001b[1;32m     19\u001b[0m \u001b[0mexp2_d\u001b[0m \u001b[0;34m=\u001b[0m \u001b[0mfind_best_theta\u001b[0m\u001b[0;34m(\u001b[0m\u001b[0mresults_gs_theta_song_exp2\u001b[0m\u001b[0;34m)\u001b[0m\u001b[0;34m\u001b[0m\u001b[0m\n\u001b[1;32m     20\u001b[0m \u001b[0mdata_path\u001b[0m \u001b[0;34m=\u001b[0m \u001b[0mos\u001b[0m\u001b[0;34m.\u001b[0m\u001b[0mpath\u001b[0m\u001b[0;34m.\u001b[0m\u001b[0mjoin\u001b[0m\u001b[0;34m(\u001b[0m\u001b[0mSCENARIO_DIR2\u001b[0m\u001b[0;34m,\u001b[0m \u001b[0;34m'exp2_best_theta_s'\u001b[0m \u001b[0;34m+\u001b[0m \u001b[0mstr\u001b[0m\u001b[0;34m(\u001b[0m\u001b[0mexp2_d\u001b[0m\u001b[0;34m[\u001b[0m\u001b[0;34m'theta_song'\u001b[0m\u001b[0;34m]\u001b[0m\u001b[0;34m)\u001b[0m\u001b[0;34m)\u001b[0m\u001b[0;34m\u001b[0m\u001b[0m\n",
      "\u001b[0;32m<ipython-input-626-026ef22e52e5>\u001b[0m in \u001b[0;36mgrid_search_theta_song\u001b[0;34m()\u001b[0m\n\u001b[1;32m     10\u001b[0m                                        \u001b[0mtheta_tv_b\u001b[0m\u001b[0;34m=\u001b[0m\u001b[0mtheta\u001b[0m\u001b[0;34m,\u001b[0m\u001b[0;34m\u001b[0m\u001b[0m\n\u001b[1;32m     11\u001b[0m                                        \u001b[0mdata_path\u001b[0m\u001b[0;34m=\u001b[0m\u001b[0mdata_path\u001b[0m\u001b[0;34m,\u001b[0m\u001b[0;34m\u001b[0m\u001b[0m\n\u001b[0;32m---> 12\u001b[0;31m                                        verbose=1, validation_func=valid_func)\n\u001b[0m\u001b[1;32m     13\u001b[0m         \u001b[0md\u001b[0m\u001b[0;34m[\u001b[0m\u001b[0;34m'a'\u001b[0m\u001b[0;34m]\u001b[0m \u001b[0;34m=\u001b[0m \u001b[0ma\u001b[0m\u001b[0;34m\u001b[0m\u001b[0m\n\u001b[1;32m     14\u001b[0m         \u001b[0md\u001b[0m\u001b[0;34m[\u001b[0m\u001b[0;34m'b'\u001b[0m\u001b[0;34m]\u001b[0m \u001b[0;34m=\u001b[0m \u001b[0mb\u001b[0m\u001b[0;34m\u001b[0m\u001b[0m\n",
      "\u001b[0;32m/Users/kikohs/work/recog/recog/recommender.py\u001b[0m in \u001b[0;36mproximal_training\u001b[0;34m(C, WA, WB, rank, Obs, theta_tv_a, theta_tv_b, max_outer_iter, max_inner_iter, A, B, data_path, load_from_disk, validation_func, random_init, verbose)\u001b[0m\n\u001b[1;32m    211\u001b[0m         \u001b[0;32mif\u001b[0m \u001b[0mverbose\u001b[0m \u001b[0;34m>\u001b[0m \u001b[0;36m0\u001b[0m\u001b[0;34m:\u001b[0m\u001b[0;34m\u001b[0m\u001b[0m\n\u001b[1;32m    212\u001b[0m             \u001b[0;32mif\u001b[0m \u001b[0mvalidation_func\u001b[0m \u001b[0;32mis\u001b[0m \u001b[0;32mnot\u001b[0m \u001b[0mNone\u001b[0m\u001b[0;34m:\u001b[0m\u001b[0;34m\u001b[0m\u001b[0m\n\u001b[0;32m--> 213\u001b[0;31m                 \u001b[0mt\u001b[0m \u001b[0;34m=\u001b[0m \u001b[0mvalidation_func\u001b[0m\u001b[0;34m(\u001b[0m\u001b[0mnp\u001b[0m\u001b[0;34m.\u001b[0m\u001b[0marray\u001b[0m\u001b[0;34m(\u001b[0m\u001b[0mA\u001b[0m\u001b[0;34m)\u001b[0m\u001b[0;34m,\u001b[0m \u001b[0mnp\u001b[0m\u001b[0;34m.\u001b[0m\u001b[0marray\u001b[0m\u001b[0;34m(\u001b[0m\u001b[0mB\u001b[0m\u001b[0;34m)\u001b[0m\u001b[0;34m)\u001b[0m\u001b[0;34m\u001b[0m\u001b[0m\n\u001b[0m\u001b[1;32m    214\u001b[0m                 \u001b[0;32mprint\u001b[0m \u001b[0mt\u001b[0m\u001b[0;34m\u001b[0m\u001b[0m\n\u001b[1;32m    215\u001b[0m                 \u001b[0;32mprint\u001b[0m \u001b[0mt\u001b[0m\u001b[0;34m.\u001b[0m\u001b[0mmean\u001b[0m\u001b[0;34m(\u001b[0m\u001b[0;34m)\u001b[0m\u001b[0;34m\u001b[0m\u001b[0m\n",
      "\u001b[0;32m<ipython-input-626-026ef22e52e5>\u001b[0m in \u001b[0;36m<lambda>\u001b[0;34m(x, y)\u001b[0m\n\u001b[0;32m----> 1\u001b[0;31m \u001b[0mvalid_func\u001b[0m \u001b[0;34m=\u001b[0m \u001b[0;32mlambda\u001b[0m \u001b[0mx\u001b[0m\u001b[0;34m,\u001b[0m \u001b[0my\u001b[0m\u001b[0;34m:\u001b[0m \u001b[0mrun_validation\u001b[0m\u001b[0;34m(\u001b[0m\u001b[0mdata_path\u001b[0m\u001b[0;34m,\u001b[0m \u001b[0mx\u001b[0m\u001b[0;34m,\u001b[0m \u001b[0my\u001b[0m\u001b[0;34m,\u001b[0m \u001b[0msample_size\u001b[0m\u001b[0;34m=\u001b[0m\u001b[0;36m0\u001b[0m\u001b[0;34m,\u001b[0m \u001b[0monly_test_set\u001b[0m\u001b[0;34m=\u001b[0m\u001b[0mTrue\u001b[0m\u001b[0;34m)\u001b[0m\u001b[0;34m[\u001b[0m\u001b[0;34m'p_cat_out'\u001b[0m\u001b[0;34m]\u001b[0m\u001b[0;34m\u001b[0m\u001b[0m\n\u001b[0m\u001b[1;32m      2\u001b[0m \u001b[0;32mdef\u001b[0m \u001b[0mgrid_search_theta_song\u001b[0m\u001b[0;34m(\u001b[0m\u001b[0;34m)\u001b[0m\u001b[0;34m:\u001b[0m\u001b[0;34m\u001b[0m\u001b[0m\n\u001b[1;32m      3\u001b[0m     \u001b[0mresults\u001b[0m \u001b[0;34m=\u001b[0m \u001b[0;34m[\u001b[0m\u001b[0;34m]\u001b[0m\u001b[0;34m\u001b[0m\u001b[0m\n\u001b[1;32m      4\u001b[0m     \u001b[0;32mfor\u001b[0m \u001b[0mtheta\u001b[0m \u001b[0;32min\u001b[0m \u001b[0;34m[\u001b[0m\u001b[0;36m0.001\u001b[0m\u001b[0;34m,\u001b[0m \u001b[0;36m0.01\u001b[0m\u001b[0;34m,\u001b[0m \u001b[0;36m0.1\u001b[0m\u001b[0;34m,\u001b[0m \u001b[0;36m1\u001b[0m\u001b[0;34m,\u001b[0m \u001b[0;36m10\u001b[0m\u001b[0;34m,\u001b[0m \u001b[0;36m100\u001b[0m\u001b[0;34m]\u001b[0m\u001b[0;34m:\u001b[0m\u001b[0;34m\u001b[0m\u001b[0m\n\u001b[1;32m      5\u001b[0m         \u001b[0md\u001b[0m \u001b[0;34m=\u001b[0m \u001b[0;34m{\u001b[0m\u001b[0;34m'theta_song'\u001b[0m\u001b[0;34m:\u001b[0m \u001b[0mtheta\u001b[0m\u001b[0;34m}\u001b[0m\u001b[0;34m\u001b[0m\u001b[0m\n",
      "\u001b[0;32m<ipython-input-584-41fa68cd96c0>\u001b[0m in \u001b[0;36mrun_validation\u001b[0;34m(data_path, A, B, method, sample_size, top_k_playlist, score_playlist_cat_only, with_sampled_playlists, only_test_set)\u001b[0m\n\u001b[1;32m    105\u001b[0m                                                         PAIR_DISTANCES, score_playlist_cat_only)\n\u001b[1;32m    106\u001b[0m \u001b[0;34m\u001b[0m\u001b[0m\n\u001b[0;32m--> 107\u001b[0;31m     \u001b[0mresults_test\u001b[0m \u001b[0;34m=\u001b[0m \u001b[0mscores_from_mix_df\u001b[0m\u001b[0;34m(\u001b[0m\u001b[0mMIXES_test\u001b[0m\u001b[0;34m,\u001b[0m \u001b[0mSONGS\u001b[0m\u001b[0;34m,\u001b[0m \u001b[0mreco_f\u001b[0m\u001b[0;34m,\u001b[0m \u001b[0mscore_func\u001b[0m\u001b[0;34m,\u001b[0m \u001b[0msample_size\u001b[0m\u001b[0;34m)\u001b[0m\u001b[0;34m\u001b[0m\u001b[0m\n\u001b[0m\u001b[1;32m    108\u001b[0m     \u001b[0;32mif\u001b[0m \u001b[0monly_test_set\u001b[0m\u001b[0;34m:\u001b[0m\u001b[0;34m\u001b[0m\u001b[0m\n\u001b[1;32m    109\u001b[0m         \u001b[0;32mprint\u001b[0m \u001b[0;34m'Validation took {} seconds'\u001b[0m\u001b[0;34m.\u001b[0m\u001b[0mformat\u001b[0m\u001b[0;34m(\u001b[0m\u001b[0mtime\u001b[0m\u001b[0;34m.\u001b[0m\u001b[0mtime\u001b[0m\u001b[0;34m(\u001b[0m\u001b[0;34m)\u001b[0m \u001b[0;34m-\u001b[0m \u001b[0mstart\u001b[0m\u001b[0;34m)\u001b[0m\u001b[0;34m\u001b[0m\u001b[0m\n",
      "\u001b[0;32m<ipython-input-584-41fa68cd96c0>\u001b[0m in \u001b[0;36mscores_from_mix_df\u001b[0;34m(mix_df, song_df, reco_func, score_func, sample_size)\u001b[0m\n\u001b[1;32m     69\u001b[0m             \u001b[0msongs\u001b[0m \u001b[0;34m=\u001b[0m \u001b[0mnp\u001b[0m\u001b[0;34m.\u001b[0m\u001b[0mrandom\u001b[0m\u001b[0;34m.\u001b[0m\u001b[0mchoice\u001b[0m\u001b[0;34m(\u001b[0m\u001b[0msongs\u001b[0m\u001b[0;34m,\u001b[0m \u001b[0mmin\u001b[0m\u001b[0;34m(\u001b[0m\u001b[0msample_size\u001b[0m\u001b[0;34m,\u001b[0m \u001b[0mlen\u001b[0m\u001b[0;34m(\u001b[0m\u001b[0msongs\u001b[0m\u001b[0;34m)\u001b[0m\u001b[0;34m)\u001b[0m\u001b[0;34m,\u001b[0m \u001b[0mreplace\u001b[0m\u001b[0;34m=\u001b[0m\u001b[0mFalse\u001b[0m\u001b[0;34m)\u001b[0m\u001b[0;34m\u001b[0m\u001b[0m\n\u001b[1;32m     70\u001b[0m \u001b[0;34m\u001b[0m\u001b[0m\n\u001b[0;32m---> 71\u001b[0;31m         \u001b[0mreco_df\u001b[0m \u001b[0;34m=\u001b[0m \u001b[0mreco_func\u001b[0m\u001b[0;34m(\u001b[0m\u001b[0msongs\u001b[0m\u001b[0;34m)\u001b[0m\u001b[0;34m\u001b[0m\u001b[0m\n\u001b[0m\u001b[1;32m     72\u001b[0m         \u001b[0minput_df\u001b[0m \u001b[0;34m=\u001b[0m \u001b[0msong_df\u001b[0m\u001b[0;34m.\u001b[0m\u001b[0mloc\u001b[0m\u001b[0;34m[\u001b[0m\u001b[0msongs\u001b[0m\u001b[0;34m]\u001b[0m\u001b[0;34m\u001b[0m\u001b[0m\n\u001b[1;32m     73\u001b[0m         \u001b[0mscores\u001b[0m \u001b[0;34m=\u001b[0m \u001b[0mscore_func\u001b[0m\u001b[0;34m(\u001b[0m\u001b[0mreco_df\u001b[0m\u001b[0;34m,\u001b[0m \u001b[0minput_df\u001b[0m\u001b[0;34m,\u001b[0m \u001b[0mp_category\u001b[0m\u001b[0;34m)\u001b[0m\u001b[0;34m\u001b[0m\u001b[0m\n",
      "\u001b[0;32m<ipython-input-584-41fa68cd96c0>\u001b[0m in \u001b[0;36m<lambda>\u001b[0;34m(x)\u001b[0m\n\u001b[1;32m     87\u001b[0m     \u001b[0mreco_f\u001b[0m \u001b[0;34m=\u001b[0m \u001b[0mNone\u001b[0m\u001b[0;34m\u001b[0m\u001b[0m\n\u001b[1;32m     88\u001b[0m     \u001b[0;32mif\u001b[0m \u001b[0mmethod\u001b[0m \u001b[0;34m==\u001b[0m \u001b[0;36m0\u001b[0m\u001b[0;34m:\u001b[0m\u001b[0;34m\u001b[0m\u001b[0m\n\u001b[0;32m---> 89\u001b[0;31m         \u001b[0mreco_f\u001b[0m \u001b[0;34m=\u001b[0m \u001b[0;32mlambda\u001b[0m \u001b[0mx\u001b[0m\u001b[0;34m:\u001b[0m \u001b[0mrecog\u001b[0m\u001b[0;34m.\u001b[0m\u001b[0mrecommend\u001b[0m\u001b[0;34m(\u001b[0m\u001b[0mx\u001b[0m\u001b[0;34m,\u001b[0m \u001b[0mSONGS\u001b[0m\u001b[0;34m,\u001b[0m \u001b[0mA\u001b[0m\u001b[0;34m,\u001b[0m \u001b[0mB\u001b[0m\u001b[0;34m,\u001b[0m \u001b[0mPLAYLIST_SIZE\u001b[0m\u001b[0;34m,\u001b[0m \u001b[0mSONG_TO_IDX\u001b[0m\u001b[0;34m,\u001b[0m \u001b[0mtop_k_playlist\u001b[0m\u001b[0;34m)\u001b[0m\u001b[0;34m\u001b[0m\u001b[0m\n\u001b[0m\u001b[1;32m     90\u001b[0m     \u001b[0;32melif\u001b[0m \u001b[0mmethod\u001b[0m \u001b[0;34m==\u001b[0m \u001b[0;36m1\u001b[0m\u001b[0;34m:\u001b[0m\u001b[0;34m\u001b[0m\u001b[0m\n\u001b[1;32m     91\u001b[0m         reco_f = lambda x: recog.recommend_playlist_graph_only(x, SONGS, MIXES_train,\n",
      "\u001b[0;32m/Users/kikohs/work/recog/recog/notebook.py\u001b[0m in \u001b[0;36mrecommend\u001b[0;34m(songs, song_df, A, B, playlist_size, idmap, top_k_playlists, threshold)\u001b[0m\n\u001b[1;32m    177\u001b[0m     \u001b[0mkeypoints\u001b[0m \u001b[0;34m=\u001b[0m \u001b[0mmap\u001b[0m\u001b[0;34m(\u001b[0m\u001b[0;32mlambda\u001b[0m \u001b[0mx\u001b[0m\u001b[0;34m:\u001b[0m \u001b[0;34m(\u001b[0m\u001b[0mx\u001b[0m\u001b[0;34m,\u001b[0m \u001b[0;36m1\u001b[0m\u001b[0;34m)\u001b[0m\u001b[0;34m,\u001b[0m \u001b[0msongs\u001b[0m\u001b[0;34m)\u001b[0m\u001b[0;34m\u001b[0m\u001b[0m\n\u001b[1;32m    178\u001b[0m     reco_idx, _ = recommender.recommend_from_keypoints(A, B, keypoints,\n\u001b[0;32m--> 179\u001b[0;31m                                                        playlist_size, idmap, threshold, top_k_playlists)\n\u001b[0m\u001b[1;32m    180\u001b[0m     \u001b[0;32mreturn\u001b[0m \u001b[0msong_df\u001b[0m\u001b[0;34m.\u001b[0m\u001b[0miloc\u001b[0m\u001b[0;34m[\u001b[0m\u001b[0mreco_idx\u001b[0m\u001b[0;34m]\u001b[0m\u001b[0;34m\u001b[0m\u001b[0m\n\u001b[1;32m    181\u001b[0m \u001b[0;34m\u001b[0m\u001b[0m\n",
      "\u001b[0;32m/Users/kikohs/work/recog/recog/recommender.py\u001b[0m in \u001b[0;36mrecommend_from_keypoints\u001b[0;34m(A, B, keypoints, k, idmap, threshold, knn_A)\u001b[0m\n\u001b[1;32m    303\u001b[0m     \u001b[0;31m# Filter numeric errors\u001b[0m\u001b[0;34m\u001b[0m\u001b[0;34m\u001b[0m\u001b[0m\n\u001b[1;32m    304\u001b[0m     \u001b[0mmask\u001b[0m \u001b[0;34m=\u001b[0m \u001b[0mraw\u001b[0m \u001b[0;34m>\u001b[0m \u001b[0mthreshold\u001b[0m\u001b[0;34m\u001b[0m\u001b[0m\n\u001b[0;32m--> 305\u001b[0;31m     \u001b[0mpoints\u001b[0m \u001b[0;34m=\u001b[0m \u001b[0mraw\u001b[0m\u001b[0;34m[\u001b[0m\u001b[0mmask\u001b[0m\u001b[0;34m]\u001b[0m\u001b[0;34m\u001b[0m\u001b[0m\n\u001b[0m\u001b[1;32m    306\u001b[0m     \u001b[0mnb_elems\u001b[0m \u001b[0;34m=\u001b[0m \u001b[0mmin\u001b[0m\u001b[0;34m(\u001b[0m\u001b[0mk\u001b[0m\u001b[0;34m,\u001b[0m \u001b[0mlen\u001b[0m\u001b[0;34m(\u001b[0m\u001b[0mpoints\u001b[0m\u001b[0;34m)\u001b[0m\u001b[0;34m)\u001b[0m\u001b[0;34m\u001b[0m\u001b[0m\n\u001b[1;32m    307\u001b[0m     \u001b[0;31m# Get valid subset of songs\u001b[0m\u001b[0;34m\u001b[0m\u001b[0;34m\u001b[0m\u001b[0m\n",
      "\u001b[0;31mKeyboardInterrupt\u001b[0m: "
     ]
    }
   ],
   "source": [
    "valid_func = lambda x, y: run_validation(data_path, x, y, sample_size=0, only_test_set=True)['p_cat_out']\n",
    "def grid_search_theta_song():\n",
    "    results = []\n",
    "    for theta in [0.001, 0.01, 0.1, 1, 10, 100]:\n",
    "        d = {'theta_song': theta}\n",
    "        data_path = os.path.join(EXPERIMENT_DIR2, 'exp2_theta_s_' + str(theta))\n",
    "        d['data_path'] = data_path\n",
    "        a, b = recog.proximal_training(C_train, PLAYLIST_GRAPH_train, SONG_GRAPH, RANK,\n",
    "                                       theta_tv_a=best_theta_p_s2,\n",
    "                                       theta_tv_b=theta,\n",
    "                                       data_path=data_path,\n",
    "                                       verbose=1, validation_func=valid_func)\n",
    "        d['a'] = a\n",
    "        d['b'] = b\n",
    "        results.append(d)\n",
    "    return results\n",
    "\n",
    "results_gs_theta_song_exp2 = grid_search_theta_song()\n",
    "exp2_d = find_best_theta(results_gs_theta_song_exp2)\n",
    "data_path = os.path.join(SCENARIO_DIR2, 'exp2_best_theta_s' + str(exp2_d['theta_song']))\n",
    "np.savez(data_path, A=exp2_d['a'], B=exp2_d['b'])\n",
    "print 'Best theta song:', exp2_d['theta_song']"
   ]
  },
  {
   "cell_type": "code",
   "execution_count": null,
   "metadata": {
    "collapsed": true
   },
   "outputs": [],
   "source": []
  },
  {
   "cell_type": "code",
   "execution_count": null,
   "metadata": {
    "collapsed": true
   },
   "outputs": [],
   "source": []
  },
  {
   "cell_type": "code",
   "execution_count": null,
   "metadata": {
    "collapsed": true
   },
   "outputs": [],
   "source": []
  },
  {
   "cell_type": "code",
   "execution_count": null,
   "metadata": {
    "collapsed": true
   },
   "outputs": [],
   "source": []
  },
  {
   "cell_type": "code",
   "execution_count": null,
   "metadata": {
    "collapsed": true
   },
   "outputs": [],
   "source": []
  },
  {
   "cell_type": "code",
   "execution_count": null,
   "metadata": {
    "collapsed": true
   },
   "outputs": [],
   "source": []
  },
  {
   "cell_type": "code",
   "execution_count": null,
   "metadata": {
    "collapsed": true
   },
   "outputs": [],
   "source": []
  },
  {
   "cell_type": "markdown",
   "metadata": {},
   "source": [
    "### Theta song = 0.1"
   ]
  },
  {
   "cell_type": "code",
   "execution_count": 606,
   "metadata": {
    "collapsed": true
   },
   "outputs": [],
   "source": [
    "exp2_theta_s = 0.1\n",
    "data_path = os.path.join(EXPERIMENT_DIR2, 'exp2_theta_s_' + str(exp2_theta_s))"
   ]
  },
  {
   "cell_type": "code",
   "execution_count": 607,
   "metadata": {
    "collapsed": false
   },
   "outputs": [
    {
     "name": "stdout",
     "output_type": "stream",
     "text": [
      "Max iterations reached 7 steps, reconstruction error: 26.7539953849\n",
      "Total elapsed time: 1683.433532 seconds\n"
     ]
    }
   ],
   "source": [
    "A_theta_s01, B_theta_s01 = recog.proximal_training(C_train, PLAYLIST_GRAPH_train, SONG_GRAPH, RANK,\n",
    "                               theta_tv_a=best_theta_p_s2,\n",
    "                               theta_tv_b=exp2_theta_s,\n",
    "                               data_path=data_path)"
   ]
  },
  {
   "cell_type": "code",
   "execution_count": 608,
   "metadata": {
    "collapsed": false
   },
   "outputs": [
    {
     "name": "stdout",
     "output_type": "stream",
     "text": [
      "Validation took 210.428001165 seconds\n"
     ]
    }
   ],
   "source": [
    "data_path = os.path.join(EXPERIMENT_DIR2, 'exp2_theta_s_' + str(exp2_theta_s))\n",
    "d = np.load(data_path + '.npz')\n",
    "exp2_theta_s01 = run_validation(data_path, d['A'], d['B'])"
   ]
  },
  {
   "cell_type": "code",
   "execution_count": 609,
   "metadata": {
    "collapsed": false
   },
   "outputs": [
    {
     "data": {
      "text/html": [
       "<div style=\"max-height:1000px;max-width:1500px;overflow:auto;\">\n",
       "<table border=\"1\" class=\"dataframe\">\n",
       "  <thead>\n",
       "    <tr style=\"text-align: right;\">\n",
       "      <th></th>\n",
       "      <th>test_set</th>\n",
       "      <th>random</th>\n",
       "      <th>sampled</th>\n",
       "    </tr>\n",
       "  </thead>\n",
       "  <tbody>\n",
       "    <tr>\n",
       "      <th>p_cat_out</th>\n",
       "      <td>0.619609</td>\n",
       "      <td>0.157400</td>\n",
       "      <td>0.889500</td>\n",
       "    </tr>\n",
       "    <tr>\n",
       "      <th>s_cluster</th>\n",
       "      <td>-0.194854</td>\n",
       "      <td>-0.202467</td>\n",
       "      <td>-0.181433</td>\n",
       "    </tr>\n",
       "    <tr>\n",
       "      <th>s_genre</th>\n",
       "      <td>0.346132</td>\n",
       "      <td>0.396505</td>\n",
       "      <td>0.308329</td>\n",
       "    </tr>\n",
       "    <tr>\n",
       "      <th>s_graph_dist_in</th>\n",
       "      <td>61.967175</td>\n",
       "      <td>62.555962</td>\n",
       "      <td>63.591385</td>\n",
       "    </tr>\n",
       "    <tr>\n",
       "      <th>s_graph_dist_out</th>\n",
       "      <td>64.944749</td>\n",
       "      <td>64.845247</td>\n",
       "      <td>64.708963</td>\n",
       "    </tr>\n",
       "  </tbody>\n",
       "</table>\n",
       "</div>"
      ],
      "text/plain": [
       "                   test_set     random    sampled\n",
       "p_cat_out          0.619609   0.157400   0.889500\n",
       "s_cluster         -0.194854  -0.202467  -0.181433\n",
       "s_genre            0.346132   0.396505   0.308329\n",
       "s_graph_dist_in   61.967175  62.555962  63.591385\n",
       "s_graph_dist_out  64.944749  64.845247  64.708963"
      ]
     },
     "execution_count": 609,
     "metadata": {},
     "output_type": "execute_result"
    }
   ],
   "source": [
    "exp2_theta_s01"
   ]
  },
  {
   "cell_type": "code",
   "execution_count": 610,
   "metadata": {
    "collapsed": false
   },
   "outputs": [
    {
     "data": {
      "text/plain": [
       "test_set    25.536562\n",
       "random      25.550529\n",
       "sampled     25.863349\n",
       "dtype: float64"
      ]
     },
     "execution_count": 610,
     "metadata": {},
     "output_type": "execute_result"
    }
   ],
   "source": [
    "exp2_theta_s01.mean()"
   ]
  },
  {
   "cell_type": "markdown",
   "metadata": {},
   "source": [
    "### Theta song = 1"
   ]
  },
  {
   "cell_type": "code",
   "execution_count": 611,
   "metadata": {
    "collapsed": true
   },
   "outputs": [],
   "source": [
    "exp2_theta_s = 1\n",
    "data_path = os.path.join(EXPERIMENT_DIR2, 'exp2_theta_s_' + str(exp2_theta_s))"
   ]
  },
  {
   "cell_type": "code",
   "execution_count": 612,
   "metadata": {
    "collapsed": false
   },
   "outputs": [
    {
     "name": "stdout",
     "output_type": "stream",
     "text": [
      "Max iterations reached 7 steps, reconstruction error: 26.6036742219\n",
      "Total elapsed time: 1673.67710209 seconds\n"
     ]
    }
   ],
   "source": [
    "A_theta_s1, B_theta_s1 = recog.proximal_training(C_train, PLAYLIST_GRAPH_train, SONG_GRAPH, RANK,\n",
    "                               theta_tv_a=best_theta_p_s1,\n",
    "                               theta_tv_b=exp2_theta_s,\n",
    "                               data_path=data_path)"
   ]
  },
  {
   "cell_type": "code",
   "execution_count": 613,
   "metadata": {
    "collapsed": false
   },
   "outputs": [
    {
     "name": "stdout",
     "output_type": "stream",
     "text": [
      "Validation took 208.938486099 seconds\n"
     ]
    }
   ],
   "source": [
    "data_path = os.path.join(EXPERIMENT_DIR2, 'exp2_theta_s_' + str(exp2_theta_s))\n",
    "d = np.load(data_path + '.npz')\n",
    "exp2_theta_s1 = run_validation(data_path, d['A'], d['B'])"
   ]
  },
  {
   "cell_type": "code",
   "execution_count": 614,
   "metadata": {
    "collapsed": false
   },
   "outputs": [
    {
     "data": {
      "text/plain": [
       "test_set    26.100112\n",
       "random      26.430550\n",
       "sampled     26.585384\n",
       "dtype: float64"
      ]
     },
     "execution_count": 614,
     "metadata": {},
     "output_type": "execute_result"
    }
   ],
   "source": [
    "exp2_theta_s1.mean()"
   ]
  },
  {
   "cell_type": "markdown",
   "metadata": {},
   "source": [
    "#### Theta song = 10"
   ]
  },
  {
   "cell_type": "code",
   "execution_count": 615,
   "metadata": {
    "collapsed": true
   },
   "outputs": [],
   "source": [
    "exp2_theta_s = 10\n",
    "data_path = os.path.join(EXPERIMENT_DIR2, 'exp2_theta_s_' + str(exp2_theta_s))"
   ]
  },
  {
   "cell_type": "code",
   "execution_count": 616,
   "metadata": {
    "collapsed": false
   },
   "outputs": [
    {
     "name": "stdout",
     "output_type": "stream",
     "text": [
      "Max iterations reached 7 steps, reconstruction error: 26.6854183735\n",
      "Total elapsed time: 1567.74781919 seconds\n"
     ]
    }
   ],
   "source": [
    "A_theta_s10, B_theta_s10 = recog.proximal_training(C_train, PLAYLIST_GRAPH_train, SONG_GRAPH, RANK,\n",
    "                               theta_tv_a=best_theta_p_s1,\n",
    "                               theta_tv_b=exp2_theta_s,\n",
    "                               data_path=data_path)"
   ]
  },
  {
   "cell_type": "code",
   "execution_count": 617,
   "metadata": {
    "collapsed": false
   },
   "outputs": [
    {
     "name": "stdout",
     "output_type": "stream",
     "text": [
      "Validation took 192.416074038 seconds\n"
     ]
    }
   ],
   "source": [
    "data_path = os.path.join(EXPERIMENT_DIR2, 'exp2_theta_s_' + str(exp2_theta_s))\n",
    "d = np.load(data_path + '.npz')\n",
    "exp2_theta_s10 = run_validation(data_path, d['A'], d['B'])"
   ]
  },
  {
   "cell_type": "code",
   "execution_count": 618,
   "metadata": {
    "collapsed": false
   },
   "outputs": [
    {
     "data": {
      "text/plain": [
       "test_set    28.678512\n",
       "random      28.715672\n",
       "sampled     28.756311\n",
       "dtype: float64"
      ]
     },
     "execution_count": 618,
     "metadata": {},
     "output_type": "execute_result"
    }
   ],
   "source": [
    "exp2_theta_s10.mean()"
   ]
  },
  {
   "cell_type": "markdown",
   "metadata": {},
   "source": [
    "### Theta song = 100"
   ]
  },
  {
   "cell_type": "code",
   "execution_count": 619,
   "metadata": {
    "collapsed": true
   },
   "outputs": [],
   "source": [
    "exp2_theta_s = 100\n",
    "data_path = os.path.join(EXPERIMENT_DIR2, 'exp2_theta_s_' + str(exp2_theta_s))"
   ]
  },
  {
   "cell_type": "code",
   "execution_count": 620,
   "metadata": {
    "collapsed": false
   },
   "outputs": [
    {
     "name": "stdout",
     "output_type": "stream",
     "text": [
      "Step:1 done in 224.034874916 seconds\n",
      "\n",
      "Step:2 done in 223.138445139 seconds\n",
      "\n",
      "Step:3 done in 223.599325895 seconds\n",
      "\n",
      "Step:4 done in 223.617856979 seconds\n",
      "\n",
      "Step:5 done in 223.614206076 seconds\n",
      "\n",
      "Step:6 done in 223.213928938 seconds\n",
      "\n",
      "Step:7 done in 224.77252388 seconds\n",
      "\n",
      "Max iterations reached 7 steps, reconstruction error: 26.6854183735\n",
      "Total elapsed time: 1566.80310488 seconds\n"
     ]
    }
   ],
   "source": [
    "A_theta_s100, B_theta_s100 = recog.proximal_training(C_train, PLAYLIST_GRAPH_train, SONG_GRAPH, RANK,\n",
    "                               theta_tv_a=best_theta_p_s1,\n",
    "                               theta_tv_b=exp2_theta_s,\n",
    "                               data_path=data_path,\n",
    "                               verbose=1)"
   ]
  },
  {
   "cell_type": "code",
   "execution_count": 621,
   "metadata": {
    "collapsed": false
   },
   "outputs": [
    {
     "name": "stdout",
     "output_type": "stream",
     "text": [
      "Validation took 193.072944164 seconds\n"
     ]
    }
   ],
   "source": [
    "d = np.load(data_path + '.npz')\n",
    "exp2_theta_s100 = run_validation(data_path, d['A'], d['B'])"
   ]
  },
  {
   "cell_type": "code",
   "execution_count": 622,
   "metadata": {
    "collapsed": false
   },
   "outputs": [
    {
     "data": {
      "text/plain": [
       "test_set    28.793179\n",
       "random      28.714454\n",
       "sampled     28.605858\n",
       "dtype: float64"
      ]
     },
     "execution_count": 622,
     "metadata": {},
     "output_type": "execute_result"
    }
   ],
   "source": [
    "exp2_theta_s100.mean()"
   ]
  },
  {
   "cell_type": "markdown",
   "metadata": {},
   "source": [
    "### Agglomerate results to compare the different theta songs"
   ]
  },
  {
   "cell_type": "code",
   "execution_count": null,
   "metadata": {
    "collapsed": true
   },
   "outputs": [],
   "source": []
  },
  {
   "cell_type": "markdown",
   "metadata": {
    "collapsed": true
   },
   "source": [
    "## Playground"
   ]
  },
  {
   "cell_type": "code",
   "execution_count": null,
   "metadata": {
    "collapsed": true
   },
   "outputs": [],
   "source": [
    "C_aug_train = recog.create_augmented_recommendation_matrix(MIXES_train, PLAYLISTS_train, \n",
    "                                                           SONGS, SONG_ID_KEY, PLAYLIST_ID_KEY,\n",
    "                                                           aug_factor=0.8,\n",
    "                                                           top_k_playlists=50,\n",
    "                                                           top_k_songs=30)"
   ]
  },
  {
   "cell_type": "code",
   "execution_count": 387,
   "metadata": {
    "collapsed": false
   },
   "outputs": [
    {
     "name": "stdout",
     "output_type": "stream",
     "text": [
      "Validation took 26.8747279644 seconds\n",
      "playlist_category\n",
      "Break Up            0.112500\n",
      "Country             0.442308\n",
      "Dance/House         0.418182\n",
      "Depression          0.203846\n",
      "Hip Hop             0.348571\n",
      "Punk                0.103448\n",
      "Rhythm and Blues    0.875758\n",
      "Rock                0.046667\n",
      "Romantic            0.181250\n",
      "Sleep               0.300000\n",
      "Name: p_cat_out, dtype: float64\n",
      "Step:1 done in 269.78690505 seconds\n",
      "\n",
      "Validation took 28.0685658455 seconds\n",
      "playlist_category\n",
      "Break Up            0.112500\n",
      "Country             0.961538\n",
      "Dance/House         0.463636\n",
      "Depression          0.419231\n",
      "Hip Hop             0.417143\n",
      "Punk                0.620690\n",
      "Rhythm and Blues    0.939394\n",
      "Rock                0.310000\n",
      "Romantic            0.112500\n",
      "Sleep               0.502857\n",
      "Name: p_cat_out, dtype: float64\n",
      "Step:2 done in 264.230079889 seconds\n",
      "\n",
      "Validation took 26.2847671509 seconds\n",
      "playlist_category\n",
      "Break Up            0.143750\n",
      "Country             1.000000\n",
      "Dance/House         0.468182\n",
      "Depression          0.242308\n",
      "Hip Hop             0.231429\n",
      "Punk                0.827586\n",
      "Rhythm and Blues    0.939394\n",
      "Rock                0.313333\n",
      "Romantic            0.100000\n",
      "Sleep               0.580000\n",
      "Name: p_cat_out, dtype: float64\n",
      "Step:3 done in 262.544145107 seconds\n",
      "\n",
      "Validation took 27.1393921375 seconds\n",
      "playlist_category\n",
      "Break Up            0.065625\n",
      "Country             1.000000\n",
      "Dance/House         0.554545\n",
      "Depression          0.234615\n",
      "Hip Hop             0.948571\n",
      "Punk                0.827586\n",
      "Rhythm and Blues    0.939394\n",
      "Rock                0.316667\n",
      "Romantic            0.034375\n",
      "Sleep               0.468571\n",
      "Name: p_cat_out, dtype: float64\n",
      "Step:4 done in 264.183904886 seconds\n",
      "\n",
      "Validation took 29.413408041 seconds\n",
      "playlist_category\n",
      "Break Up            0.087500\n",
      "Country             0.961538\n",
      "Dance/House         0.559091\n",
      "Depression          0.253846\n",
      "Hip Hop             0.942857\n",
      "Punk                0.827586\n",
      "Rhythm and Blues    0.939394\n",
      "Rock                0.340000\n",
      "Romantic            0.168750\n",
      "Sleep               0.445714\n",
      "Name: p_cat_out, dtype: float64\n",
      "Step:5 done in 265.707212925 seconds\n",
      "\n",
      "Validation took 26.6363461018 seconds\n",
      "playlist_category\n",
      "Break Up            0.125000\n",
      "Country             0.965385\n",
      "Dance/House         0.550000\n",
      "Depression          0.242308\n",
      "Hip Hop             0.971429\n",
      "Punk                0.827586\n",
      "Rhythm and Blues    0.939394\n",
      "Rock                0.306667\n",
      "Romantic            0.278125\n",
      "Sleep               0.360000\n",
      "Name: p_cat_out, dtype: float64\n",
      "Step:6 done in 269.06557703 seconds\n",
      "\n",
      "Validation took 26.5515229702 seconds\n",
      "playlist_category\n",
      "Break Up            0.184375\n",
      "Country             0.969231\n",
      "Dance/House         0.559091\n",
      "Depression          0.253846\n",
      "Hip Hop             0.942857\n",
      "Punk                0.827586\n",
      "Rhythm and Blues    0.930303\n",
      "Rock                0.273333\n",
      "Romantic            0.265625\n",
      "Sleep               0.408571\n",
      "Name: p_cat_out, dtype: float64\n",
      "Step:7 done in 264.40151 seconds\n",
      "\n",
      "Max iterations reached 7 steps, reconstruction error: 27.5992180976\n",
      "Total elapsed time: 1860.86856604 seconds\n"
     ]
    },
    {
     "data": {
      "image/png": "[encoded data removed]",
      "text/plain": [
       "<matplotlib.figure.Figure at 0x12dc9b710>"
      ]
     },
     "metadata": {},
     "output_type": "display_data"
    }
   ],
   "source": [
    "# Change rank, random init\n",
    "data_path = os.path.join(EXPERIMENT_DIR, 'test_aug_rank15')\n",
    "valid_func = lambda x, y: run_validation(data_path, x, y, sample_size=0, only_test_set=True)['p_cat_out']\n",
    "\n",
    "A_tmp, B_tmp = recog.proximal_training(C_aug_train, PLAYLIST_GRAPH_train, SONG_GRAPH, 15,\n",
    "                                       theta_tv_a=19,\n",
    "                                       theta_tv_b=0,\n",
    "                                       data_path=data_path,\n",
    "                                       load_from_disk=False,\n",
    "                                       verbose=1, validation_func=valid_func)"
   ]
  },
  {
   "cell_type": "code",
   "execution_count": null,
   "metadata": {
    "collapsed": true
   },
   "outputs": [],
   "source": [
    "# np.savez(data_path, A=best_A, B=best_B)"
   ]
  },
  {
   "cell_type": "code",
   "execution_count": 388,
   "metadata": {
    "collapsed": false
   },
   "outputs": [
    {
     "name": "stdout",
     "output_type": "stream",
     "text": [
      "Validation took 26.4572169781 seconds\n"
     ]
    }
   ],
   "source": [
    "res = valid_func(A_tmp, B_tmp)"
   ]
  },
  {
   "cell_type": "code",
   "execution_count": 390,
   "metadata": {
    "collapsed": false
   },
   "outputs": [
    {
     "data": {
      "text/plain": [
       "0.56148189741293186"
      ]
     },
     "execution_count": 390,
     "metadata": {},
     "output_type": "execute_result"
    }
   ],
   "source": [
    "res.mean()"
   ]
  },
  {
   "cell_type": "code",
   "execution_count": null,
   "metadata": {
    "collapsed": true
   },
   "outputs": [],
   "source": []
  },
  {
   "cell_type": "code",
   "execution_count": null,
   "metadata": {
    "collapsed": true
   },
   "outputs": [],
   "source": []
  },
  {
   "cell_type": "markdown",
   "metadata": {},
   "source": [
    "### Output neighbors of a song in the song graph"
   ]
  },
  {
   "cell_type": "code",
   "execution_count": 694,
   "metadata": {
    "collapsed": false
   },
   "outputs": [],
   "source": [
    "song_id = SONGS[SONGS.artist_name == 'The Beatles'].index.values[0]"
   ]
  },
  {
   "cell_type": "code",
   "execution_count": 701,
   "metadata": {
    "collapsed": false
   },
   "outputs": [],
   "source": [
    "# SONGS[SONGS.artist_name == 'The Beatles']"
   ]
  },
  {
   "cell_type": "code",
   "execution_count": 702,
   "metadata": {
    "collapsed": true
   },
   "outputs": [],
   "source": [
    "song_id = 545685 # yesterday 545685 "
   ]
  },
  {
   "cell_type": "code",
   "execution_count": 704,
   "metadata": {
    "collapsed": false
   },
   "outputs": [
    {
     "data": {
      "text/plain": [
       "2219"
      ]
     },
     "execution_count": 704,
     "metadata": {},
     "output_type": "execute_result"
    }
   ],
   "source": [
    "SONGS.index.get_loc(545685)"
   ]
  },
  {
   "cell_type": "code",
   "execution_count": 705,
   "metadata": {
    "collapsed": false
   },
   "outputs": [],
   "source": [
    "x = SONGS.reset_index()\n",
    "song_id = 2219  # on graph"
   ]
  },
  {
   "cell_type": "code",
   "execution_count": 706,
   "metadata": {
    "collapsed": false
   },
   "outputs": [],
   "source": [
    "def get_sorted_neighbors(query, df, g, metadata=['artist_name', 'title', 'genre'], path=None):\n",
    "    s = df.reset_index()\n",
    "    neighbors = g[song_id]\n",
    "\n",
    "    res = []\n",
    "    for k, v in neighbors.iteritems():\n",
    "        res.append((k, v['weight']))\n",
    "        \n",
    "    t = list(reversed(sorted(res, key=operator.itemgetter(1))))\n",
    "    sorted_neighbors = map(lambda x: x[0], t)\n",
    "\n",
    "    res = s[s.index.isin(sorted_neighbors)][metadata]\n",
    "    res = res.reindex(sorted_neighbors, copy=True).reset_index(drop=True)    \n",
    "    res.index += 1\n",
    "    res2 = df.iloc[query][metadata]\n",
    "    \n",
    "    if path is not None:\n",
    "        with open(path, 'w') as f:\n",
    "            f.write(res.to_latex())\n",
    "            \n",
    "    return res, res2\n",
    "\n",
    "path = os.path.join(DATA_DIR, 'song_knn.tex')\n",
    "neighbors, query_song = get_sorted_neighbors(song_id, SONGS, SONG_GRAPH, path=path)"
   ]
  },
  {
   "cell_type": "code",
   "execution_count": 707,
   "metadata": {
    "collapsed": false
   },
   "outputs": [
    {
     "data": {
      "text/html": [
       "<div style=\"max-height:1000px;max-width:1500px;overflow:auto;\">\n",
       "<table border=\"1\" class=\"dataframe\">\n",
       "  <thead>\n",
       "    <tr style=\"text-align: right;\">\n",
       "      <th></th>\n",
       "      <th>artist_name</th>\n",
       "      <th>title</th>\n",
       "      <th>genre</th>\n",
       "    </tr>\n",
       "  </thead>\n",
       "  <tbody>\n",
       "    <tr>\n",
       "      <th>1</th>\n",
       "      <td>Sarah McLachlan</td>\n",
       "      <td>Hold On</td>\n",
       "      <td>Alternative</td>\n",
       "    </tr>\n",
       "    <tr>\n",
       "      <th>2</th>\n",
       "      <td>Madonna</td>\n",
       "      <td>Don't Tell Me</td>\n",
       "      <td>Electronic</td>\n",
       "    </tr>\n",
       "    <tr>\n",
       "      <th>3</th>\n",
       "      <td>Alabama</td>\n",
       "      <td>If You're Gonna Play In Texas (You Gotta Have ...</td>\n",
       "      <td>Country</td>\n",
       "    </tr>\n",
       "    <tr>\n",
       "      <th>4</th>\n",
       "      <td>Sugarcult</td>\n",
       "      <td>Stuck In America</td>\n",
       "      <td>Punk Rock</td>\n",
       "    </tr>\n",
       "    <tr>\n",
       "      <th>5</th>\n",
       "      <td>Weezer</td>\n",
       "      <td>O Girlfriend</td>\n",
       "      <td>Alternative</td>\n",
       "    </tr>\n",
       "  </tbody>\n",
       "</table>\n",
       "</div>"
      ],
      "text/plain": [
       "       artist_name                                              title  \\\n",
       "1  Sarah McLachlan                                            Hold On   \n",
       "2          Madonna                                      Don't Tell Me   \n",
       "3          Alabama  If You're Gonna Play In Texas (You Gotta Have ...   \n",
       "4        Sugarcult                                   Stuck In America   \n",
       "5           Weezer                                       O Girlfriend   \n",
       "\n",
       "         genre  \n",
       "1  Alternative  \n",
       "2   Electronic  \n",
       "3      Country  \n",
       "4    Punk Rock  \n",
       "5  Alternative  "
      ]
     },
     "execution_count": 707,
     "metadata": {},
     "output_type": "execute_result"
    }
   ],
   "source": [
    "neighbors"
   ]
  },
  {
   "cell_type": "code",
   "execution_count": null,
   "metadata": {
    "collapsed": false
   },
   "outputs": [],
   "source": [
    "query_song"
   ]
  },
  {
   "cell_type": "markdown",
   "metadata": {},
   "source": [
    "## Model parameters"
   ]
  }
 ],
 "metadata": {
  "kernelspec": {
   "display_name": "Python 2",
   "language": "python",
   "name": "python2"
  },
  "language_info": {
   "codemirror_mode": {
    "name": "ipython",
    "version": 2
   },
   "file_extension": ".py",
   "mimetype": "text/x-python",
   "name": "python",
   "nbconvert_exporter": "python",
   "pygments_lexer": "ipython2",
   "version": "2.7.9"
  }
 },
 "nbformat": 4,
 "nbformat_minor": 0
}
