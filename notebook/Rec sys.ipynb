{
 "cells": [
  {
   "cell_type": "markdown",
   "metadata": {},
   "source": [
    "# Low-Rank and Linear Spectral Matrix Completion for Playlist Recommendation"
   ]
  },
  {
   "cell_type": "code",
   "execution_count": null,
   "metadata": {
    "collapsed": false
   },
   "outputs": [],
   "source": [
    "# -*- coding: utf8 -*-\n",
    "import sys\n",
    "import os\n",
    "import time\n",
    "import operator\n",
    "import numpy as np\n",
    "import scipy as sp\n",
    "import pandas as pd\n",
    "import networkx as nx\n",
    "import matplotlib as mpl\n",
    "import matplotlib.pyplot as plt\n",
    "import scipy.io\n",
    "import scipy.sparse\n",
    "import itertools\n",
    "import random\n",
    "import community\n",
    "import IPython.utils.path\n",
    "import cPickle as pickle \n",
    "from sklearn.cross_validation import train_test_split\n",
    "\n",
    "\n",
    "%matplotlib inline\n",
    "mpl.rcParams['axes.edgecolor'] = 'grey'\n",
    "mpl.rcParams['grid.color'] = '#66CCCC'\n",
    "mpl.rcParams['text.color'] = '#0EBFE9'\n",
    "mpl.rcParams['xtick.color'] = '#66CCCC'\n",
    "mpl.rcParams['ytick.color'] = '#66CCCC'\n",
    "mpl.rcParams['axes.labelcolor'] = '#0EBFE9'\n",
    "\n",
    "import recog \n",
    "\n",
    "%load_ext autoreload\n",
    "%autoreload 2\n",
    "\n",
    "# reload(sys)  # Reload does the trick!\n",
    "# sys.setdefaultencoding('UTF8')\n",
    "\n",
    "# pd.options.display.encoding = 'utf-8'"
   ]
  },
  {
   "cell_type": "code",
   "execution_count": null,
   "metadata": {
    "collapsed": false
   },
   "outputs": [],
   "source": [
    "import bokeh.plotting as bp\n",
    "from bokeh.palettes import brewer\n",
    "bp.output_notebook()"
   ]
  },
  {
   "cell_type": "markdown",
   "metadata": {
    "collapsed": true
   },
   "source": [
    "# Test on real data"
   ]
  },
  {
   "cell_type": "code",
   "execution_count": null,
   "metadata": {
    "collapsed": true
   },
   "outputs": [],
   "source": [
    "def plot_mat(x, title, fig=(512, 200), cmap='Greys', reverse=False, nb_colors=9):\n",
    "    f1 = bp.figure(plot_width=fig[0], plot_height=fig[1], \n",
    "                   x_range=[0, x.shape[1]], y_range=[0, x.shape[0]])\n",
    "    \n",
    "\n",
    "    pal = brewer[cmap][nb_colors]\n",
    "    if reverse:\n",
    "        pal = pal[::-1]\n",
    "        \n",
    "    f1.image(image=[x], x=[0], y=[0], \n",
    "             dw=[x.shape[1]], dh=[x.shape[0]], palette=pal)\n",
    "    f1.title = title\n",
    "    f1.title_text_color = 'red'\n",
    "    f1.title_text_font_style = 'bold'\n",
    "    bp.show(f1)"
   ]
  },
  {
   "cell_type": "code",
   "execution_count": null,
   "metadata": {
    "collapsed": false
   },
   "outputs": [],
   "source": [
    "# DATA_DIR = os.path.join(IPython.utils.path.get_home_dir(), 'data/aotmv2/')\n",
    "DATA_DIR = os.path.join( IPython.utils.path.get_home_dir(), 'local/aotmv2/')\n",
    "print 'Data directory:', DATA_DIR\n",
    "\n",
    "DATASET_NAME = 'aotm'\n",
    "MAX_PROCESS = 8\n",
    "song_id_key = 'aotm_id'\n",
    "playlist_id_key = 'mix_id'\n",
    "playlist_cat_key = 'playlist_category'"
   ]
  },
  {
   "cell_type": "code",
   "execution_count": null,
   "metadata": {
    "collapsed": false
   },
   "outputs": [],
   "source": [
    "FULL_SONGS = pd.read_hdf(os.path.join(DATA_DIR, DATASET_NAME + '_songs.h5'), 'data')\n",
    "FULL_SONGS.rename(columns={'temporal_echonest_features': 'ten'}, inplace=True)\n",
    "FULL_PLAYLISTS = pd.read_hdf(os.path.join(DATA_DIR, DATASET_NAME + '_playlists.h5'), 'data')\n",
    "FULL_MIXES = pd.read_hdf(os.path.join(DATA_DIR, DATASET_NAME + '_mixes.h5'), 'data')"
   ]
  },
  {
   "cell_type": "code",
   "execution_count": null,
   "metadata": {
    "collapsed": true
   },
   "outputs": [],
   "source": [
    "# Extract features only from data\n",
    "to_remove = set(['title', 'artist_name', 'genre', 'top_genres', 'terms', \n",
    "                 'release', 'key', 'mode', 'genre_topics', 'genre_topic', 'ncut_id'])\n",
    "columns = set(FULL_SONGS.columns.tolist())\n",
    "feat_col = list(columns - to_remove)"
   ]
  },
  {
   "cell_type": "markdown",
   "metadata": {},
   "source": [
    "### Create smaller dataset from AOTM data\n",
    "\n",
    "Here we remove ambiguous plyalist categories, we also verify that there are a sufficient number of playlists in each category. Each playlist is composed of \"popular songs\", (songs seen at least in a certain amount of playlists), and is not too short not too long."
   ]
  },
  {
   "cell_type": "code",
   "execution_count": null,
   "metadata": {
    "collapsed": true
   },
   "outputs": [],
   "source": [
    "# min_playlists = 70\n",
    "min_playlists = 100\n",
    "# min_playlist_size = 8\n",
    "min_playlist_size = 5\n",
    "max_playlist_size = 20\n",
    "min_popularity = 5\n",
    "\n",
    "to_remove = ['Mixed Genre', 'Theme', 'Single Artist', 'Alternating DJ', 'Mixed', 'Cover', 'Narrative']"
   ]
  },
  {
   "cell_type": "code",
   "execution_count": null,
   "metadata": {
    "collapsed": false
   },
   "outputs": [],
   "source": [
    "# Remove ambiguous categories\n",
    "FILT_MIXES = FULL_MIXES[~FULL_MIXES.playlist_category.isin(to_remove)]\n",
    "# Remove too short or too long playlists\n",
    "FILT_MIXES = FILT_MIXES[FILT_MIXES['size'].between(min_playlist_size, max_playlist_size)]\n",
    "\n",
    "# Filter popular songs\n",
    "good_playlist_categories = np.unique(FILT_MIXES.playlist_category.values)\n",
    "FILT_PLAYLISTS = FULL_PLAYLISTS[FULL_PLAYLISTS[playlist_cat_key].isin(good_playlist_categories)]\n",
    "song_popularity_hist = FILT_PLAYLISTS.aotm_id.value_counts()\n",
    "good_songs = song_popularity_hist[song_popularity_hist >= min_popularity].index.values\n",
    "FILT_MIXES[song_id_key] = FILT_MIXES[song_id_key].apply(lambda x: list((set(x) & set(good_songs))))\n",
    "FILT_MIXES['size'] = FILT_MIXES[song_id_key].apply(len)\n",
    "\n",
    "# Refilter size of playlists\n",
    "FILT_MIXES = FILT_MIXES[FILT_MIXES['size'].between(min_playlist_size, max_playlist_size)]\n",
    "# Keep a sufficient number of playlist in each category\n",
    "p_hist = FILT_MIXES[playlist_cat_key].value_counts()\n",
    "P_CATEGORIES = p_hist.index[np.where(p_hist > min_playlists)].values\n",
    "FILT_MIXES = FILT_MIXES[FILT_MIXES[playlist_cat_key].isin(P_CATEGORIES)]\n",
    "\n",
    "# Update the list of valid songs since we removed some playlists\n",
    "good_songs = np.unique(list(itertools.chain(*list(FILT_MIXES[song_id_key].values))))\n",
    "FILT_PLAYLISTS = FILT_PLAYLISTS[FILT_PLAYLISTS[playlist_id_key].isin(FILT_MIXES.index.values)]\n",
    "FILT_PLAYLISTS = FILT_PLAYLISTS[FILT_PLAYLISTS[song_id_key].isin(good_songs)]\n",
    "\n",
    "# Keep only valid song and features in playlists\n",
    "FILT_SONGS = FULL_SONGS[FULL_SONGS.index.isin(good_songs)].sort('genre')\n",
    "FILT_FEAT = FILT_SONGS[feat_col]\n",
    "\n",
    "print 'Number of playlists:', len(FILT_MIXES)\n",
    "print 'Number of songs:', len(FILT_SONGS)"
   ]
  },
  {
   "cell_type": "code",
   "execution_count": null,
   "metadata": {
    "collapsed": false
   },
   "outputs": [],
   "source": [
    "FILT_MIXES[playlist_cat_key].value_counts()"
   ]
  },
  {
   "cell_type": "markdown",
   "metadata": {},
   "source": [
    "### Create evenly sampled dataset"
   ]
  },
  {
   "cell_type": "code",
   "execution_count": null,
   "metadata": {
    "collapsed": true
   },
   "outputs": [],
   "source": [
    "to_keep = ['Romantic', 'Depression', 'Break Up', 'Sleep',\n",
    "           'Punk', 'Country', 'Hip Hop', 'Dance/House', 'Rock', 'Rhythm and Blues']\n",
    "\n",
    "P_CATEGORIES = to_keep\n",
    "\n",
    "cat_size = 100"
   ]
  },
  {
   "cell_type": "code",
   "execution_count": null,
   "metadata": {
    "collapsed": false
   },
   "outputs": [],
   "source": [
    "MINI_MIXES = FILT_MIXES[FILT_MIXES.playlist_category.isin(to_keep)]\n",
    "\n",
    "tmp = MINI_MIXES.reset_index().groupby(playlist_cat_key).agg({playlist_id_key: lambda x: random.sample(x, cat_size)})\n",
    "good_mixes = np.unique(list(itertools.chain(*list(tmp[playlist_id_key].values))))\n",
    "\n",
    "MINI_MIXES = MINI_MIXES[MINI_MIXES.index.isin(good_mixes)]\n",
    "# sample_idx = random.sample(MINI_MIXES.index, len(MINI_MIXES) // sample_factor)\n",
    "# MINI_MIXES = MINI_MIXES[MINI_MIXES.index.isin(sample_idx)]\n",
    "# Update the list of valid songs since we removed some playlists\n",
    "good_songs = np.unique(list(itertools.chain(*list(MINI_MIXES[song_id_key].values))))\n",
    "MINI_PLAYLISTS = FILT_PLAYLISTS[FILT_PLAYLISTS[playlist_id_key].isin(MINI_MIXES.index.values)]\n",
    "MINI_PLAYLISTS = MINI_PLAYLISTS[MINI_PLAYLISTS[song_id_key].isin(good_songs)]\n",
    "\n",
    "# Keep only valid song and features in playlists\n",
    "MINI_SONGS = FILT_SONGS[FILT_SONGS.index.isin(good_songs)].sort('genre')\n",
    "MINI_FEAT = MINI_SONGS[feat_col]\n",
    "\n",
    "print 'Number of playlists:', len(MINI_MIXES)\n",
    "print 'Number of songs:', len(MINI_SONGS)"
   ]
  },
  {
   "cell_type": "code",
   "execution_count": null,
   "metadata": {
    "collapsed": false
   },
   "outputs": [],
   "source": [
    "MINI_MIXES[playlist_cat_key].value_counts()"
   ]
  },
  {
   "cell_type": "markdown",
   "metadata": {},
   "source": [
    "### Select working dataset"
   ]
  },
  {
   "cell_type": "code",
   "execution_count": null,
   "metadata": {
    "collapsed": true
   },
   "outputs": [],
   "source": [
    "MIXES = MINI_MIXES\n",
    "FEAT = MINI_FEAT\n",
    "PLAYLISTS = MINI_PLAYLISTS\n",
    "SONGS = MINI_SONGS\n",
    "DATASET_VERSION = 'medium'"
   ]
  },
  {
   "cell_type": "code",
   "execution_count": null,
   "metadata": {
    "collapsed": false
   },
   "outputs": [],
   "source": [
    "# MIXES = FILT_MIXES\n",
    "# FEAT = FILT_FEAT\n",
    "# PLAYLISTS = FILT_PLAYLISTS\n",
    "# SONGS = FILT_SONGS\n",
    "# SONG_TO_IDX = dict(zip(SONGS.index.values, itertools.count()))\n",
    "# DATASET_VERSION = 'filt'"
   ]
  },
  {
   "cell_type": "code",
   "execution_count": null,
   "metadata": {
    "collapsed": true
   },
   "outputs": [],
   "source": [
    "DUMP_DIR = os.path.join(DATA_DIR, 'dump_' + DATASET_VERSION + '/')\n",
    "\n",
    "if not os.path.exists(DUMP_DIR):\n",
    "    os.mkdir(DUMP_DIR)"
   ]
  },
  {
   "cell_type": "markdown",
   "metadata": {},
   "source": [
    "## Prepare graphs\n",
    "\n",
    "First, create train and test dataset."
   ]
  },
  {
   "cell_type": "code",
   "execution_count": null,
   "metadata": {
    "collapsed": true
   },
   "outputs": [],
   "source": [
    "train_set_size = 0.7"
   ]
  },
  {
   "cell_type": "code",
   "execution_count": null,
   "metadata": {
    "collapsed": false
   },
   "outputs": [],
   "source": [
    "mixes_train_idx, mixes_test_idx = train_test_split(MIXES.index.values, train_size=train_set_size)\n",
    "mixes_train_idx, mixes_test_idx = sorted(mixes_train_idx), sorted(mixes_test_idx)\n",
    "\n",
    "MIXES_train = MIXES[MIXES.index.isin(mixes_train_idx)]\n",
    "MIXES_test = MIXES[MIXES.index.isin(mixes_test_idx)]\n",
    "PLAYLISTS_train = PLAYLISTS[PLAYLISTS[playlist_id_key].isin(mixes_train_idx)]\n",
    "\n",
    "songs_train_idx = np.unique(list(itertools.chain(*list(MIXES_train[song_id_key].values))))\n",
    "songs_test_idx = np.unique(list(itertools.chain(*list(MIXES_test[song_id_key].values))))"
   ]
  },
  {
   "cell_type": "markdown",
   "metadata": {},
   "source": [
    "### Create song graph\n",
    "\n",
    "To keep the same number of nodes, we create the full song graph and we remove edges not in the train set."
   ]
  },
  {
   "cell_type": "code",
   "execution_count": null,
   "metadata": {
    "collapsed": false
   },
   "outputs": [],
   "source": [
    "SONG_GRAPH, SONGS = recog.graph.create_song_graph(FEAT, SONGS, 5)\n",
    "SONG_TO_IDX = dict(zip(SONGS.index.values, itertools.count()))\n",
    "print nx.info(SONG_GRAPH)"
   ]
  },
  {
   "cell_type": "markdown",
   "metadata": {},
   "source": [
    "#### Plot adjacency matrix"
   ]
  },
  {
   "cell_type": "code",
   "execution_count": null,
   "metadata": {
    "collapsed": true
   },
   "outputs": [],
   "source": [
    "W_SONGS = nx.to_numpy_matrix(SONG_GRAPH)"
   ]
  },
  {
   "cell_type": "code",
   "execution_count": null,
   "metadata": {
    "collapsed": false
   },
   "outputs": [],
   "source": [
    "# sample = W_SONGS[2300:3500, 2300:3500]\n",
    "sample = W_SONGS\n",
    "sample = (sample > 0).astype(np.float)\n",
    "recog.plot_factor_mat(sample, 'Adjacency matrix for Song graph', 'Blues')\n",
    "# plot_mat(W_SONGS.todense(), 'Song graph ncut', fig=(512, 512))\n",
    "fig1 = plt.gcf()\n",
    "ax = plt.gca()\n",
    "fig1.frameon = False\n",
    "ax.patch.set_visible(False)\n",
    "ax.axis('off')\n",
    "fig_path = os.path.join(DUMP_DIR, 'sample_song_graph_partitions_' + str(SONG_GRAPH.graph['partitions']) + '.png')\n",
    "fig1.savefig(fig_path, dpi=500)"
   ]
  },
  {
   "cell_type": "markdown",
   "metadata": {},
   "source": [
    "### Compute all shortest path between songs for validation"
   ]
  },
  {
   "cell_type": "code",
   "execution_count": null,
   "metadata": {
    "collapsed": false
   },
   "outputs": [],
   "source": [
    "start = time.time()\n",
    "pairs_distance = nx.all_pairs_dijkstra_path_length(SONG_GRAPH, weight='dist')\n",
    "end = time.time()\n",
    "print 'Created in:', end - start"
   ]
  },
  {
   "cell_type": "code",
   "execution_count": null,
   "metadata": {
    "collapsed": false
   },
   "outputs": [],
   "source": [
    "pickle.dump(pairs_distance, open(os.path.join(DUMP_DIR, 'song_pairs_distance.pickle'), \"wb\" ) )"
   ]
  },
  {
   "cell_type": "markdown",
   "metadata": {},
   "source": [
    "### Create playlist graph"
   ]
  },
  {
   "cell_type": "code",
   "execution_count": null,
   "metadata": {
    "collapsed": false
   },
   "outputs": [],
   "source": [
    "PLAYLIST_GRAPH_train, MIXES_train, PLAYLISTS_train = recog.graph.create_playlist_graph(MIXES_train.copy(), PLAYLISTS_train, playlist_id_key, song_id_key, \n",
    "                                                       'playlist_category', 0.3, 0.2)\n",
    "print nx.info(PLAYLIST_GRAPH_train)\n",
    "\n",
    "PLAYLISTS_test = PLAYLISTS[PLAYLISTS[playlist_id_key].isin(mixes_test_idx)]\n",
    "# MIXES_train = MIXES[MIXES.index.isin(mixes_train_idx)]\n",
    "# MIXES_test = MIXES[MIXES.index.isin(mixes_test_idx)]"
   ]
  },
  {
   "cell_type": "markdown",
   "metadata": {},
   "source": [
    "#### Plot adjacency matrix"
   ]
  },
  {
   "cell_type": "code",
   "execution_count": null,
   "metadata": {
    "collapsed": false
   },
   "outputs": [],
   "source": [
    "W_PLAYLISTS = nx.to_numpy_matrix(PLAYLIST_GRAPH_train)"
   ]
  },
  {
   "cell_type": "code",
   "execution_count": null,
   "metadata": {
    "collapsed": false
   },
   "outputs": [],
   "source": [
    "sample = (W_PLAYLISTS > 0).astype(np.float)\n",
    "recog.plot_factor_mat(sample, 'Adjacency matrix for Playlist graph', 'Blues')\n",
    "# plot_mat(W_SONGS.todense(), 'Song graph ncut', fig=(512, 512))\n",
    "fig1 = plt.gcf()\n",
    "ax = plt.gca()\n",
    "fig1.frameon = False\n",
    "ax.patch.set_visible(False)\n",
    "ax.axis('off')\n",
    "fig_path = os.path.join(DUMP_DIR, 'sample_playlist_graph_partitions_' + str(PLAYLIST_GRAPH.graph['partitions']) + '.png')\n",
    "fig1.savefig(fig_path, dpi=100)"
   ]
  },
  {
   "cell_type": "markdown",
   "metadata": {},
   "source": [
    "### Playlist graph without categories"
   ]
  },
  {
   "cell_type": "code",
   "execution_count": null,
   "metadata": {
    "collapsed": true
   },
   "outputs": [],
   "source": [
    "def stripped_playlist_graph(g):\n",
    "    h = nx.Graph()\n",
    "    h.add_nodes_from(g.nodes(data=True))\n",
    "    counts = nx.get_edge_attributes(g, 'count')\n",
    "\n",
    "    cosine = lambda u, v, x: float(x) / (np.sqrt(g.node[u]['size']) * np.sqrt(g.node[v]['size']))\n",
    "    reweighted_attrs = [(k[0], k[1], cosine(k[0], k[1], v)) for k, v in counts.iteritems()]\n",
    "\n",
    "    h.add_weighted_edges_from(reweighted_attrs)\n",
    "\n",
    "    d = community.best_partition(h)\n",
    "    mod = community.modularity(d, h)\n",
    "    print 'Number of clusters: {}, Modularity: {}'.format(len(set(d.values())), mod)\n",
    "    return h"
   ]
  },
  {
   "cell_type": "code",
   "execution_count": null,
   "metadata": {
    "collapsed": false
   },
   "outputs": [],
   "source": [
    "STRIPPED_PLAYLIST_GRAPH_train = stripped_playlist_graph(PLAYLIST_GRAPH_train)"
   ]
  },
  {
   "cell_type": "code",
   "execution_count": null,
   "metadata": {
    "collapsed": true
   },
   "outputs": [],
   "source": [
    "W_PLAYLISTS_train = nx.to_numpy_matrix(STRIPPED_PLAYLIST_GRAPH_train)"
   ]
  },
  {
   "cell_type": "code",
   "execution_count": null,
   "metadata": {
    "collapsed": false
   },
   "outputs": [],
   "source": [
    "sample = (W_PLAYLISTS_train > 0).astype(np.float)\n",
    "recog.plot_factor_mat(sample, 'Adjacency matrix for Playlist graph train', 'Blues')\n",
    "# plot_mat(W_SONGS.todense(), 'Song graph ncut', fig=(512, 512))\n",
    "fig1 = plt.gcf()\n",
    "ax = plt.gca()\n",
    "fig1.frameon = False\n",
    "ax.patch.set_visible(False)\n",
    "ax.axis('off')\n",
    "fig_path = os.path.join(DUMP_DIR, 'sample_playlist_graph_train_partitions_' + str(PLAYLIST_GRAPH.graph['partitions']) + '.png')\n",
    "fig1.savefig(fig_path, dpi=100)"
   ]
  },
  {
   "cell_type": "code",
   "execution_count": null,
   "metadata": {
    "collapsed": false
   },
   "outputs": [],
   "source": [
    "MIXES_train.groupby('cluster_id')['playlist_category'].value_counts()"
   ]
  },
  {
   "cell_type": "markdown",
   "metadata": {},
   "source": [
    "### Create C matrix"
   ]
  },
  {
   "cell_type": "code",
   "execution_count": null,
   "metadata": {
    "collapsed": false
   },
   "outputs": [],
   "source": [
    "C_train = recog.create_recommendation_matrix(MIXES_train, SONGS.index,\n",
    "                                     playlist_id_key, DATASET_NAME, normalize=True)"
   ]
  },
  {
   "cell_type": "markdown",
   "metadata": {},
   "source": [
    "### Plot C"
   ]
  },
  {
   "cell_type": "code",
   "execution_count": null,
   "metadata": {
    "collapsed": false
   },
   "outputs": [],
   "source": [
    "recog.plot_factor_mat(C_train.toarray())\n",
    "# plot_mat(C_train.toarray(), 'C', (512, 512))\n",
    "print 'Sparsity ratio:', C_train.nnz / float(C_train.shape[0] * C_train.shape[1])\n",
    "print C_train.shape"
   ]
  },
  {
   "cell_type": "markdown",
   "metadata": {},
   "source": [
    "## Dump data"
   ]
  },
  {
   "cell_type": "code",
   "execution_count": null,
   "metadata": {
    "collapsed": false
   },
   "outputs": [],
   "source": [
    "def dump(outdir):\n",
    "    # Write graphs\n",
    "    nx.write_gpickle(SONG_GRAPH, os.path.join(outdir, 'song_graph.gpickle'))\n",
    "#     nx.write_gpickle(SONG_GRAPH_train, os.path.join(outdir, 'song_graph_train.gpickle'))\n",
    "#     nx.write_gpickle(PLAYLIST_GRAPH, os.path.join(outdir, 'playlist_graph.gpickle'))\n",
    "    nx.write_gpickle(PLAYLIST_GRAPH_train, os.path.join(outdir, 'playlist_graph_train.gpickle'))\n",
    "    \n",
    "    # Write data\n",
    "    store = pd.HDFStore(os.path.join(outdir, 'data.h5'))\n",
    "    store['songs'] = SONGS\n",
    "    store['mixes'] = MIXES\n",
    "    store['playlists'] = PLAYLISTS\n",
    "    store.close()\n",
    "\n",
    "    matlab_export_path = os.path.join(outdir, 'recog_real_data.mat')\n",
    "    matlab_data = dict()\n",
    "\n",
    "#     matlab_data['C'] = C\n",
    "    matlab_data['C_train'] = C_train\n",
    "#     matlab_data['songs_train'] = songs_train_idx.tolist()\n",
    "#     matlab_data['songs_test'] = songs_test_idx.tolist()\n",
    "    matlab_data['mixes_train'] = mixes_train_idx\n",
    "    matlab_data['mixes_test'] = mixes_test_idx\n",
    "\n",
    "    sp.io.savemat(matlab_export_path, matlab_data)\n",
    "    print 'Dump data to:', outdir\n",
    "    \n",
    "dump(DUMP_DIR)"
   ]
  },
  {
   "cell_type": "markdown",
   "metadata": {},
   "source": [
    "## Load data"
   ]
  },
  {
   "cell_type": "code",
   "execution_count": null,
   "metadata": {
    "collapsed": false
   },
   "outputs": [],
   "source": [
    "def load(outdir):    \n",
    "    if not os.path.exists(outdir):\n",
    "        print 'Error folder does not exists'\n",
    "        return\n",
    "\n",
    "    song_graph = nx.read_gpickle(os.path.join(outdir, 'song_graph.gpickle'))\n",
    "    playlist_graph_train = nx.read_gpickle(os.path.join(outdir, 'playlist_graph_train.gpickle'))\n",
    "    \n",
    "    store = pd.HDFStore(os.path.join(outdir, 'data.h5'))\n",
    "    songs = store['songs']\n",
    "    mixes = store['mixes']\n",
    "    playlists = store['playlists']\n",
    "    store.close()\n",
    "\n",
    "    matlab_export_path = os.path.join(outdir, 'recog_real_data.mat')\n",
    "    data = sp.io.loadmat(matlab_export_path)\n",
    "    c_train = data['C_train']\n",
    "    mixes_train_idx = data['mixes_train'].tolist()[0]\n",
    "    mixes_test_idx = data['mixes_test'].tolist()[0]\n",
    "\n",
    "    return songs, mixes, playlists, song_graph, playlist_graph_train, c_train, mixes_train_idx, mixes_test_idx\n",
    "    \n",
    "\n",
    "DATASET_VERSION = 'medium'\n",
    "DUMP_DIR = os.path.join(DATA_DIR, 'dump_' + DATASET_VERSION + '/')\n",
    "    \n",
    "SONGS, MIXES, PLAYLISTS, SONG_GRAPH, PLAYLIST_GRAPH_train, C_train, mixes_train_idx, mixes_test_idx = load(DUMP_DIR)\n",
    "FEAT = SONGS[feat_col]\n",
    "SONG_TO_IDX = dict(zip(SONGS.index.values, itertools.count()))\n",
    "MIXES_test = MIXES[MIXES.index.isin(mixes_test_idx)]\n",
    "pairs_distance = None\n",
    "PLAYLISTS_train = PLAYLISTS[PLAYLISTS[playlist_id_key].isin(mixes_train_idx)]\n",
    "PLAYLISTS_test = PLAYLISTS[PLAYLISTS[playlist_id_key].isin(mixes_test_idx)]\n",
    "STRIPPED_PLAYLIST_GRAPH_train = stripped_playlist_graph(PLAYLIST_GRAPH_train)"
   ]
  },
  {
   "cell_type": "code",
   "execution_count": null,
   "metadata": {
    "collapsed": true
   },
   "outputs": [],
   "source": [
    "# if needed\n",
    "pairs_distance = pickle.load(open(os.path.join(DUMP_DIR, 'song_pairs_distance.pickle'), \"rb\"))"
   ]
  },
  {
   "cell_type": "code",
   "execution_count": null,
   "metadata": {
    "collapsed": true
   },
   "outputs": [],
   "source": []
  },
  {
   "cell_type": "code",
   "execution_count": 361,
   "metadata": {
    "collapsed": false
   },
   "outputs": [
    {
     "data": {
      "text/html": [
       "<div style=\"max-height:1000px;max-width:1500px;overflow:auto;\">\n",
       "<table border=\"1\" class=\"dataframe\">\n",
       "  <thead>\n",
       "    <tr style=\"text-align: right;\">\n",
       "      <th></th>\n",
       "      <th>artist</th>\n",
       "      <th>title</th>\n",
       "      <th>playlist_category</th>\n",
       "      <th>playlist_pos</th>\n",
       "      <th>mix_id</th>\n",
       "      <th>aotm_id</th>\n",
       "      <th>cluster_id</th>\n",
       "    </tr>\n",
       "  </thead>\n",
       "  <tbody>\n",
       "    <tr>\n",
       "      <th>35849</th>\n",
       "      <td>zz top</td>\n",
       "      <td>legs</td>\n",
       "      <td>Rock</td>\n",
       "      <td>11</td>\n",
       "      <td>126328</td>\n",
       "      <td>676413</td>\n",
       "      <td>1</td>\n",
       "    </tr>\n",
       "    <tr>\n",
       "      <th>88610</th>\n",
       "      <td>u2</td>\n",
       "      <td>beautiful day</td>\n",
       "      <td>Rock</td>\n",
       "      <td>18</td>\n",
       "      <td>97541</td>\n",
       "      <td>642599</td>\n",
       "      <td>1</td>\n",
       "    </tr>\n",
       "    <tr>\n",
       "      <th>88611</th>\n",
       "      <td>the who</td>\n",
       "      <td>baba o'riley</td>\n",
       "      <td>Rock</td>\n",
       "      <td>19</td>\n",
       "      <td>97541</td>\n",
       "      <td>617655</td>\n",
       "      <td>1</td>\n",
       "    </tr>\n",
       "    <tr>\n",
       "      <th>902695</th>\n",
       "      <td>nofx</td>\n",
       "      <td>dinosaurs will die</td>\n",
       "      <td>Rock</td>\n",
       "      <td>14</td>\n",
       "      <td>126661</td>\n",
       "      <td>397123</td>\n",
       "      <td>1</td>\n",
       "    </tr>\n",
       "    <tr>\n",
       "      <th>88612</th>\n",
       "      <td>yellowcard</td>\n",
       "      <td>ocean avenue</td>\n",
       "      <td>Rock</td>\n",
       "      <td>20</td>\n",
       "      <td>97541</td>\n",
       "      <td>671266</td>\n",
       "      <td>1</td>\n",
       "    </tr>\n",
       "    <tr>\n",
       "      <th>902694</th>\n",
       "      <td>beastie boys</td>\n",
       "      <td>sure shot</td>\n",
       "      <td>Rock</td>\n",
       "      <td>10</td>\n",
       "      <td>126661</td>\n",
       "      <td>48062</td>\n",
       "      <td>1</td>\n",
       "    </tr>\n",
       "    <tr>\n",
       "      <th>35845</th>\n",
       "      <td>audioslave</td>\n",
       "      <td>cochise</td>\n",
       "      <td>Rock</td>\n",
       "      <td>3</td>\n",
       "      <td>126328</td>\n",
       "      <td>38130</td>\n",
       "      <td>1</td>\n",
       "    </tr>\n",
       "    <tr>\n",
       "      <th>40812</th>\n",
       "      <td>low</td>\n",
       "      <td>monkey</td>\n",
       "      <td>Rock</td>\n",
       "      <td>8</td>\n",
       "      <td>106447</td>\n",
       "      <td>333712</td>\n",
       "      <td>1</td>\n",
       "    </tr>\n",
       "    <tr>\n",
       "      <th>869029</th>\n",
       "      <td>aerosmith</td>\n",
       "      <td>dream on</td>\n",
       "      <td>Rock</td>\n",
       "      <td>17</td>\n",
       "      <td>127137</td>\n",
       "      <td>12672</td>\n",
       "      <td>1</td>\n",
       "    </tr>\n",
       "    <tr>\n",
       "      <th>35842</th>\n",
       "      <td>weezer</td>\n",
       "      <td>susanne</td>\n",
       "      <td>Rock</td>\n",
       "      <td>0</td>\n",
       "      <td>126328</td>\n",
       "      <td>659310</td>\n",
       "      <td>1</td>\n",
       "    </tr>\n",
       "    <tr>\n",
       "      <th>35844</th>\n",
       "      <td>audioslave</td>\n",
       "      <td>show me how to live</td>\n",
       "      <td>Rock</td>\n",
       "      <td>2</td>\n",
       "      <td>126328</td>\n",
       "      <td>38160</td>\n",
       "      <td>1</td>\n",
       "    </tr>\n",
       "    <tr>\n",
       "      <th>33049</th>\n",
       "      <td>trapt</td>\n",
       "      <td>still frame</td>\n",
       "      <td>Rock</td>\n",
       "      <td>4</td>\n",
       "      <td>115654</td>\n",
       "      <td>636599</td>\n",
       "      <td>1</td>\n",
       "    </tr>\n",
       "    <tr>\n",
       "      <th>35846</th>\n",
       "      <td>audioslave</td>\n",
       "      <td>like a stone</td>\n",
       "      <td>Rock</td>\n",
       "      <td>4</td>\n",
       "      <td>126328</td>\n",
       "      <td>38149</td>\n",
       "      <td>1</td>\n",
       "    </tr>\n",
       "    <tr>\n",
       "      <th>902692</th>\n",
       "      <td>black sabbath</td>\n",
       "      <td>tomorrow's dream</td>\n",
       "      <td>Rock</td>\n",
       "      <td>4</td>\n",
       "      <td>126661</td>\n",
       "      <td>66027</td>\n",
       "      <td>1</td>\n",
       "    </tr>\n",
       "    <tr>\n",
       "      <th>987609</th>\n",
       "      <td>queen</td>\n",
       "      <td>we will rock you</td>\n",
       "      <td>Rock</td>\n",
       "      <td>6</td>\n",
       "      <td>125254</td>\n",
       "      <td>440700</td>\n",
       "      <td>1</td>\n",
       "    </tr>\n",
       "    <tr>\n",
       "      <th>890612</th>\n",
       "      <td>paul young</td>\n",
       "      <td>everytime you go away</td>\n",
       "      <td>Rock</td>\n",
       "      <td>17</td>\n",
       "      <td>125563</td>\n",
       "      <td>417109</td>\n",
       "      <td>1</td>\n",
       "    </tr>\n",
       "    <tr>\n",
       "      <th>54559</th>\n",
       "      <td>death cab for cutie</td>\n",
       "      <td>song for kelly huckaby</td>\n",
       "      <td>Rock</td>\n",
       "      <td>6</td>\n",
       "      <td>106534</td>\n",
       "      <td>142418</td>\n",
       "      <td>1</td>\n",
       "    </tr>\n",
       "    <tr>\n",
       "      <th>994654</th>\n",
       "      <td>marilyn manson</td>\n",
       "      <td>the beautiful people</td>\n",
       "      <td>Rock</td>\n",
       "      <td>9</td>\n",
       "      <td>114177</td>\n",
       "      <td>345828</td>\n",
       "      <td>1</td>\n",
       "    </tr>\n",
       "    <tr>\n",
       "      <th>890607</th>\n",
       "      <td>taco</td>\n",
       "      <td>puttin' on the ritz</td>\n",
       "      <td>Rock</td>\n",
       "      <td>11</td>\n",
       "      <td>125563</td>\n",
       "      <td>531012</td>\n",
       "      <td>1</td>\n",
       "    </tr>\n",
       "    <tr>\n",
       "      <th>890609</th>\n",
       "      <td>gregory abbott</td>\n",
       "      <td>shake you down</td>\n",
       "      <td>Rock</td>\n",
       "      <td>13</td>\n",
       "      <td>125563</td>\n",
       "      <td>227937</td>\n",
       "      <td>1</td>\n",
       "    </tr>\n",
       "    <tr>\n",
       "      <th>890610</th>\n",
       "      <td>alice cooper</td>\n",
       "      <td>poison</td>\n",
       "      <td>Rock</td>\n",
       "      <td>14</td>\n",
       "      <td>125563</td>\n",
       "      <td>18775</td>\n",
       "      <td>1</td>\n",
       "    </tr>\n",
       "    <tr>\n",
       "      <th>994662</th>\n",
       "      <td>machine head</td>\n",
       "      <td>the blood, the sweat, the tears</td>\n",
       "      <td>Rock</td>\n",
       "      <td>19</td>\n",
       "      <td>114177</td>\n",
       "      <td>338468</td>\n",
       "      <td>1</td>\n",
       "    </tr>\n",
       "    <tr>\n",
       "      <th>994656</th>\n",
       "      <td>korn</td>\n",
       "      <td>falling away from me</td>\n",
       "      <td>Rock</td>\n",
       "      <td>12</td>\n",
       "      <td>114177</td>\n",
       "      <td>306975</td>\n",
       "      <td>1</td>\n",
       "    </tr>\n",
       "    <tr>\n",
       "      <th>994657</th>\n",
       "      <td>adema</td>\n",
       "      <td>giving in</td>\n",
       "      <td>Rock</td>\n",
       "      <td>13</td>\n",
       "      <td>114177</td>\n",
       "      <td>11931</td>\n",
       "      <td>1</td>\n",
       "    </tr>\n",
       "    <tr>\n",
       "      <th>994658</th>\n",
       "      <td>slipknot</td>\n",
       "      <td>spit it out</td>\n",
       "      <td>Rock</td>\n",
       "      <td>14</td>\n",
       "      <td>114177</td>\n",
       "      <td>496906</td>\n",
       "      <td>1</td>\n",
       "    </tr>\n",
       "    <tr>\n",
       "      <th>994659</th>\n",
       "      <td>mudvayne</td>\n",
       "      <td>dig</td>\n",
       "      <td>Rock</td>\n",
       "      <td>15</td>\n",
       "      <td>114177</td>\n",
       "      <td>379293</td>\n",
       "      <td>1</td>\n",
       "    </tr>\n",
       "    <tr>\n",
       "      <th>994661</th>\n",
       "      <td>bush</td>\n",
       "      <td>machinehead</td>\n",
       "      <td>Rock</td>\n",
       "      <td>18</td>\n",
       "      <td>114177</td>\n",
       "      <td>91741</td>\n",
       "      <td>1</td>\n",
       "    </tr>\n",
       "    <tr>\n",
       "      <th>54558</th>\n",
       "      <td>shudder to think</td>\n",
       "      <td>hot one</td>\n",
       "      <td>Rock</td>\n",
       "      <td>5</td>\n",
       "      <td>106534</td>\n",
       "      <td>488290</td>\n",
       "      <td>1</td>\n",
       "    </tr>\n",
       "    <tr>\n",
       "      <th>54556</th>\n",
       "      <td>nick drake</td>\n",
       "      <td>northern sky</td>\n",
       "      <td>Rock</td>\n",
       "      <td>3</td>\n",
       "      <td>106534</td>\n",
       "      <td>392457</td>\n",
       "      <td>1</td>\n",
       "    </tr>\n",
       "    <tr>\n",
       "      <th>54557</th>\n",
       "      <td>m. ward</td>\n",
       "      <td>let's dance</td>\n",
       "      <td>Rock</td>\n",
       "      <td>4</td>\n",
       "      <td>106534</td>\n",
       "      <td>337674</td>\n",
       "      <td>1</td>\n",
       "    </tr>\n",
       "    <tr>\n",
       "      <th>...</th>\n",
       "      <td>...</td>\n",
       "      <td>...</td>\n",
       "      <td>...</td>\n",
       "      <td>...</td>\n",
       "      <td>...</td>\n",
       "      <td>...</td>\n",
       "      <td>...</td>\n",
       "    </tr>\n",
       "    <tr>\n",
       "      <th>589602</th>\n",
       "      <td>santana</td>\n",
       "      <td>soul sacrifice</td>\n",
       "      <td>Rock</td>\n",
       "      <td>8</td>\n",
       "      <td>124973</td>\n",
       "      <td>474211</td>\n",
       "      <td>1</td>\n",
       "    </tr>\n",
       "    <tr>\n",
       "      <th>589609</th>\n",
       "      <td>steve miller band</td>\n",
       "      <td>the joker</td>\n",
       "      <td>Rock</td>\n",
       "      <td>16</td>\n",
       "      <td>124973</td>\n",
       "      <td>517760</td>\n",
       "      <td>1</td>\n",
       "    </tr>\n",
       "    <tr>\n",
       "      <th>232773</th>\n",
       "      <td>brand new</td>\n",
       "      <td>soco amaretto lime</td>\n",
       "      <td>Rock</td>\n",
       "      <td>18</td>\n",
       "      <td>104614</td>\n",
       "      <td>81882</td>\n",
       "      <td>1</td>\n",
       "    </tr>\n",
       "    <tr>\n",
       "      <th>794266</th>\n",
       "      <td>tiffany</td>\n",
       "      <td>i think we're alone now</td>\n",
       "      <td>Rock</td>\n",
       "      <td>15</td>\n",
       "      <td>89410</td>\n",
       "      <td>625200</td>\n",
       "      <td>1</td>\n",
       "    </tr>\n",
       "    <tr>\n",
       "      <th>237479</th>\n",
       "      <td>blur</td>\n",
       "      <td>out of time</td>\n",
       "      <td>Rock</td>\n",
       "      <td>18</td>\n",
       "      <td>76291</td>\n",
       "      <td>71296</td>\n",
       "      <td>1</td>\n",
       "    </tr>\n",
       "    <tr>\n",
       "      <th>237478</th>\n",
       "      <td>nirvana</td>\n",
       "      <td>hairspray queen</td>\n",
       "      <td>Rock</td>\n",
       "      <td>17</td>\n",
       "      <td>76291</td>\n",
       "      <td>395326</td>\n",
       "      <td>1</td>\n",
       "    </tr>\n",
       "    <tr>\n",
       "      <th>237477</th>\n",
       "      <td>sonic youth</td>\n",
       "      <td>bull in the heather</td>\n",
       "      <td>Rock</td>\n",
       "      <td>16</td>\n",
       "      <td>76291</td>\n",
       "      <td>504159</td>\n",
       "      <td>1</td>\n",
       "    </tr>\n",
       "    <tr>\n",
       "      <th>237476</th>\n",
       "      <td>hawksley workman</td>\n",
       "      <td>jealous of your cigarette</td>\n",
       "      <td>Rock</td>\n",
       "      <td>14</td>\n",
       "      <td>76291</td>\n",
       "      <td>236609</td>\n",
       "      <td>1</td>\n",
       "    </tr>\n",
       "    <tr>\n",
       "      <th>237475</th>\n",
       "      <td>the libertines</td>\n",
       "      <td>death on the stairs</td>\n",
       "      <td>Rock</td>\n",
       "      <td>7</td>\n",
       "      <td>76291</td>\n",
       "      <td>580797</td>\n",
       "      <td>1</td>\n",
       "    </tr>\n",
       "    <tr>\n",
       "      <th>237473</th>\n",
       "      <td>the clash</td>\n",
       "      <td>jimmy jazz</td>\n",
       "      <td>Rock</td>\n",
       "      <td>3</td>\n",
       "      <td>76291</td>\n",
       "      <td>554092</td>\n",
       "      <td>1</td>\n",
       "    </tr>\n",
       "    <tr>\n",
       "      <th>237472</th>\n",
       "      <td>supergrass</td>\n",
       "      <td>i'd like to know</td>\n",
       "      <td>Rock</td>\n",
       "      <td>2</td>\n",
       "      <td>76291</td>\n",
       "      <td>526362</td>\n",
       "      <td>1</td>\n",
       "    </tr>\n",
       "    <tr>\n",
       "      <th>569221</th>\n",
       "      <td>wilco</td>\n",
       "      <td>california stars</td>\n",
       "      <td>Rock</td>\n",
       "      <td>10</td>\n",
       "      <td>84542</td>\n",
       "      <td>662921</td>\n",
       "      <td>1</td>\n",
       "    </tr>\n",
       "    <tr>\n",
       "      <th>569220</th>\n",
       "      <td>jack johnson</td>\n",
       "      <td>bubble toes</td>\n",
       "      <td>Rock</td>\n",
       "      <td>9</td>\n",
       "      <td>84542</td>\n",
       "      <td>259917</td>\n",
       "      <td>1</td>\n",
       "    </tr>\n",
       "    <tr>\n",
       "      <th>589607</th>\n",
       "      <td>the allman brothers band</td>\n",
       "      <td>in memory of elizabeth reed</td>\n",
       "      <td>Rock</td>\n",
       "      <td>14</td>\n",
       "      <td>124973</td>\n",
       "      <td>540592</td>\n",
       "      <td>1</td>\n",
       "    </tr>\n",
       "    <tr>\n",
       "      <th>569217</th>\n",
       "      <td>counting crows</td>\n",
       "      <td>mr. jones</td>\n",
       "      <td>Rock</td>\n",
       "      <td>3</td>\n",
       "      <td>84542</td>\n",
       "      <td>122616</td>\n",
       "      <td>1</td>\n",
       "    </tr>\n",
       "    <tr>\n",
       "      <th>263010</th>\n",
       "      <td>pink floyd</td>\n",
       "      <td>mother</td>\n",
       "      <td>Rock</td>\n",
       "      <td>8</td>\n",
       "      <td>77758</td>\n",
       "      <td>427266</td>\n",
       "      <td>1</td>\n",
       "    </tr>\n",
       "    <tr>\n",
       "      <th>569218</th>\n",
       "      <td>dido</td>\n",
       "      <td>white flag</td>\n",
       "      <td>Rock</td>\n",
       "      <td>6</td>\n",
       "      <td>84542</td>\n",
       "      <td>150635</td>\n",
       "      <td>1</td>\n",
       "    </tr>\n",
       "    <tr>\n",
       "      <th>263012</th>\n",
       "      <td>pink floyd</td>\n",
       "      <td>hey you</td>\n",
       "      <td>Rock</td>\n",
       "      <td>12</td>\n",
       "      <td>77758</td>\n",
       "      <td>427216</td>\n",
       "      <td>1</td>\n",
       "    </tr>\n",
       "    <tr>\n",
       "      <th>263014</th>\n",
       "      <td>pink floyd</td>\n",
       "      <td>comfortably numb</td>\n",
       "      <td>Rock</td>\n",
       "      <td>14</td>\n",
       "      <td>77758</td>\n",
       "      <td>427154</td>\n",
       "      <td>1</td>\n",
       "    </tr>\n",
       "    <tr>\n",
       "      <th>263015</th>\n",
       "      <td>pink floyd</td>\n",
       "      <td>run like hell</td>\n",
       "      <td>Rock</td>\n",
       "      <td>15</td>\n",
       "      <td>77758</td>\n",
       "      <td>427315</td>\n",
       "      <td>1</td>\n",
       "    </tr>\n",
       "    <tr>\n",
       "      <th>263016</th>\n",
       "      <td>pink floyd</td>\n",
       "      <td>learning to fly</td>\n",
       "      <td>Rock</td>\n",
       "      <td>17</td>\n",
       "      <td>77758</td>\n",
       "      <td>427244</td>\n",
       "      <td>1</td>\n",
       "    </tr>\n",
       "    <tr>\n",
       "      <th>263019</th>\n",
       "      <td>johnny cash</td>\n",
       "      <td>ring of fire</td>\n",
       "      <td>Rock</td>\n",
       "      <td>22</td>\n",
       "      <td>77758</td>\n",
       "      <td>285202</td>\n",
       "      <td>1</td>\n",
       "    </tr>\n",
       "    <tr>\n",
       "      <th>589601</th>\n",
       "      <td>aerosmith</td>\n",
       "      <td>last child</td>\n",
       "      <td>Rock</td>\n",
       "      <td>7</td>\n",
       "      <td>124973</td>\n",
       "      <td>12724</td>\n",
       "      <td>1</td>\n",
       "    </tr>\n",
       "    <tr>\n",
       "      <th>273211</th>\n",
       "      <td>disturbed</td>\n",
       "      <td>liberate</td>\n",
       "      <td>Rock</td>\n",
       "      <td>13</td>\n",
       "      <td>126706</td>\n",
       "      <td>154088</td>\n",
       "      <td>1</td>\n",
       "    </tr>\n",
       "    <tr>\n",
       "      <th>263021</th>\n",
       "      <td>u2</td>\n",
       "      <td>one</td>\n",
       "      <td>Rock</td>\n",
       "      <td>26</td>\n",
       "      <td>77758</td>\n",
       "      <td>642819</td>\n",
       "      <td>1</td>\n",
       "    </tr>\n",
       "    <tr>\n",
       "      <th>273215</th>\n",
       "      <td>ozzy osbourne</td>\n",
       "      <td>flying high again</td>\n",
       "      <td>Rock</td>\n",
       "      <td>17</td>\n",
       "      <td>126706</td>\n",
       "      <td>409741</td>\n",
       "      <td>1</td>\n",
       "    </tr>\n",
       "    <tr>\n",
       "      <th>263020</th>\n",
       "      <td>u2</td>\n",
       "      <td>with or without you</td>\n",
       "      <td>Rock</td>\n",
       "      <td>23</td>\n",
       "      <td>77758</td>\n",
       "      <td>643019</td>\n",
       "      <td>1</td>\n",
       "    </tr>\n",
       "    <tr>\n",
       "      <th>273214</th>\n",
       "      <td>black sabbath</td>\n",
       "      <td>iron man</td>\n",
       "      <td>Rock</td>\n",
       "      <td>16</td>\n",
       "      <td>126706</td>\n",
       "      <td>65959</td>\n",
       "      <td>1</td>\n",
       "    </tr>\n",
       "    <tr>\n",
       "      <th>273213</th>\n",
       "      <td>korn</td>\n",
       "      <td>somebody someone</td>\n",
       "      <td>Rock</td>\n",
       "      <td>15</td>\n",
       "      <td>126706</td>\n",
       "      <td>307044</td>\n",
       "      <td>1</td>\n",
       "    </tr>\n",
       "    <tr>\n",
       "      <th>273212</th>\n",
       "      <td>marilyn manson</td>\n",
       "      <td>the dope show</td>\n",
       "      <td>Rock</td>\n",
       "      <td>14</td>\n",
       "      <td>126706</td>\n",
       "      <td>345831</td>\n",
       "      <td>1</td>\n",
       "    </tr>\n",
       "  </tbody>\n",
       "</table>\n",
       "<p>544 rows × 7 columns</p>\n",
       "</div>"
      ],
      "text/plain": [
       "                          artist                            title  \\\n",
       "35849                     zz top                             legs   \n",
       "88610                         u2                    beautiful day   \n",
       "88611                    the who                     baba o'riley   \n",
       "902695                      nofx               dinosaurs will die   \n",
       "88612                 yellowcard                     ocean avenue   \n",
       "902694              beastie boys                        sure shot   \n",
       "35845                 audioslave                          cochise   \n",
       "40812                        low                           monkey   \n",
       "869029                 aerosmith                         dream on   \n",
       "35842                     weezer                          susanne   \n",
       "35844                 audioslave              show me how to live   \n",
       "33049                      trapt                      still frame   \n",
       "35846                 audioslave                     like a stone   \n",
       "902692             black sabbath                 tomorrow's dream   \n",
       "987609                     queen                 we will rock you   \n",
       "890612                paul young            everytime you go away   \n",
       "54559        death cab for cutie           song for kelly huckaby   \n",
       "994654            marilyn manson             the beautiful people   \n",
       "890607                      taco              puttin' on the ritz   \n",
       "890609            gregory abbott                   shake you down   \n",
       "890610              alice cooper                           poison   \n",
       "994662              machine head  the blood, the sweat, the tears   \n",
       "994656                      korn             falling away from me   \n",
       "994657                     adema                        giving in   \n",
       "994658                  slipknot                      spit it out   \n",
       "994659                  mudvayne                              dig   \n",
       "994661                      bush                      machinehead   \n",
       "54558           shudder to think                          hot one   \n",
       "54556                 nick drake                     northern sky   \n",
       "54557                    m. ward                      let's dance   \n",
       "...                          ...                              ...   \n",
       "589602                   santana                   soul sacrifice   \n",
       "589609         steve miller band                        the joker   \n",
       "232773                 brand new               soco amaretto lime   \n",
       "794266                   tiffany          i think we're alone now   \n",
       "237479                      blur                      out of time   \n",
       "237478                   nirvana                  hairspray queen   \n",
       "237477               sonic youth              bull in the heather   \n",
       "237476          hawksley workman        jealous of your cigarette   \n",
       "237475            the libertines              death on the stairs   \n",
       "237473                 the clash                       jimmy jazz   \n",
       "237472                supergrass                 i'd like to know   \n",
       "569221                     wilco                 california stars   \n",
       "569220              jack johnson                      bubble toes   \n",
       "589607  the allman brothers band      in memory of elizabeth reed   \n",
       "569217            counting crows                        mr. jones   \n",
       "263010                pink floyd                           mother   \n",
       "569218                      dido                       white flag   \n",
       "263012                pink floyd                          hey you   \n",
       "263014                pink floyd                 comfortably numb   \n",
       "263015                pink floyd                    run like hell   \n",
       "263016                pink floyd                  learning to fly   \n",
       "263019               johnny cash                     ring of fire   \n",
       "589601                 aerosmith                       last child   \n",
       "273211                 disturbed                         liberate   \n",
       "263021                        u2                              one   \n",
       "273215             ozzy osbourne                flying high again   \n",
       "263020                        u2              with or without you   \n",
       "273214             black sabbath                         iron man   \n",
       "273213                      korn                 somebody someone   \n",
       "273212            marilyn manson                    the dope show   \n",
       "\n",
       "       playlist_category  playlist_pos  mix_id  aotm_id  cluster_id  \n",
       "35849               Rock            11  126328   676413           1  \n",
       "88610               Rock            18   97541   642599           1  \n",
       "88611               Rock            19   97541   617655           1  \n",
       "902695              Rock            14  126661   397123           1  \n",
       "88612               Rock            20   97541   671266           1  \n",
       "902694              Rock            10  126661    48062           1  \n",
       "35845               Rock             3  126328    38130           1  \n",
       "40812               Rock             8  106447   333712           1  \n",
       "869029              Rock            17  127137    12672           1  \n",
       "35842               Rock             0  126328   659310           1  \n",
       "35844               Rock             2  126328    38160           1  \n",
       "33049               Rock             4  115654   636599           1  \n",
       "35846               Rock             4  126328    38149           1  \n",
       "902692              Rock             4  126661    66027           1  \n",
       "987609              Rock             6  125254   440700           1  \n",
       "890612              Rock            17  125563   417109           1  \n",
       "54559               Rock             6  106534   142418           1  \n",
       "994654              Rock             9  114177   345828           1  \n",
       "890607              Rock            11  125563   531012           1  \n",
       "890609              Rock            13  125563   227937           1  \n",
       "890610              Rock            14  125563    18775           1  \n",
       "994662              Rock            19  114177   338468           1  \n",
       "994656              Rock            12  114177   306975           1  \n",
       "994657              Rock            13  114177    11931           1  \n",
       "994658              Rock            14  114177   496906           1  \n",
       "994659              Rock            15  114177   379293           1  \n",
       "994661              Rock            18  114177    91741           1  \n",
       "54558               Rock             5  106534   488290           1  \n",
       "54556               Rock             3  106534   392457           1  \n",
       "54557               Rock             4  106534   337674           1  \n",
       "...                  ...           ...     ...      ...         ...  \n",
       "589602              Rock             8  124973   474211           1  \n",
       "589609              Rock            16  124973   517760           1  \n",
       "232773              Rock            18  104614    81882           1  \n",
       "794266              Rock            15   89410   625200           1  \n",
       "237479              Rock            18   76291    71296           1  \n",
       "237478              Rock            17   76291   395326           1  \n",
       "237477              Rock            16   76291   504159           1  \n",
       "237476              Rock            14   76291   236609           1  \n",
       "237475              Rock             7   76291   580797           1  \n",
       "237473              Rock             3   76291   554092           1  \n",
       "237472              Rock             2   76291   526362           1  \n",
       "569221              Rock            10   84542   662921           1  \n",
       "569220              Rock             9   84542   259917           1  \n",
       "589607              Rock            14  124973   540592           1  \n",
       "569217              Rock             3   84542   122616           1  \n",
       "263010              Rock             8   77758   427266           1  \n",
       "569218              Rock             6   84542   150635           1  \n",
       "263012              Rock            12   77758   427216           1  \n",
       "263014              Rock            14   77758   427154           1  \n",
       "263015              Rock            15   77758   427315           1  \n",
       "263016              Rock            17   77758   427244           1  \n",
       "263019              Rock            22   77758   285202           1  \n",
       "589601              Rock             7  124973    12724           1  \n",
       "273211              Rock            13  126706   154088           1  \n",
       "263021              Rock            26   77758   642819           1  \n",
       "273215              Rock            17  126706   409741           1  \n",
       "263020              Rock            23   77758   643019           1  \n",
       "273214              Rock            16  126706    65959           1  \n",
       "273213              Rock            15  126706   307044           1  \n",
       "273212              Rock            14  126706   345831           1  \n",
       "\n",
       "[544 rows x 7 columns]"
      ]
     },
     "execution_count": 361,
     "metadata": {},
     "output_type": "execute_result"
    }
   ],
   "source": [
    "PLAYLISTS_train[PLAYLISTS_train.playlist_category == 'Rock']"
   ]
  },
  {
   "cell_type": "code",
   "execution_count": 363,
   "metadata": {
    "collapsed": false
   },
   "outputs": [
    {
     "data": {
      "text/html": [
       "<div style=\"max-height:1000px;max-width:1500px;overflow:auto;\">\n",
       "<table border=\"1\" class=\"dataframe\">\n",
       "  <thead>\n",
       "    <tr style=\"text-align: right;\">\n",
       "      <th></th>\n",
       "      <th>created</th>\n",
       "      <th>creator</th>\n",
       "      <th>playlist_category</th>\n",
       "      <th>aotm_id</th>\n",
       "      <th>size</th>\n",
       "      <th>cluster_id</th>\n",
       "    </tr>\n",
       "    <tr>\n",
       "      <th>mix_id</th>\n",
       "      <th></th>\n",
       "      <th></th>\n",
       "      <th></th>\n",
       "      <th></th>\n",
       "      <th></th>\n",
       "      <th></th>\n",
       "    </tr>\n",
       "  </thead>\n",
       "  <tbody>\n",
       "    <tr>\n",
       "      <th>130</th>\n",
       "      <td>1998-01-30T00:00:00</td>\n",
       "      <td>Jason Heltne</td>\n",
       "      <td>Rock</td>\n",
       "      <td>[444931, 506899, 501924, 394983, 366247]</td>\n",
       "      <td>5</td>\n",
       "      <td>1</td>\n",
       "    </tr>\n",
       "    <tr>\n",
       "      <th>1071</th>\n",
       "      <td>1998-12-26T00:00:00</td>\n",
       "      <td>Crystal123</td>\n",
       "      <td>Rock</td>\n",
       "      <td>[634080, 443932, 395382, 379162, 395483, 633660]</td>\n",
       "      <td>6</td>\n",
       "      <td>1</td>\n",
       "    </tr>\n",
       "    <tr>\n",
       "      <th>73980</th>\n",
       "      <td>2004-05-11T00:40:00</td>\n",
       "      <td>bosshogg</td>\n",
       "      <td>Rock</td>\n",
       "      <td>[380514, 659139, 370310, 659272, 203921, 56108...</td>\n",
       "      <td>8</td>\n",
       "      <td>1</td>\n",
       "    </tr>\n",
       "    <tr>\n",
       "      <th>74392</th>\n",
       "      <td>2004-05-18T21:19:00</td>\n",
       "      <td>100Watts</td>\n",
       "      <td>Rock</td>\n",
       "      <td>[468994, 18787, 237446, 79282, 540624, 10066, ...</td>\n",
       "      <td>10</td>\n",
       "      <td>1</td>\n",
       "    </tr>\n",
       "    <tr>\n",
       "      <th>76291</th>\n",
       "      <td>2004-06-22T15:52:00</td>\n",
       "      <td>toddjob</td>\n",
       "      <td>Rock</td>\n",
       "      <td>[71296, 236609, 554092, 526362, 580797, 395326...</td>\n",
       "      <td>7</td>\n",
       "      <td>1</td>\n",
       "    </tr>\n",
       "    <tr>\n",
       "      <th>77757</th>\n",
       "      <td>2004-07-18T00:49:00</td>\n",
       "      <td>joeyshoots</td>\n",
       "      <td>Rock</td>\n",
       "      <td>[544832, 545091, 665450, 314924, 545646, 54486...</td>\n",
       "      <td>13</td>\n",
       "      <td>1</td>\n",
       "    </tr>\n",
       "    <tr>\n",
       "      <th>77758</th>\n",
       "      <td>2004-07-18T00:52:00</td>\n",
       "      <td>joeyshoots</td>\n",
       "      <td>Rock</td>\n",
       "      <td>[427266, 642819, 427334, 643019, 427244, 42715...</td>\n",
       "      <td>10</td>\n",
       "      <td>1</td>\n",
       "    </tr>\n",
       "    <tr>\n",
       "      <th>77760</th>\n",
       "      <td>2004-07-18T00:55:00</td>\n",
       "      <td>joeyshoots</td>\n",
       "      <td>Rock</td>\n",
       "      <td>[12672, 143876, 87849, 440715, 12780, 440493, ...</td>\n",
       "      <td>10</td>\n",
       "      <td>1</td>\n",
       "    </tr>\n",
       "    <tr>\n",
       "      <th>79882</th>\n",
       "      <td>2004-08-25T09:57:00</td>\n",
       "      <td>Mason Jar12</td>\n",
       "      <td>Rock</td>\n",
       "      <td>[444160, 225319, 524554, 49938, 390677, 285311...</td>\n",
       "      <td>7</td>\n",
       "      <td>1</td>\n",
       "    </tr>\n",
       "    <tr>\n",
       "      <th>82132</th>\n",
       "      <td>2004-10-18T19:21:00</td>\n",
       "      <td>TBC_RHPS</td>\n",
       "      <td>Rock</td>\n",
       "      <td>[515356, 515344, 578450, 545336, 53692, 554174]</td>\n",
       "      <td>6</td>\n",
       "      <td>1</td>\n",
       "    </tr>\n",
       "    <tr>\n",
       "      <th>83012</th>\n",
       "      <td>2004-11-05T22:31:00</td>\n",
       "      <td>ozlifter</td>\n",
       "      <td>Rock</td>\n",
       "      <td>[435313, 86443, 189741, 597974, 353881]</td>\n",
       "      <td>5</td>\n",
       "      <td>1</td>\n",
       "    </tr>\n",
       "    <tr>\n",
       "      <th>83400</th>\n",
       "      <td>2004-11-14T18:59:00</td>\n",
       "      <td>aymlis</td>\n",
       "      <td>Rock</td>\n",
       "      <td>[659072, 254184, 472971, 497037, 53113]</td>\n",
       "      <td>5</td>\n",
       "      <td>1</td>\n",
       "    </tr>\n",
       "    <tr>\n",
       "      <th>84542</th>\n",
       "      <td>2004-12-10T13:38:00</td>\n",
       "      <td>kelstar</td>\n",
       "      <td>Rock</td>\n",
       "      <td>[444032, 662921, 150635, 259917, 122616, 42744...</td>\n",
       "      <td>9</td>\n",
       "      <td>1</td>\n",
       "    </tr>\n",
       "    <tr>\n",
       "      <th>85462</th>\n",
       "      <td>2004-12-31T21:36:00</td>\n",
       "      <td>Oh you aresick</td>\n",
       "      <td>Rock</td>\n",
       "      <td>[96289, 222629, 476134, 55880, 642705, 325556,...</td>\n",
       "      <td>10</td>\n",
       "      <td>1</td>\n",
       "    </tr>\n",
       "    <tr>\n",
       "      <th>85630</th>\n",
       "      <td>2005-01-04T11:25:00</td>\n",
       "      <td>Elvis12</td>\n",
       "      <td>Rock</td>\n",
       "      <td>[100976, 648419, 392412, 554157, 148749]</td>\n",
       "      <td>5</td>\n",
       "      <td>1</td>\n",
       "    </tr>\n",
       "    <tr>\n",
       "      <th>85996</th>\n",
       "      <td>2005-01-12T13:44:00</td>\n",
       "      <td>Jared Sonners</td>\n",
       "      <td>Rock</td>\n",
       "      <td>[578465, 470179, 244548, 496869, 370310, 64298...</td>\n",
       "      <td>12</td>\n",
       "      <td>1</td>\n",
       "    </tr>\n",
       "    <tr>\n",
       "      <th>86540</th>\n",
       "      <td>2005-01-23T08:12:00</td>\n",
       "      <td>Vagabond Radio</td>\n",
       "      <td>Rock</td>\n",
       "      <td>[178763, 594468, 132998, 98379, 170124, 323213...</td>\n",
       "      <td>10</td>\n",
       "      <td>1</td>\n",
       "    </tr>\n",
       "    <tr>\n",
       "      <th>88608</th>\n",
       "      <td>2005-03-06T22:29:00</td>\n",
       "      <td>colinandrew12</td>\n",
       "      <td>Rock</td>\n",
       "      <td>[527105, 409731, 144267, 440493, 10224, 648188]</td>\n",
       "      <td>6</td>\n",
       "      <td>1</td>\n",
       "    </tr>\n",
       "    <tr>\n",
       "      <th>88666</th>\n",
       "      <td>2005-03-07T22:43:00</td>\n",
       "      <td>Jared Sonners</td>\n",
       "      <td>Rock</td>\n",
       "      <td>[275692, 303946, 448620, 227090, 584020, 44095...</td>\n",
       "      <td>7</td>\n",
       "      <td>1</td>\n",
       "    </tr>\n",
       "    <tr>\n",
       "      <th>89410</th>\n",
       "      <td>2005-03-24T22:55:00</td>\n",
       "      <td>scottwalker84</td>\n",
       "      <td>Rock</td>\n",
       "      <td>[648229, 9384, 443114, 134605, 625200, 621779,...</td>\n",
       "      <td>8</td>\n",
       "      <td>1</td>\n",
       "    </tr>\n",
       "    <tr>\n",
       "      <th>92850</th>\n",
       "      <td>2005-06-19T16:10:00</td>\n",
       "      <td>joyfuulgrrl</td>\n",
       "      <td>Rock</td>\n",
       "      <td>[462257, 197403, 517759, 422262, 87567]</td>\n",
       "      <td>5</td>\n",
       "      <td>1</td>\n",
       "    </tr>\n",
       "    <tr>\n",
       "      <th>94840</th>\n",
       "      <td>2005-08-11T17:48:00</td>\n",
       "      <td>shibbie68</td>\n",
       "      <td>Rock</td>\n",
       "      <td>[199937, 641475, 537861, 199949, 393488, 64145...</td>\n",
       "      <td>9</td>\n",
       "      <td>1</td>\n",
       "    </tr>\n",
       "    <tr>\n",
       "      <th>95224</th>\n",
       "      <td>2005-08-23T14:35:00</td>\n",
       "      <td>ScorpioGuy</td>\n",
       "      <td>Rock</td>\n",
       "      <td>[122944, 59168, 669096, 561705, 314093, 326152...</td>\n",
       "      <td>7</td>\n",
       "      <td>1</td>\n",
       "    </tr>\n",
       "    <tr>\n",
       "      <th>97541</th>\n",
       "      <td>2005-11-03T14:37:00</td>\n",
       "      <td>xlr8damustang</td>\n",
       "      <td>Rock</td>\n",
       "      <td>[186273, 542434, 642599, 339881, 617655, 67126...</td>\n",
       "      <td>10</td>\n",
       "      <td>1</td>\n",
       "    </tr>\n",
       "    <tr>\n",
       "      <th>99149</th>\n",
       "      <td>2005-12-26T12:06:00</td>\n",
       "      <td>clemclem</td>\n",
       "      <td>Rock</td>\n",
       "      <td>[337648, 418761, 84954, 401758, 351504]</td>\n",
       "      <td>5</td>\n",
       "      <td>1</td>\n",
       "    </tr>\n",
       "    <tr>\n",
       "      <th>99150</th>\n",
       "      <td>2005-12-26T12:07:00</td>\n",
       "      <td>clemclem</td>\n",
       "      <td>Rock</td>\n",
       "      <td>[640776, 282762, 107021, 52975, 603896, 514136...</td>\n",
       "      <td>9</td>\n",
       "      <td>1</td>\n",
       "    </tr>\n",
       "    <tr>\n",
       "      <th>100737</th>\n",
       "      <td>2006-02-10T18:54:00</td>\n",
       "      <td>twistlick</td>\n",
       "      <td>Rock</td>\n",
       "      <td>[79297, 170403, 197416, 563180, 10224, 528178,...</td>\n",
       "      <td>9</td>\n",
       "      <td>1</td>\n",
       "    </tr>\n",
       "    <tr>\n",
       "      <th>100960</th>\n",
       "      <td>2006-02-16T07:11:00</td>\n",
       "      <td>moogjb</td>\n",
       "      <td>Rock</td>\n",
       "      <td>[614435, 600836, 332453, 393096, 543401, 61438...</td>\n",
       "      <td>10</td>\n",
       "      <td>1</td>\n",
       "    </tr>\n",
       "    <tr>\n",
       "      <th>102877</th>\n",
       "      <td>2006-04-11T09:16:00</td>\n",
       "      <td>Mazzter4l</td>\n",
       "      <td>Rock</td>\n",
       "      <td>[229474, 297764, 246892, 501166, 390158, 38114...</td>\n",
       "      <td>9</td>\n",
       "      <td>1</td>\n",
       "    </tr>\n",
       "    <tr>\n",
       "      <th>102941</th>\n",
       "      <td>2006-04-13T02:36:00</td>\n",
       "      <td>MrRossy</td>\n",
       "      <td>Rock</td>\n",
       "      <td>[18976, 659204, 379207, 506899, 478905, 366244...</td>\n",
       "      <td>8</td>\n",
       "      <td>1</td>\n",
       "    </tr>\n",
       "    <tr>\n",
       "      <th>...</th>\n",
       "      <td>...</td>\n",
       "      <td>...</td>\n",
       "      <td>...</td>\n",
       "      <td>...</td>\n",
       "      <td>...</td>\n",
       "      <td>...</td>\n",
       "    </tr>\n",
       "    <tr>\n",
       "      <th>114177</th>\n",
       "      <td>2007-08-19T12:13:00</td>\n",
       "      <td>PurpleSurfeit</td>\n",
       "      <td>Rock</td>\n",
       "      <td>[512833, 322530, 345828, 406601, 496906, 15410...</td>\n",
       "      <td>11</td>\n",
       "      <td>1</td>\n",
       "    </tr>\n",
       "    <tr>\n",
       "      <th>114493</th>\n",
       "      <td>2007-09-03T11:31:00</td>\n",
       "      <td>PurpleSurfeit</td>\n",
       "      <td>Rock</td>\n",
       "      <td>[519810, 498651, 509833, 189695, 450068, 17951...</td>\n",
       "      <td>11</td>\n",
       "      <td>1</td>\n",
       "    </tr>\n",
       "    <tr>\n",
       "      <th>114531</th>\n",
       "      <td>2007-09-04T20:24:00</td>\n",
       "      <td>PurpleSurfeit</td>\n",
       "      <td>Rock</td>\n",
       "      <td>[230339, 289767, 112073, 431018, 79267, 494360...</td>\n",
       "      <td>7</td>\n",
       "      <td>1</td>\n",
       "    </tr>\n",
       "    <tr>\n",
       "      <th>115478</th>\n",
       "      <td>2007-10-22T19:51:00</td>\n",
       "      <td>PurpleSurfeit</td>\n",
       "      <td>Rock</td>\n",
       "      <td>[272643, 244548, 126021, 650157, 529109, 34578...</td>\n",
       "      <td>11</td>\n",
       "      <td>1</td>\n",
       "    </tr>\n",
       "    <tr>\n",
       "      <th>115604</th>\n",
       "      <td>2007-10-29T10:04:00</td>\n",
       "      <td>PurpleSurfeit</td>\n",
       "      <td>Rock</td>\n",
       "      <td>[345697, 324427, 323348, 322581, 164547]</td>\n",
       "      <td>5</td>\n",
       "      <td>1</td>\n",
       "    </tr>\n",
       "    <tr>\n",
       "      <th>115654</th>\n",
       "      <td>2007-10-31T17:46:00</td>\n",
       "      <td>PurpleSurfeit</td>\n",
       "      <td>Rock</td>\n",
       "      <td>[514585, 186105, 107124, 164550, 636599]</td>\n",
       "      <td>5</td>\n",
       "      <td>1</td>\n",
       "    </tr>\n",
       "    <tr>\n",
       "      <th>123907</th>\n",
       "      <td>2009-06-12T21:33:00</td>\n",
       "      <td>johnnyboy81684</td>\n",
       "      <td>Rock</td>\n",
       "      <td>[255943, 51882, 603755, 370451, 326041, 554106...</td>\n",
       "      <td>8</td>\n",
       "      <td>1</td>\n",
       "    </tr>\n",
       "    <tr>\n",
       "      <th>124160</th>\n",
       "      <td>2009-07-28T09:39:00</td>\n",
       "      <td>bschmuckler407</td>\n",
       "      <td>Rock</td>\n",
       "      <td>[444160, 444259, 444395, 444301, 444557, 44447...</td>\n",
       "      <td>8</td>\n",
       "      <td>1</td>\n",
       "    </tr>\n",
       "    <tr>\n",
       "      <th>124289</th>\n",
       "      <td>2009-08-11T22:09:00</td>\n",
       "      <td>musicfan792</td>\n",
       "      <td>Rock</td>\n",
       "      <td>[410368, 498657, 406601, 343541, 221078, 642008]</td>\n",
       "      <td>6</td>\n",
       "      <td>1</td>\n",
       "    </tr>\n",
       "    <tr>\n",
       "      <th>124306</th>\n",
       "      <td>2009-08-13T19:47:00</td>\n",
       "      <td>B-Dog</td>\n",
       "      <td>Rock</td>\n",
       "      <td>[418432, 309569, 659010, 164451, 140874, 54708...</td>\n",
       "      <td>7</td>\n",
       "      <td>1</td>\n",
       "    </tr>\n",
       "    <tr>\n",
       "      <th>124389</th>\n",
       "      <td>2009-08-20T21:31:00</td>\n",
       "      <td>e.r. minton</td>\n",
       "      <td>Rock</td>\n",
       "      <td>[210785, 518980, 650282, 554059, 579097, 14889...</td>\n",
       "      <td>7</td>\n",
       "      <td>1</td>\n",
       "    </tr>\n",
       "    <tr>\n",
       "      <th>124634</th>\n",
       "      <td>2009-09-30T14:44:00</td>\n",
       "      <td>spooner113</td>\n",
       "      <td>Rock</td>\n",
       "      <td>[395305, 561834, 418459, 359556, 315183]</td>\n",
       "      <td>5</td>\n",
       "      <td>1</td>\n",
       "    </tr>\n",
       "    <tr>\n",
       "      <th>124710</th>\n",
       "      <td>2009-10-16T08:07:00</td>\n",
       "      <td>ereteshka</td>\n",
       "      <td>Rock</td>\n",
       "      <td>[274625, 544802, 561892, 518412, 545646, 56196...</td>\n",
       "      <td>12</td>\n",
       "      <td>1</td>\n",
       "    </tr>\n",
       "    <tr>\n",
       "      <th>124935</th>\n",
       "      <td>2009-11-30T11:47:00</td>\n",
       "      <td>Tfranklin</td>\n",
       "      <td>Rock</td>\n",
       "      <td>[648001, 72839, 46153, 197323, 197331, 270612,...</td>\n",
       "      <td>7</td>\n",
       "      <td>1</td>\n",
       "    </tr>\n",
       "    <tr>\n",
       "      <th>124973</th>\n",
       "      <td>2009-12-05T15:24:00</td>\n",
       "      <td>woods415</td>\n",
       "      <td>Rock</td>\n",
       "      <td>[517760, 474211, 540592, 676369, 676403, 12724]</td>\n",
       "      <td>6</td>\n",
       "      <td>1</td>\n",
       "    </tr>\n",
       "    <tr>\n",
       "      <th>125254</th>\n",
       "      <td>2010-01-12T02:58:00</td>\n",
       "      <td>Dawndella</td>\n",
       "      <td>Rock</td>\n",
       "      <td>[527105, 440698, 440700, 68964, 10220]</td>\n",
       "      <td>5</td>\n",
       "      <td>1</td>\n",
       "    </tr>\n",
       "    <tr>\n",
       "      <th>125266</th>\n",
       "      <td>2010-01-14T15:53:00</td>\n",
       "      <td>Trish Mullins</td>\n",
       "      <td>Rock</td>\n",
       "      <td>[55880, 561936, 143842, 554174, 105838]</td>\n",
       "      <td>5</td>\n",
       "      <td>1</td>\n",
       "    </tr>\n",
       "    <tr>\n",
       "      <th>125563</th>\n",
       "      <td>2010-03-04T06:35:00</td>\n",
       "      <td>Uncle Orca123</td>\n",
       "      <td>Rock</td>\n",
       "      <td>[227937, 531012, 3693, 393488, 42165, 18775, 4...</td>\n",
       "      <td>7</td>\n",
       "      <td>1</td>\n",
       "    </tr>\n",
       "    <tr>\n",
       "      <th>125949</th>\n",
       "      <td>2010-04-30T05:47:00</td>\n",
       "      <td>Almost Simon</td>\n",
       "      <td>Rock</td>\n",
       "      <td>[47107, 561932, 265167, 427280, 159363, 263636...</td>\n",
       "      <td>8</td>\n",
       "      <td>1</td>\n",
       "    </tr>\n",
       "    <tr>\n",
       "      <th>126328</th>\n",
       "      <td>2010-08-22T15:27:00</td>\n",
       "      <td>musicfan792</td>\n",
       "      <td>Rock</td>\n",
       "      <td>[595042, 38149, 595015, 659310, 38160, 38130, ...</td>\n",
       "      <td>8</td>\n",
       "      <td>1</td>\n",
       "    </tr>\n",
       "    <tr>\n",
       "      <th>126331</th>\n",
       "      <td>2010-08-22T18:13:00</td>\n",
       "      <td>Mastosis</td>\n",
       "      <td>Rock</td>\n",
       "      <td>[447840, 441412, 641457, 356522, 10284, 10445,...</td>\n",
       "      <td>12</td>\n",
       "      <td>1</td>\n",
       "    </tr>\n",
       "    <tr>\n",
       "      <th>126340</th>\n",
       "      <td>2010-08-24T19:21:00</td>\n",
       "      <td>musicfan792</td>\n",
       "      <td>Rock</td>\n",
       "      <td>[239426, 7812, 325543, 7810, 325556, 3063]</td>\n",
       "      <td>6</td>\n",
       "      <td>1</td>\n",
       "    </tr>\n",
       "    <tr>\n",
       "      <th>126392</th>\n",
       "      <td>2010-09-16T17:05:00</td>\n",
       "      <td>musicfan792</td>\n",
       "      <td>Rock</td>\n",
       "      <td>[599288, 599185, 599211, 599413, 599224]</td>\n",
       "      <td>5</td>\n",
       "      <td>1</td>\n",
       "    </tr>\n",
       "    <tr>\n",
       "      <th>126404</th>\n",
       "      <td>2010-09-20T12:01:00</td>\n",
       "      <td>joes_fanclub</td>\n",
       "      <td>Rock</td>\n",
       "      <td>[83297, 446565, 294982, 425320, 518986, 42511,...</td>\n",
       "      <td>7</td>\n",
       "      <td>1</td>\n",
       "    </tr>\n",
       "    <tr>\n",
       "      <th>126661</th>\n",
       "      <td>2010-12-12T23:27:00</td>\n",
       "      <td>musicfan792</td>\n",
       "      <td>Rock</td>\n",
       "      <td>[527105, 397123, 66027, 557996, 226969, 440956...</td>\n",
       "      <td>7</td>\n",
       "      <td>1</td>\n",
       "    </tr>\n",
       "    <tr>\n",
       "      <th>126706</th>\n",
       "      <td>2010-12-19T23:28:00</td>\n",
       "      <td>musicfan792</td>\n",
       "      <td>Rock</td>\n",
       "      <td>[154088, 65959, 307044, 409741, 345831]</td>\n",
       "      <td>5</td>\n",
       "      <td>1</td>\n",
       "    </tr>\n",
       "    <tr>\n",
       "      <th>126887</th>\n",
       "      <td>2011-02-04T10:17:00</td>\n",
       "      <td>lizzieneff</td>\n",
       "      <td>Rock</td>\n",
       "      <td>[81259, 542470, 542439, 439785, 241195, 588433...</td>\n",
       "      <td>10</td>\n",
       "      <td>1</td>\n",
       "    </tr>\n",
       "    <tr>\n",
       "      <th>126923</th>\n",
       "      <td>2011-02-13T14:25:00</td>\n",
       "      <td>jaredgetsacookie</td>\n",
       "      <td>Rock</td>\n",
       "      <td>[665153, 549158, 550694, 166698, 240916, 101055]</td>\n",
       "      <td>6</td>\n",
       "      <td>1</td>\n",
       "    </tr>\n",
       "    <tr>\n",
       "      <th>127137</th>\n",
       "      <td>2011-05-03T10:34:00</td>\n",
       "      <td>musicfan792</td>\n",
       "      <td>Rock</td>\n",
       "      <td>[12736, 12672, 12802, 12676, 12711, 12780, 127...</td>\n",
       "      <td>11</td>\n",
       "      <td>1</td>\n",
       "    </tr>\n",
       "    <tr>\n",
       "      <th>127230</th>\n",
       "      <td>2011-05-31T06:57:00</td>\n",
       "      <td>fastslow76</td>\n",
       "      <td>Rock</td>\n",
       "      <td>[545601, 545701, 545677, 545139, 545304, 544889]</td>\n",
       "      <td>6</td>\n",
       "      <td>1</td>\n",
       "    </tr>\n",
       "  </tbody>\n",
       "</table>\n",
       "<p>70 rows × 6 columns</p>\n",
       "</div>"
      ],
      "text/plain": [
       "                    created           creator playlist_category  \\\n",
       "mix_id                                                            \n",
       "130     1998-01-30T00:00:00      Jason Heltne              Rock   \n",
       "1071    1998-12-26T00:00:00        Crystal123              Rock   \n",
       "73980   2004-05-11T00:40:00          bosshogg              Rock   \n",
       "74392   2004-05-18T21:19:00          100Watts              Rock   \n",
       "76291   2004-06-22T15:52:00           toddjob              Rock   \n",
       "77757   2004-07-18T00:49:00        joeyshoots              Rock   \n",
       "77758   2004-07-18T00:52:00        joeyshoots              Rock   \n",
       "77760   2004-07-18T00:55:00        joeyshoots              Rock   \n",
       "79882   2004-08-25T09:57:00       Mason Jar12              Rock   \n",
       "82132   2004-10-18T19:21:00          TBC_RHPS              Rock   \n",
       "83012   2004-11-05T22:31:00          ozlifter              Rock   \n",
       "83400   2004-11-14T18:59:00            aymlis              Rock   \n",
       "84542   2004-12-10T13:38:00           kelstar              Rock   \n",
       "85462   2004-12-31T21:36:00    Oh you aresick              Rock   \n",
       "85630   2005-01-04T11:25:00           Elvis12              Rock   \n",
       "85996   2005-01-12T13:44:00     Jared Sonners              Rock   \n",
       "86540   2005-01-23T08:12:00    Vagabond Radio              Rock   \n",
       "88608   2005-03-06T22:29:00     colinandrew12              Rock   \n",
       "88666   2005-03-07T22:43:00     Jared Sonners              Rock   \n",
       "89410   2005-03-24T22:55:00     scottwalker84              Rock   \n",
       "92850   2005-06-19T16:10:00       joyfuulgrrl              Rock   \n",
       "94840   2005-08-11T17:48:00         shibbie68              Rock   \n",
       "95224   2005-08-23T14:35:00        ScorpioGuy              Rock   \n",
       "97541   2005-11-03T14:37:00     xlr8damustang              Rock   \n",
       "99149   2005-12-26T12:06:00          clemclem              Rock   \n",
       "99150   2005-12-26T12:07:00          clemclem              Rock   \n",
       "100737  2006-02-10T18:54:00         twistlick              Rock   \n",
       "100960  2006-02-16T07:11:00            moogjb              Rock   \n",
       "102877  2006-04-11T09:16:00         Mazzter4l              Rock   \n",
       "102941  2006-04-13T02:36:00           MrRossy              Rock   \n",
       "...                     ...               ...               ...   \n",
       "114177  2007-08-19T12:13:00     PurpleSurfeit              Rock   \n",
       "114493  2007-09-03T11:31:00     PurpleSurfeit              Rock   \n",
       "114531  2007-09-04T20:24:00     PurpleSurfeit              Rock   \n",
       "115478  2007-10-22T19:51:00     PurpleSurfeit              Rock   \n",
       "115604  2007-10-29T10:04:00     PurpleSurfeit              Rock   \n",
       "115654  2007-10-31T17:46:00     PurpleSurfeit              Rock   \n",
       "123907  2009-06-12T21:33:00    johnnyboy81684              Rock   \n",
       "124160  2009-07-28T09:39:00    bschmuckler407              Rock   \n",
       "124289  2009-08-11T22:09:00       musicfan792              Rock   \n",
       "124306  2009-08-13T19:47:00             B-Dog              Rock   \n",
       "124389  2009-08-20T21:31:00       e.r. minton              Rock   \n",
       "124634  2009-09-30T14:44:00        spooner113              Rock   \n",
       "124710  2009-10-16T08:07:00         ereteshka              Rock   \n",
       "124935  2009-11-30T11:47:00         Tfranklin              Rock   \n",
       "124973  2009-12-05T15:24:00          woods415              Rock   \n",
       "125254  2010-01-12T02:58:00         Dawndella              Rock   \n",
       "125266  2010-01-14T15:53:00     Trish Mullins              Rock   \n",
       "125563  2010-03-04T06:35:00     Uncle Orca123              Rock   \n",
       "125949  2010-04-30T05:47:00      Almost Simon              Rock   \n",
       "126328  2010-08-22T15:27:00       musicfan792              Rock   \n",
       "126331  2010-08-22T18:13:00          Mastosis              Rock   \n",
       "126340  2010-08-24T19:21:00       musicfan792              Rock   \n",
       "126392  2010-09-16T17:05:00       musicfan792              Rock   \n",
       "126404  2010-09-20T12:01:00      joes_fanclub              Rock   \n",
       "126661  2010-12-12T23:27:00       musicfan792              Rock   \n",
       "126706  2010-12-19T23:28:00       musicfan792              Rock   \n",
       "126887  2011-02-04T10:17:00        lizzieneff              Rock   \n",
       "126923  2011-02-13T14:25:00  jaredgetsacookie              Rock   \n",
       "127137  2011-05-03T10:34:00       musicfan792              Rock   \n",
       "127230  2011-05-31T06:57:00        fastslow76              Rock   \n",
       "\n",
       "                                                  aotm_id  size  cluster_id  \n",
       "mix_id                                                                       \n",
       "130              [444931, 506899, 501924, 394983, 366247]     5           1  \n",
       "1071     [634080, 443932, 395382, 379162, 395483, 633660]     6           1  \n",
       "73980   [380514, 659139, 370310, 659272, 203921, 56108...     8           1  \n",
       "74392   [468994, 18787, 237446, 79282, 540624, 10066, ...    10           1  \n",
       "76291   [71296, 236609, 554092, 526362, 580797, 395326...     7           1  \n",
       "77757   [544832, 545091, 665450, 314924, 545646, 54486...    13           1  \n",
       "77758   [427266, 642819, 427334, 643019, 427244, 42715...    10           1  \n",
       "77760   [12672, 143876, 87849, 440715, 12780, 440493, ...    10           1  \n",
       "79882   [444160, 225319, 524554, 49938, 390677, 285311...     7           1  \n",
       "82132     [515356, 515344, 578450, 545336, 53692, 554174]     6           1  \n",
       "83012             [435313, 86443, 189741, 597974, 353881]     5           1  \n",
       "83400             [659072, 254184, 472971, 497037, 53113]     5           1  \n",
       "84542   [444032, 662921, 150635, 259917, 122616, 42744...     9           1  \n",
       "85462   [96289, 222629, 476134, 55880, 642705, 325556,...    10           1  \n",
       "85630            [100976, 648419, 392412, 554157, 148749]     5           1  \n",
       "85996   [578465, 470179, 244548, 496869, 370310, 64298...    12           1  \n",
       "86540   [178763, 594468, 132998, 98379, 170124, 323213...    10           1  \n",
       "88608     [527105, 409731, 144267, 440493, 10224, 648188]     6           1  \n",
       "88666   [275692, 303946, 448620, 227090, 584020, 44095...     7           1  \n",
       "89410   [648229, 9384, 443114, 134605, 625200, 621779,...     8           1  \n",
       "92850             [462257, 197403, 517759, 422262, 87567]     5           1  \n",
       "94840   [199937, 641475, 537861, 199949, 393488, 64145...     9           1  \n",
       "95224   [122944, 59168, 669096, 561705, 314093, 326152...     7           1  \n",
       "97541   [186273, 542434, 642599, 339881, 617655, 67126...    10           1  \n",
       "99149             [337648, 418761, 84954, 401758, 351504]     5           1  \n",
       "99150   [640776, 282762, 107021, 52975, 603896, 514136...     9           1  \n",
       "100737  [79297, 170403, 197416, 563180, 10224, 528178,...     9           1  \n",
       "100960  [614435, 600836, 332453, 393096, 543401, 61438...    10           1  \n",
       "102877  [229474, 297764, 246892, 501166, 390158, 38114...     9           1  \n",
       "102941  [18976, 659204, 379207, 506899, 478905, 366244...     8           1  \n",
       "...                                                   ...   ...         ...  \n",
       "114177  [512833, 322530, 345828, 406601, 496906, 15410...    11           1  \n",
       "114493  [519810, 498651, 509833, 189695, 450068, 17951...    11           1  \n",
       "114531  [230339, 289767, 112073, 431018, 79267, 494360...     7           1  \n",
       "115478  [272643, 244548, 126021, 650157, 529109, 34578...    11           1  \n",
       "115604           [345697, 324427, 323348, 322581, 164547]     5           1  \n",
       "115654           [514585, 186105, 107124, 164550, 636599]     5           1  \n",
       "123907  [255943, 51882, 603755, 370451, 326041, 554106...     8           1  \n",
       "124160  [444160, 444259, 444395, 444301, 444557, 44447...     8           1  \n",
       "124289   [410368, 498657, 406601, 343541, 221078, 642008]     6           1  \n",
       "124306  [418432, 309569, 659010, 164451, 140874, 54708...     7           1  \n",
       "124389  [210785, 518980, 650282, 554059, 579097, 14889...     7           1  \n",
       "124634           [395305, 561834, 418459, 359556, 315183]     5           1  \n",
       "124710  [274625, 544802, 561892, 518412, 545646, 56196...    12           1  \n",
       "124935  [648001, 72839, 46153, 197323, 197331, 270612,...     7           1  \n",
       "124973    [517760, 474211, 540592, 676369, 676403, 12724]     6           1  \n",
       "125254             [527105, 440698, 440700, 68964, 10220]     5           1  \n",
       "125266            [55880, 561936, 143842, 554174, 105838]     5           1  \n",
       "125563  [227937, 531012, 3693, 393488, 42165, 18775, 4...     7           1  \n",
       "125949  [47107, 561932, 265167, 427280, 159363, 263636...     8           1  \n",
       "126328  [595042, 38149, 595015, 659310, 38160, 38130, ...     8           1  \n",
       "126331  [447840, 441412, 641457, 356522, 10284, 10445,...    12           1  \n",
       "126340         [239426, 7812, 325543, 7810, 325556, 3063]     6           1  \n",
       "126392           [599288, 599185, 599211, 599413, 599224]     5           1  \n",
       "126404  [83297, 446565, 294982, 425320, 518986, 42511,...     7           1  \n",
       "126661  [527105, 397123, 66027, 557996, 226969, 440956...     7           1  \n",
       "126706            [154088, 65959, 307044, 409741, 345831]     5           1  \n",
       "126887  [81259, 542470, 542439, 439785, 241195, 588433...    10           1  \n",
       "126923   [665153, 549158, 550694, 166698, 240916, 101055]     6           1  \n",
       "127137  [12736, 12672, 12802, 12676, 12711, 12780, 127...    11           1  \n",
       "127230   [545601, 545701, 545677, 545139, 545304, 544889]     6           1  \n",
       "\n",
       "[70 rows x 6 columns]"
      ]
     },
     "execution_count": 363,
     "metadata": {},
     "output_type": "execute_result"
    }
   ],
   "source": [
    "MIXES_train[MIXES_train.playlist_category == 'Rock']"
   ]
  },
  {
   "cell_type": "code",
   "execution_count": null,
   "metadata": {
    "collapsed": true
   },
   "outputs": [],
   "source": []
  },
  {
   "cell_type": "markdown",
   "metadata": {},
   "source": [
    "# Experiments\n"
   ]
  },
  {
   "cell_type": "code",
   "execution_count": 223,
   "metadata": {
    "collapsed": true
   },
   "outputs": [],
   "source": [
    "# rank = len(P_CATEGORIES)\n",
    "RANK = 10  # number of clusters of song graph; number of playlist categories\n",
    "PLAYLIST_SIZE = 10\n",
    "SAMPLE_SIZE = 3  # pick x songs as input from a playlist\n",
    "NB_SAMPLED_PLAYLISTS = 100  # playlist per categories for random and sampled case\n",
    "TOP_K_PLAYLISTS = 50"
   ]
  },
  {
   "cell_type": "code",
   "execution_count": 339,
   "metadata": {
    "collapsed": false
   },
   "outputs": [],
   "source": [
    "def agglomerate_results_per_category(data_path, key):\n",
    "    path = data_path + '.h5'\n",
    "    store = pd.HDFStore(path)\n",
    "    random = store['results_random'][key]\n",
    "    test_set = store['results_test'][key]\n",
    "    \n",
    "    sampled = None\n",
    "    if 'results_sampled' in store:\n",
    "        sampled = store['results_sampled'][key]\n",
    "    \n",
    "    res = pd.DataFrame(index=random.index)\n",
    "    res['Random'] = random\n",
    "    res['Test set'] = test_set\n",
    "    \n",
    "    if sampled is not None:\n",
    "        res['Sampled'] = sampled\n",
    "    store.close()\n",
    "    \n",
    "    res.index.name = 'Playlist category'\n",
    "    \n",
    "    out = data_path + '_agg_' + key + '.tex'\n",
    "    res.to_latex(out)\n",
    "    return res\n",
    "\n",
    "\n",
    "def training_closure():\n",
    "    def inner(data_path, theta_playlists, theta_songs, playlist_graph):  # stripped or normal\n",
    "        return recog.proximal_training(C_train, playlist_graph, SONG_GRAPH, RANK,\n",
    "                                       theta_tv_a=theta_playlists,\n",
    "                                       theta_tv_b=theta_songs,\n",
    "                                       data_path=data_path,\n",
    "                                       verbose=1)\n",
    "    return inner\n",
    "\n",
    "    \n",
    "def create_sampled_mix_df(playlist_df, playlist_size, nb_playlists, p_categories, do_random=True):\n",
    "    assert(playlist_size > 0)\n",
    "    mix_df = []\n",
    "    mix_id = 0\n",
    "    for cat, group in playlist_df.groupby('playlist_category'):\n",
    "        for i in xrange(nb_playlists):\n",
    "            mix_id += 1\n",
    "            if do_random:\n",
    "                size = min(playlist_size, len(playlist_df))\n",
    "                songs = list(np.random.choice(playlist_df[SONG_ID_KEY].values, size, replace=False))\n",
    "            else:\n",
    "                size = min(playlist_size, len(group))\n",
    "                songs = list(np.random.choice(group[SONG_ID_KEY].values, size, replace=False))\n",
    "\n",
    "            d = {'mix_id': mix_id, 'playlist_category': cat, SONG_ID_KEY: songs}\n",
    "            mix_df.append(d)\n",
    "        \n",
    "    mix_df = pd.DataFrame(mix_df).set_index('mix_id')\n",
    "    return mix_df\n",
    "\n",
    "\n",
    "def scores_from_mix_df(mix_df, song_df, reco_func, score_func, sample_size=0):    \n",
    "    results = []\n",
    "    for mix_id, row in mix_df.iterrows():\n",
    "        p_category = row['playlist_category']\n",
    "        songs = row[SONG_ID_KEY]\n",
    "        if sample_size > 0:\n",
    "            songs = np.random.choice(songs, min(sample_size, len(songs)), replace=False)\n",
    "        \n",
    "        reco_df = reco_func(songs)\n",
    "        input_df = song_df.loc[songs]\n",
    "        scores = score_func(reco_df, input_df, p_category)\n",
    "        scores['mix_id'] = mix_id\n",
    "        results.append(scores)\n",
    "    res = pd.DataFrame(results).set_index('mix_id')\n",
    "    return res.groupby('playlist_category').mean()\n",
    "\n",
    "\n",
    "\n",
    "def run_validation(data_path, A, B, method=0, sample_size=SAMPLE_SIZE, top_k_playlist=TOP_K_PLAYLISTS,\n",
    "                   score_playlist_cat_only=False,\n",
    "                   with_sampled_playlists=True, only_test_set=False):\n",
    "    \n",
    "    start = time.time()\n",
    "    # Select recommend method\n",
    "    reco_f = None\n",
    "    if method == 0:\n",
    "        reco_f = lambda x: recog.recommend(x, SONGS, A, B, PLAYLIST_SIZE, SONG_TO_IDX, top_k_playlist)\n",
    "    elif method == 1:\n",
    "        reco_f = lambda x: recog.recommend_playlist_graph_only(x, SONGS, MIXES_train,\n",
    "                                                               PLAYLISTS_train, \n",
    "                                                               SONG_ID_KEY,\n",
    "                                                               PLAYLIST_ID_KEY,\n",
    "                                                               top_k_playlists=top_k_playlist, \n",
    "                                                               top_k_songs=PLAYLIST_SIZE)\n",
    "    else:\n",
    "        raise NotImplementedError\n",
    "        \n",
    "    # Select score func\n",
    "    score_func = lambda x, y, z: recog.recommend_score(x, y, z, \n",
    "                                                       'playlist_category', \n",
    "                                                       'cluster_id', PLAYLISTS_train,\n",
    "                                                        PLAYLIST_SIZE, SONG_TO_IDX, SONG_ID_KEY, \n",
    "                                                        PAIR_DISTANCES, score_playlist_cat_only)\n",
    "        \n",
    "    results_test = scores_from_mix_df(MIXES_test, SONGS, reco_f, score_func, sample_size)\n",
    "    if only_test_set:\n",
    "        print 'Validation took {} seconds'.format(time.time() - start)\n",
    "        return results_test\n",
    "    \n",
    "    random_mix = create_sampled_mix_df(PLAYLISTS_test, PLAYLIST_SIZE, NB_SAMPLED_PLAYLISTS, P_CATEGORIES)\n",
    "    results_random = scores_from_mix_df(random_mix, SONGS, reco_f, score_func, sample_size)\n",
    "    \n",
    "    # Dump results to disk\n",
    "    path = data_path + '.h5'\n",
    "    store = pd.HDFStore(path)\n",
    "    store['results_test'] = results_test\n",
    "    store['results_random'] = results_random\n",
    "    \n",
    "    # Concat results\n",
    "    res = [results_test.mean(), results_random.mean()]\n",
    "    cols = [(0, 'test_set'), (1, 'random')]\n",
    "\n",
    "    if with_sampled_playlists:\n",
    "        sampled_mix = create_sampled_mix_df(PLAYLISTS_test, PLAYLIST_SIZE, NB_SAMPLED_PLAYLISTS, P_CATEGORIES, False)\n",
    "        results_sampled = scores_from_mix_df(sampled_mix, SONGS, reco_f, score_func, sample_size)\n",
    "        store['results_sampled'] = results_sampled\n",
    "        res.append(results_sampled.mean())\n",
    "        cols.append([2, 'sampled'])\n",
    "\n",
    "    store.close()\n",
    "    \n",
    "    results = pd.concat(res, axis=1)\n",
    "    results.rename(columns=dict(cols), inplace=True)\n",
    "    \n",
    "    print 'Validation took {} seconds'.format(time.time() - start)\n",
    "    return results\n",
    "    "
   ]
  },
  {
   "cell_type": "markdown",
   "metadata": {},
   "source": [
    "### Average pairwise distance of song graph"
   ]
  },
  {
   "cell_type": "code",
   "execution_count": null,
   "metadata": {
    "collapsed": false
   },
   "outputs": [],
   "source": [
    "distances = nx.get_edge_attributes(SONG_GRAPH, 'dist')\n",
    "\n",
    "res = sum(map(lambda x: x[1], distances.items()))\n",
    "res /= len(distances)\n",
    "\n",
    "print 'Average distance on the song graph:', res\n",
    "    \n",
    "print 'Diameter:', nx.diameter(SONG_GRAPH)"
   ]
  },
  {
   "cell_type": "markdown",
   "metadata": {},
   "source": [
    "## Experiment 1\n",
    "\n",
    "Here we set theta_song to 0 and compare our model to the random case or using a simple playlist recommender system.\n",
    "\n",
    "We designed two scenarii with a playlist graph only created with cosine similarity, the second scenario also add the metadata.\n",
    "\n",
    "We test different cases:\n",
    "\n",
    "- NMF only $\\theta_p = \\theta_s = 0$\n",
    "- NMF + playlist graph compared to a different rec sys using only playlist"
   ]
  },
  {
   "cell_type": "code",
   "execution_count": null,
   "metadata": {
    "collapsed": true
   },
   "outputs": [],
   "source": [
    "EXPERIMENT_DIR = os.path.join(DUMP_DIR, 'experiment1')\n",
    "if not os.path.exists(EXPERIMENT_DIR):\n",
    "    os.mkdir(EXPERIMENT_DIR)"
   ]
  },
  {
   "cell_type": "markdown",
   "metadata": {},
   "source": [
    "### NMF only"
   ]
  },
  {
   "cell_type": "code",
   "execution_count": 110,
   "metadata": {
    "collapsed": true
   },
   "outputs": [],
   "source": [
    "theta_playlists_nmf_only = 0\n",
    "theta_songs_nmf_only = 0\n",
    "data_path = os.path.join(EXPERIMENT_DIR, 'nmf_only')"
   ]
  },
  {
   "cell_type": "code",
   "execution_count": null,
   "metadata": {
    "collapsed": false
   },
   "outputs": [],
   "source": [
    "A_nmf_only, B_nmf_only = training_closure()(data_path, \n",
    "                                            theta_playlists_nmf_only,\n",
    "                                            theta_songs_nmf_only, \n",
    "                                            STRIPPED_PLAYLIST_GRAPH_train)"
   ]
  },
  {
   "cell_type": "code",
   "execution_count": 227,
   "metadata": {
    "collapsed": false
   },
   "outputs": [
    {
     "name": "stdout",
     "output_type": "stream",
     "text": [
      "Validation took 210.262040854 seconds\n"
     ]
    }
   ],
   "source": [
    "results_nmf_only = run_validation(data_path, A_nmf_only, B_nmf_only)"
   ]
  },
  {
   "cell_type": "code",
   "execution_count": 228,
   "metadata": {
    "collapsed": false
   },
   "outputs": [
    {
     "data": {
      "text/html": [
       "<div style=\"max-height:1000px;max-width:1500px;overflow:auto;\">\n",
       "<table border=\"1\" class=\"dataframe\">\n",
       "  <thead>\n",
       "    <tr style=\"text-align: right;\">\n",
       "      <th></th>\n",
       "      <th>test_set</th>\n",
       "      <th>random</th>\n",
       "      <th>sampled</th>\n",
       "    </tr>\n",
       "  </thead>\n",
       "  <tbody>\n",
       "    <tr>\n",
       "      <th>p_cat_out</th>\n",
       "      <td>0.202775</td>\n",
       "      <td>0.123900</td>\n",
       "      <td>0.214700</td>\n",
       "    </tr>\n",
       "    <tr>\n",
       "      <th>s_cluster</th>\n",
       "      <td>-0.121288</td>\n",
       "      <td>-0.141333</td>\n",
       "      <td>-0.132600</td>\n",
       "    </tr>\n",
       "    <tr>\n",
       "      <th>s_genre</th>\n",
       "      <td>0.475764</td>\n",
       "      <td>0.435732</td>\n",
       "      <td>0.454768</td>\n",
       "    </tr>\n",
       "    <tr>\n",
       "      <th>s_graph_dist_in</th>\n",
       "      <td>63.428459</td>\n",
       "      <td>63.477088</td>\n",
       "      <td>63.053262</td>\n",
       "    </tr>\n",
       "    <tr>\n",
       "      <th>s_graph_dist_out</th>\n",
       "      <td>63.119911</td>\n",
       "      <td>63.275132</td>\n",
       "      <td>63.158809</td>\n",
       "    </tr>\n",
       "  </tbody>\n",
       "</table>\n",
       "</div>"
      ],
      "text/plain": [
       "                   test_set     random    sampled\n",
       "p_cat_out          0.202775   0.123900   0.214700\n",
       "s_cluster         -0.121288  -0.141333  -0.132600\n",
       "s_genre            0.475764   0.435732   0.454768\n",
       "s_graph_dist_in   63.428459  63.477088  63.053262\n",
       "s_graph_dist_out  63.119911  63.275132  63.158809"
      ]
     },
     "execution_count": 228,
     "metadata": {},
     "output_type": "execute_result"
    }
   ],
   "source": [
    "results_nmf_only"
   ]
  },
  {
   "cell_type": "markdown",
   "metadata": {},
   "source": [
    "### Scenario 1\n",
    "\n",
    "In this scenario no playlist categories are given, we create a playlist similarity graph only using cosine similarity. This is the normal case (Spotify, Deezer, etc.)."
   ]
  },
  {
   "cell_type": "code",
   "execution_count": 78,
   "metadata": {
    "collapsed": true
   },
   "outputs": [],
   "source": [
    "SCENARIO_DIR = os.path.join(EXPERIMENT_DIR, 'scenario1')\n",
    "if not os.path.exists(SCENARIO_DIR):\n",
    "    os.mkdir(SCENARIO_DIR)"
   ]
  },
  {
   "cell_type": "markdown",
   "metadata": {},
   "source": [
    "#### Playlist graph recommender"
   ]
  },
  {
   "cell_type": "code",
   "execution_count": 344,
   "metadata": {
    "collapsed": false
   },
   "outputs": [],
   "source": [
    "data_path = os.path.join(SCENARIO_DIR, 'playlist_graph_rec')\n",
    "exp1_s1_playlist_graph_rec = run_validation(data_path, None, None, method=1)"
   ]
  },
  {
   "cell_type": "code",
   "execution_count": 336,
   "metadata": {
    "collapsed": false
   },
   "outputs": [
    {
     "data": {
      "text/html": [
       "<div style=\"max-height:1000px;max-width:1500px;overflow:auto;\">\n",
       "<table border=\"1\" class=\"dataframe\">\n",
       "  <thead>\n",
       "    <tr style=\"text-align: right;\">\n",
       "      <th></th>\n",
       "      <th>test_set</th>\n",
       "      <th>random</th>\n",
       "      <th>sampled</th>\n",
       "    </tr>\n",
       "  </thead>\n",
       "  <tbody>\n",
       "    <tr>\n",
       "      <th>p_cat_out</th>\n",
       "      <td>0.556469</td>\n",
       "      <td>0.131450</td>\n",
       "      <td>0.544247</td>\n",
       "    </tr>\n",
       "    <tr>\n",
       "      <th>s_cluster</th>\n",
       "      <td>-0.173271</td>\n",
       "      <td>-0.161699</td>\n",
       "      <td>-0.179474</td>\n",
       "    </tr>\n",
       "    <tr>\n",
       "      <th>s_genre</th>\n",
       "      <td>0.298235</td>\n",
       "      <td>0.337460</td>\n",
       "      <td>0.300272</td>\n",
       "    </tr>\n",
       "    <tr>\n",
       "      <th>s_graph_dist_in</th>\n",
       "      <td>63.243423</td>\n",
       "      <td>63.633844</td>\n",
       "      <td>63.034306</td>\n",
       "    </tr>\n",
       "    <tr>\n",
       "      <th>s_graph_dist_out</th>\n",
       "      <td>57.963167</td>\n",
       "      <td>59.036521</td>\n",
       "      <td>56.510832</td>\n",
       "    </tr>\n",
       "  </tbody>\n",
       "</table>\n",
       "</div>"
      ],
      "text/plain": [
       "                   test_set     random    sampled\n",
       "p_cat_out          0.556469   0.131450   0.544247\n",
       "s_cluster         -0.173271  -0.161699  -0.179474\n",
       "s_genre            0.298235   0.337460   0.300272\n",
       "s_graph_dist_in   63.243423  63.633844  63.034306\n",
       "s_graph_dist_out  57.963167  59.036521  56.510832"
      ]
     },
     "execution_count": 336,
     "metadata": {},
     "output_type": "execute_result"
    }
   ],
   "source": [
    "exp1_s1_playlist_graph_rec"
   ]
  },
  {
   "cell_type": "code",
   "execution_count": 348,
   "metadata": {
    "collapsed": false,
    "scrolled": true
   },
   "outputs": [],
   "source": [
    "# path = data_path + '.h5'\n",
    "# store = pd.HDFStore(path)\n",
    "# store['results_test']"
   ]
  },
  {
   "cell_type": "markdown",
   "metadata": {},
   "source": [
    "#### Our recommender system\n",
    "\n",
    "Find best theta from grid search."
   ]
  },
  {
   "cell_type": "code",
   "execution_count": 269,
   "metadata": {
    "collapsed": true
   },
   "outputs": [],
   "source": [
    "def grid_search_theta_playlist():\n",
    "    results = []\n",
    "    for theta in xrange(25, 50, 5):\n",
    "        d = {'theta_playlist': theta}\n",
    "        data_path = os.path.join(SCENARIO_DIR, 'exp1_s1_theta_p_' + str(theta))\n",
    "        d['data_path'] = data_path\n",
    "        a, b = training_closure()(data_path, theta, 0.0, STRIPPED_PLAYLIST_GRAPH_train)\n",
    "        d['a'] = a\n",
    "        d['b'] = b\n",
    "        results.append(d)\n",
    "    return results\n",
    "\n",
    "def find_best_theta(all_data):\n",
    "    best_d = all_data[0]\n",
    "    old_score = 0\n",
    "    for d in all_data:\n",
    "        r = run_validation(d['data_path'], d['a'], d['b'], sample_size=0,\n",
    "                           with_sampled_playlists=False, score_playlist_cat_only=True, only_test_set=True)\n",
    "        score = r['p_cat_out'].mean()\n",
    "        if score > old_score:\n",
    "            print 'Theta: {}, score: {}'.format(d['theta_playlist'], score)\n",
    "            best_d = d\n",
    "            old_score = score\n",
    "    return best_d"
   ]
  },
  {
   "cell_type": "code",
   "execution_count": 270,
   "metadata": {
    "collapsed": false
   },
   "outputs": [
    {
     "name": "stdout",
     "output_type": "stream",
     "text": [
      "Validation took 27.9912080765 seconds\n",
      "Theta: 1, score: 0.240428759459\n",
      "Validation took 25.5831568241 seconds\n",
      "Theta: 4, score: 0.277753818739\n",
      "Validation took 25.9557518959 seconds\n",
      "Theta: 7, score: 0.395333404383\n",
      "Validation took 26.2310221195 seconds\n",
      "Theta: 10, score: 0.450928604442\n",
      "Validation took 25.836771965 seconds\n",
      "Validation took 25.8502099514 seconds\n",
      "Validation took 27.8938879967 seconds\n",
      "Validation took 27.0365109444 seconds\n",
      "Theta: 22, score: 0.470015354617\n",
      "Validation took 27.0512890816 seconds\n",
      "Theta: 25, score: 0.494692202912\n",
      "Best theta playlist: 25\n"
     ]
    }
   ],
   "source": [
    "best_theta_p_s1 = 25\n",
    "# results_gs_theta_playlist_exp1_s1 = grid_search_theta_playlist()\n",
    "exp1_s1_d = find_best_theta(results_gs_theta_playlist_exp1_s1)\n",
    "data_path = os.path.join(SCENARIO_DIR, 'exp1_s1_best_theta_p' + str(exp1_s1_d['theta_playlist']))\n",
    "np.savez(data_path, A=exp1_s1_d['a'], B=exp1_s1_d['b'])\n",
    "print 'Best theta playlist:', exp1_s1_d['theta_playlist']"
   ]
  },
  {
   "cell_type": "code",
   "execution_count": 272,
   "metadata": {
    "collapsed": false
   },
   "outputs": [
    {
     "name": "stdout",
     "output_type": "stream",
     "text": [
      "Validation took 110.356376171 seconds\n"
     ]
    }
   ],
   "source": [
    "exp1_s1_results = run_validation(data_path, exp1_s1_d['a'], exp1_s1_d['b'])"
   ]
  },
  {
   "cell_type": "code",
   "execution_count": 273,
   "metadata": {
    "collapsed": false
   },
   "outputs": [
    {
     "data": {
      "text/html": [
       "<div style=\"max-height:1000px;max-width:1500px;overflow:auto;\">\n",
       "<table border=\"1\" class=\"dataframe\">\n",
       "  <thead>\n",
       "    <tr style=\"text-align: right;\">\n",
       "      <th></th>\n",
       "      <th>test_set</th>\n",
       "      <th>random</th>\n",
       "    </tr>\n",
       "  </thead>\n",
       "  <tbody>\n",
       "    <tr>\n",
       "      <th>p_cat_out</th>\n",
       "      <td>0.506964</td>\n",
       "      <td>0.208200</td>\n",
       "    </tr>\n",
       "    <tr>\n",
       "      <th>s_cluster</th>\n",
       "      <td>-0.174670</td>\n",
       "      <td>-0.181567</td>\n",
       "    </tr>\n",
       "    <tr>\n",
       "      <th>s_genre</th>\n",
       "      <td>0.417569</td>\n",
       "      <td>0.451555</td>\n",
       "    </tr>\n",
       "    <tr>\n",
       "      <th>s_graph_dist_in</th>\n",
       "      <td>63.381219</td>\n",
       "      <td>64.115534</td>\n",
       "    </tr>\n",
       "    <tr>\n",
       "      <th>s_graph_dist_out</th>\n",
       "      <td>65.449713</td>\n",
       "      <td>65.678149</td>\n",
       "    </tr>\n",
       "  </tbody>\n",
       "</table>\n",
       "</div>"
      ],
      "text/plain": [
       "                   test_set     random\n",
       "p_cat_out          0.506964   0.208200\n",
       "s_cluster         -0.174670  -0.181567\n",
       "s_genre            0.417569   0.451555\n",
       "s_graph_dist_in   63.381219  64.115534\n",
       "s_graph_dist_out  65.449713  65.678149"
      ]
     },
     "execution_count": 273,
     "metadata": {},
     "output_type": "execute_result"
    }
   ],
   "source": [
    "exp1_s1_results"
   ]
  },
  {
   "cell_type": "markdown",
   "metadata": {},
   "source": [
    "### Scenario 2\n",
    "\n",
    "In this scenario, we have the playlist categories and the graph of playlists is well connected using both metadata and cosine similarity."
   ]
  },
  {
   "cell_type": "code",
   "execution_count": 276,
   "metadata": {
    "collapsed": true
   },
   "outputs": [],
   "source": [
    "SCENARIO_DIR2 = os.path.join(EXPERIMENT_DIR, 'scenario2')\n",
    "if not os.path.exists(SCENARIO_DIR2):\n",
    "    os.mkdir(SCENARIO_DIR2)"
   ]
  },
  {
   "cell_type": "markdown",
   "metadata": {},
   "source": [
    "#### Our recommender system"
   ]
  },
  {
   "cell_type": "code",
   "execution_count": 277,
   "metadata": {
    "collapsed": false
   },
   "outputs": [
    {
     "name": "stdout",
     "output_type": "stream",
     "text": [
      "Validation took 24.1706628799 seconds\n",
      "Theta: 1, score: 0.287420715778\n",
      "Validation took 23.7876780033 seconds\n",
      "Theta: 4, score: 0.470988802864\n",
      "Validation took 24.1222529411 seconds\n",
      "Theta: 7, score: 0.475221008159\n",
      "Validation took 24.54626894 seconds\n",
      "Theta: 10, score: 0.510715513653\n",
      "Validation took 23.8438780308 seconds\n",
      "Validation took 24.8922591209 seconds\n",
      "Validation took 24.2238149643 seconds\n",
      "Theta: 19, score: 0.560934709687\n",
      "Validation took 24.8920309544 seconds\n",
      "Validation took 25.6710669994 seconds\n",
      "Best theta playlist: 19\n"
     ]
    }
   ],
   "source": [
    "best_theta_p_s2 = 19\n",
    "def grid_search_theta_playlist_scenario2():\n",
    "    results = []\n",
    "    for theta in xrange(19, 50, 5):\n",
    "        d = {'theta_playlist': theta}\n",
    "        data_path = os.path.join(SCENARIO_DIR2, 'exp1_s2_theta_p_' + str(theta))\n",
    "        d['data_path'] = data_path\n",
    "        a, b = training_closure()(data_path, theta, 0.0, PLAYLIST_GRAPH_train)\n",
    "        d['a'] = a\n",
    "        d['b'] = b\n",
    "        results.append(d)\n",
    "    return results\n",
    "\n",
    "# results_gs_theta_playlist_exp1_s2 = grid_search_theta_playlist_scenario2()\n",
    "exp1_s2_d = find_best_theta(results_gs_theta_playlist_exp1_s2)\n",
    "data_path = os.path.join(SCENARIO_DIR2, 'exp1_s2_best_theta_p' + str(exp1_s2_d['theta_playlist']))\n",
    "np.savez(data_path, A=exp1_s2_d['a'], B=exp1_s2_d['b'])\n",
    "print 'Best theta playlist:', exp1_s2_d['theta_playlist']"
   ]
  },
  {
   "cell_type": "code",
   "execution_count": 374,
   "metadata": {
    "collapsed": true
   },
   "outputs": [],
   "source": [
    "data_path = os.path.join(SCENARIO_DIR2, 'exp1_s2_best_theta_p' + str(exp1_s2_d['theta_playlist']))\n",
    "np.savez(data_path, A=exp1_s2_d['a'], B=exp1_s2_d['b'])\n",
    "print 'Best theta playlist:', exp1_s2_d['theta_playlist']"
   ]
  },
  {
   "cell_type": "code",
   "execution_count": 375,
   "metadata": {
    "collapsed": false
   },
   "outputs": [
    {
     "name": "stdout",
     "output_type": "stream",
     "text": [
      "Validation took 28.6954569817 seconds\n"
     ]
    }
   ],
   "source": [
    "exp1_s2_results = run_validation(data_path, A_tmp, B_tmp, sample_size=0, only_test_set=True)"
   ]
  },
  {
   "cell_type": "code",
   "execution_count": 376,
   "metadata": {
    "collapsed": false
   },
   "outputs": [
    {
     "data": {
      "text/plain": [
       "p_cat_out            0.567398\n",
       "s_cluster           -0.014196\n",
       "s_genre              0.304725\n",
       "s_graph_dist_in     63.028296\n",
       "s_graph_dist_out    62.069577\n",
       "dtype: float64"
      ]
     },
     "execution_count": 376,
     "metadata": {},
     "output_type": "execute_result"
    }
   ],
   "source": [
    "exp1_s2_results.mean()"
   ]
  },
  {
   "cell_type": "code",
   "execution_count": 377,
   "metadata": {
    "collapsed": false
   },
   "outputs": [
    {
     "data": {
      "text/html": [
       "<div style=\"max-height:1000px;max-width:1500px;overflow:auto;\">\n",
       "<table border=\"1\" class=\"dataframe\">\n",
       "  <thead>\n",
       "    <tr style=\"text-align: right;\">\n",
       "      <th></th>\n",
       "      <th>p_cat_out</th>\n",
       "      <th>s_cluster</th>\n",
       "      <th>s_genre</th>\n",
       "      <th>s_graph_dist_in</th>\n",
       "      <th>s_graph_dist_out</th>\n",
       "    </tr>\n",
       "    <tr>\n",
       "      <th>playlist_category</th>\n",
       "      <th></th>\n",
       "      <th></th>\n",
       "      <th></th>\n",
       "      <th></th>\n",
       "      <th></th>\n",
       "    </tr>\n",
       "  </thead>\n",
       "  <tbody>\n",
       "    <tr>\n",
       "      <th>Break Up</th>\n",
       "      <td>0.356250</td>\n",
       "      <td>-0.016748</td>\n",
       "      <td>0.342680</td>\n",
       "      <td>64.450496</td>\n",
       "      <td>62.672498</td>\n",
       "    </tr>\n",
       "    <tr>\n",
       "      <th>Country</th>\n",
       "      <td>0.888462</td>\n",
       "      <td>-0.072711</td>\n",
       "      <td>0.238606</td>\n",
       "      <td>65.902165</td>\n",
       "      <td>61.915238</td>\n",
       "    </tr>\n",
       "    <tr>\n",
       "      <th>Dance/House</th>\n",
       "      <td>0.427273</td>\n",
       "      <td>0.007364</td>\n",
       "      <td>0.382086</td>\n",
       "      <td>60.421258</td>\n",
       "      <td>63.785213</td>\n",
       "    </tr>\n",
       "    <tr>\n",
       "      <th>Depression</th>\n",
       "      <td>0.357692</td>\n",
       "      <td>-0.011082</td>\n",
       "      <td>0.307998</td>\n",
       "      <td>61.710701</td>\n",
       "      <td>62.131672</td>\n",
       "    </tr>\n",
       "    <tr>\n",
       "      <th>Hip Hop</th>\n",
       "      <td>0.885714</td>\n",
       "      <td>0.109444</td>\n",
       "      <td>0.163131</td>\n",
       "      <td>61.862765</td>\n",
       "      <td>56.407199</td>\n",
       "    </tr>\n",
       "    <tr>\n",
       "      <th>Punk</th>\n",
       "      <td>0.827586</td>\n",
       "      <td>0.024904</td>\n",
       "      <td>0.253996</td>\n",
       "      <td>63.289977</td>\n",
       "      <td>59.658206</td>\n",
       "    </tr>\n",
       "    <tr>\n",
       "      <th>Rhythm and Blues</th>\n",
       "      <td>0.939394</td>\n",
       "      <td>-0.122092</td>\n",
       "      <td>0.276965</td>\n",
       "      <td>62.764976</td>\n",
       "      <td>66.274059</td>\n",
       "    </tr>\n",
       "    <tr>\n",
       "      <th>Rock</th>\n",
       "      <td>0.270000</td>\n",
       "      <td>0.002939</td>\n",
       "      <td>0.367727</td>\n",
       "      <td>63.745946</td>\n",
       "      <td>61.714989</td>\n",
       "    </tr>\n",
       "    <tr>\n",
       "      <th>Romantic</th>\n",
       "      <td>0.318750</td>\n",
       "      <td>-0.023961</td>\n",
       "      <td>0.317238</td>\n",
       "      <td>63.008213</td>\n",
       "      <td>62.376559</td>\n",
       "    </tr>\n",
       "    <tr>\n",
       "      <th>Sleep</th>\n",
       "      <td>0.402857</td>\n",
       "      <td>-0.040016</td>\n",
       "      <td>0.396825</td>\n",
       "      <td>63.126463</td>\n",
       "      <td>63.760134</td>\n",
       "    </tr>\n",
       "  </tbody>\n",
       "</table>\n",
       "</div>"
      ],
      "text/plain": [
       "                   p_cat_out  s_cluster   s_genre  s_graph_dist_in  \\\n",
       "playlist_category                                                    \n",
       "Break Up            0.356250  -0.016748  0.342680        64.450496   \n",
       "Country             0.888462  -0.072711  0.238606        65.902165   \n",
       "Dance/House         0.427273   0.007364  0.382086        60.421258   \n",
       "Depression          0.357692  -0.011082  0.307998        61.710701   \n",
       "Hip Hop             0.885714   0.109444  0.163131        61.862765   \n",
       "Punk                0.827586   0.024904  0.253996        63.289977   \n",
       "Rhythm and Blues    0.939394  -0.122092  0.276965        62.764976   \n",
       "Rock                0.270000   0.002939  0.367727        63.745946   \n",
       "Romantic            0.318750  -0.023961  0.317238        63.008213   \n",
       "Sleep               0.402857  -0.040016  0.396825        63.126463   \n",
       "\n",
       "                   s_graph_dist_out  \n",
       "playlist_category                    \n",
       "Break Up                  62.672498  \n",
       "Country                   61.915238  \n",
       "Dance/House               63.785213  \n",
       "Depression                62.131672  \n",
       "Hip Hop                   56.407199  \n",
       "Punk                      59.658206  \n",
       "Rhythm and Blues          66.274059  \n",
       "Rock                      61.714989  \n",
       "Romantic                  62.376559  \n",
       "Sleep                     63.760134  "
      ]
     },
     "execution_count": 377,
     "metadata": {},
     "output_type": "execute_result"
    }
   ],
   "source": [
    "exp1_s2_results"
   ]
  },
  {
   "cell_type": "code",
   "execution_count": null,
   "metadata": {
    "collapsed": false
   },
   "outputs": [],
   "source": [
    "agglomerate_results_per_category(data_path, 'p_cat_out')"
   ]
  },
  {
   "cell_type": "markdown",
   "metadata": {},
   "source": [
    "## Experiment 2\n",
    "\n",
    "In this experiment we show the diversity of the recommended playlist. It augments if we augment the influence of the graph of songs. We use the STRIPPED playlist graph."
   ]
  },
  {
   "cell_type": "code",
   "execution_count": null,
   "metadata": {
    "collapsed": true
   },
   "outputs": [],
   "source": [
    "EXPERIMENT_DIR2 = os.path.join(DUMP_DIR, 'experiment2')\n",
    "if not os.path.exists(EXPERIMENT_DIR2):\n",
    "    os.mkdir(EXPERIMENT_DIR2)"
   ]
  },
  {
   "cell_type": "markdown",
   "metadata": {},
   "source": [
    "#### Theta songs = 0"
   ]
  },
  {
   "cell_type": "code",
   "execution_count": null,
   "metadata": {
    "collapsed": false
   },
   "outputs": [],
   "source": [
    "results_nmf_playlist_exp1"
   ]
  },
  {
   "cell_type": "markdown",
   "metadata": {},
   "source": [
    "#### Grid seach theta songs"
   ]
  },
  {
   "cell_type": "code",
   "execution_count": null,
   "metadata": {
    "collapsed": true
   },
   "outputs": [],
   "source": [
    "def grid_search_theta_song():\n",
    "    results = []\n",
    "    for theta in xrange(1, 27, 3):\n",
    "        d = {'theta_song': theta}\n",
    "        data_path = os.path.join(EXPERIMENT_DIR2, 'exp2_theta_s_' + str(theta))\n",
    "        d['data_path'] = data_path\n",
    "        a, b = training_closure()(data_path, theta_playlists_nmf_playlist, theta, STRIPPED_PLAYLIST_GRAPH_train)\n",
    "        d['a'] = a\n",
    "        d['b'] = b\n",
    "        results.append(d)\n",
    "    return results\n",
    "\n",
    "results_gs_theta_song = grid_search_theta_song()"
   ]
  },
  {
   "cell_type": "code",
   "execution_count": null,
   "metadata": {
    "collapsed": true
   },
   "outputs": [],
   "source": []
  },
  {
   "cell_type": "markdown",
   "metadata": {},
   "source": [
    "### Agglomerate results to compare the different theta songs"
   ]
  },
  {
   "cell_type": "code",
   "execution_count": null,
   "metadata": {
    "collapsed": true
   },
   "outputs": [],
   "source": []
  },
  {
   "cell_type": "code",
   "execution_count": null,
   "metadata": {
    "collapsed": true
   },
   "outputs": [],
   "source": []
  },
  {
   "cell_type": "code",
   "execution_count": null,
   "metadata": {
    "collapsed": true
   },
   "outputs": [],
   "source": []
  },
  {
   "cell_type": "code",
   "execution_count": null,
   "metadata": {
    "collapsed": true
   },
   "outputs": [],
   "source": []
  },
  {
   "cell_type": "code",
   "execution_count": null,
   "metadata": {
    "collapsed": true
   },
   "outputs": [],
   "source": []
  },
  {
   "cell_type": "code",
   "execution_count": null,
   "metadata": {
    "collapsed": false
   },
   "outputs": [],
   "source": [
    "recog.reco_playlist_graph_only(None, SONGS, PLAYLISTS_TRAIN, song_id_key, 214, playlist_id_key)"
   ]
  },
  {
   "cell_type": "code",
   "execution_count": null,
   "metadata": {
    "collapsed": false
   },
   "outputs": [],
   "source": [
    "PLAYLISTS_TRAIN[PLAYLISTS_TRAIN.mix_id == 214]"
   ]
  },
  {
   "cell_type": "code",
   "execution_count": null,
   "metadata": {
    "collapsed": true
   },
   "outputs": [],
   "source": []
  },
  {
   "cell_type": "code",
   "execution_count": null,
   "metadata": {
    "collapsed": true
   },
   "outputs": [],
   "source": []
  },
  {
   "cell_type": "code",
   "execution_count": null,
   "metadata": {
    "collapsed": true
   },
   "outputs": [],
   "source": []
  },
  {
   "cell_type": "code",
   "execution_count": null,
   "metadata": {
    "collapsed": true
   },
   "outputs": [],
   "source": []
  },
  {
   "cell_type": "code",
   "execution_count": null,
   "metadata": {
    "collapsed": true
   },
   "outputs": [],
   "source": []
  },
  {
   "cell_type": "code",
   "execution_count": null,
   "metadata": {
    "collapsed": true
   },
   "outputs": [],
   "source": []
  },
  {
   "cell_type": "code",
   "execution_count": null,
   "metadata": {
    "collapsed": true
   },
   "outputs": [],
   "source": []
  },
  {
   "cell_type": "code",
   "execution_count": null,
   "metadata": {
    "collapsed": true
   },
   "outputs": [],
   "source": []
  },
  {
   "cell_type": "code",
   "execution_count": null,
   "metadata": {
    "collapsed": true
   },
   "outputs": [],
   "source": [
    "# Change rank, random init\n",
    "data_path = os.path.join(EXPERIMENT_DIR, 'test_rank15')\n",
    "valid_func = lambda x, y: run_validation(data_path, x, y, sample_size=0, only_test_set=True)['p_cat_out']\n",
    "\n",
    "A_tmp, B_tmp = recog.proximal_training(C_train, PLAYLIST_GRAPH_train, SONG_GRAPH, 15,\n",
    "                                       theta_tv_a=19,\n",
    "                                       theta_tv_b=0,\n",
    "                                       data_path=data_path,\n",
    "                                       load_from_disk=True,\n",
    "                                       verbose=1, validation_func=valid_func)"
   ]
  },
  {
   "cell_type": "markdown",
   "metadata": {},
   "source": [
    "### NMF + playlist + songs"
   ]
  },
  {
   "cell_type": "code",
   "execution_count": null,
   "metadata": {
    "collapsed": true
   },
   "outputs": [],
   "source": [
    "theta_playlists_nmf_playlist_song = 10.\n",
    "theta_songs_nmf_playlist_song = 10.\n",
    "data_path = os.path.join(SCENARIO_DIR, 'nmf_playlist_song')"
   ]
  },
  {
   "cell_type": "code",
   "execution_count": null,
   "metadata": {
    "collapsed": false
   },
   "outputs": [],
   "source": [
    "A_nmf_playlist_song, B_nmf_playlist_song = training_closure()(data_path, \n",
    "                                                              theta_playlists_nmf_playlist_song,\n",
    "                                                              theta_songs_nmf_playlist_song)"
   ]
  },
  {
   "cell_type": "code",
   "execution_count": null,
   "metadata": {
    "collapsed": false
   },
   "outputs": [],
   "source": [
    "results_nmf_playlist_song = recommend_and_save(data_path, A_nmf_playlist_song, B_nmf_playlist_song)"
   ]
  },
  {
   "cell_type": "code",
   "execution_count": null,
   "metadata": {
    "collapsed": false
   },
   "outputs": [],
   "source": [
    "results_nmf_playlist_song"
   ]
  },
  {
   "cell_type": "code",
   "execution_count": null,
   "metadata": {
    "collapsed": false
   },
   "outputs": [],
   "source": [
    "results_nmf_playlist_song - results_playlist_only"
   ]
  },
  {
   "cell_type": "markdown",
   "metadata": {},
   "source": [
    "### NMF + playlist + songs 2"
   ]
  },
  {
   "cell_type": "code",
   "execution_count": null,
   "metadata": {
    "collapsed": true
   },
   "outputs": [],
   "source": [
    "theta_playlists_nmf_playlist_song2 = 10.\n",
    "theta_songs_nmf_playlist_song2 = 2.\n",
    "data_path = os.path.join(SCENARIO_DIR, 'nmf_playlist_song2')"
   ]
  },
  {
   "cell_type": "code",
   "execution_count": null,
   "metadata": {
    "collapsed": false
   },
   "outputs": [],
   "source": [
    "A_nmf_playlist_song2, B_nmf_playlist_song2 = training_closure()(data_path, \n",
    "                                                                theta_playlists_nmf_playlist_song2, \n",
    "                                                                theta_songs_nmf_playlist_song2)"
   ]
  },
  {
   "cell_type": "code",
   "execution_count": null,
   "metadata": {
    "collapsed": false
   },
   "outputs": [],
   "source": [
    "results_nmf_playlist_song2 = recommend_and_save(data_path, A_nmf_playlist_song2, B_nmf_playlist_song2)"
   ]
  },
  {
   "cell_type": "code",
   "execution_count": null,
   "metadata": {
    "collapsed": false
   },
   "outputs": [],
   "source": [
    "results_nmf_playlist_song2 - results_nmf_playlist_song"
   ]
  },
  {
   "cell_type": "code",
   "execution_count": null,
   "metadata": {
    "collapsed": true
   },
   "outputs": [],
   "source": [
    "results_nmf_playlist_song2 - results_playlist_only"
   ]
  },
  {
   "cell_type": "markdown",
   "metadata": {},
   "source": [
    "## Scenario 2\n",
    "\n",
    "\n",
    "No playlist categories, we keep only the edges created by cosine similarity."
   ]
  },
  {
   "cell_type": "code",
   "execution_count": null,
   "metadata": {
    "collapsed": true
   },
   "outputs": [],
   "source": [
    "def stripped_playlist_graph(g):\n",
    "    h = nx.Graph()\n",
    "    h.add_nodes_from(g.nodes(data=True))\n",
    "    counts = nx.get_edge_attributes(g, 'count')\n",
    "\n",
    "    cosine = lambda u, v, x: float(x) / (np.sqrt(g.node[u]['size']) * np.sqrt(g.node[v]['size']))\n",
    "    reweighted_attrs = [(k[0], k[1], cosine(k[0], k[1], v)) for k, v in counts.iteritems()]\n",
    "\n",
    "    h.add_weighted_edges_from(reweighted_attrs)\n",
    "\n",
    "    d = community.best_partition(h)\n",
    "    mod = community.modularity(d, h)\n",
    "    print 'Number of clusters: {}, Modularity: {}'.format(len(set(d.values())), mod)\n",
    "    return h"
   ]
  },
  {
   "cell_type": "code",
   "execution_count": null,
   "metadata": {
    "collapsed": false
   },
   "outputs": [],
   "source": [
    "STRIPPED_PLAYLIST_GRAPH_train = stripped_playlist_graph(PLAYLIST_GRAPH_train)"
   ]
  },
  {
   "cell_type": "code",
   "execution_count": null,
   "metadata": {
    "collapsed": true
   },
   "outputs": [],
   "source": [
    "SCENARIO_DIR = os.path.join(DUMP_DIR, 'scenario2')\n",
    "if not os.path.exists(SCENARIO_DIR):\n",
    "    os.mkdir(SCENARIO_DIR)"
   ]
  },
  {
   "cell_type": "markdown",
   "metadata": {},
   "source": [
    "### Playlist only"
   ]
  },
  {
   "cell_type": "code",
   "execution_count": null,
   "metadata": {
    "collapsed": true
   },
   "outputs": [],
   "source": [
    "data_path = os.path.join(SCENARIO_DIR, 'playlist_graph_only')"
   ]
  },
  {
   "cell_type": "code",
   "execution_count": null,
   "metadata": {
    "collapsed": false
   },
   "outputs": [],
   "source": [
    "A_playlist_only_v2, B_playlist_only_v2 = training_closure()(data_path, \n",
    "                                                      theta_playlists_playlist_only, \n",
    "                                                      theta_songs_playlist_only,\n",
    "                                                      STRIPPED_PLAYLIST_GRAPH_train)"
   ]
  },
  {
   "cell_type": "code",
   "execution_count": null,
   "metadata": {
    "collapsed": false
   },
   "outputs": [],
   "source": [
    "results_playlist_only_v2 = recommend_and_save(data_path, A_playlist_only_v2, B_playlist_only_v2)"
   ]
  },
  {
   "cell_type": "code",
   "execution_count": null,
   "metadata": {
    "collapsed": false
   },
   "outputs": [],
   "source": [
    "results_playlist_only_v2"
   ]
  },
  {
   "cell_type": "markdown",
   "metadata": {},
   "source": [
    "### NMF + playlist"
   ]
  },
  {
   "cell_type": "code",
   "execution_count": null,
   "metadata": {
    "collapsed": true
   },
   "outputs": [],
   "source": [
    "theta_playlists_nmf_playlist = 18 \n",
    "theta_songs_nmf_playlist = 0.0\n",
    "data_path = os.path.join(SCENARIO_DIR, 'nmf_playlist')"
   ]
  },
  {
   "cell_type": "code",
   "execution_count": null,
   "metadata": {
    "collapsed": false
   },
   "outputs": [],
   "source": [
    "A_nmf_playlist_v2, B_nmf_playlist_v2 = training_closure()(data_path, \n",
    "                                                          theta_playlists_nmf_playlist, \n",
    "                                                          theta_songs_nmf_playlist,\n",
    "                                                          STRIPPED_PLAYLIST_GRAPH_train)"
   ]
  },
  {
   "cell_type": "code",
   "execution_count": null,
   "metadata": {
    "collapsed": false
   },
   "outputs": [],
   "source": [
    "results_nmf_playlist_v2_mod = recommend_and_save(data_path, A_nmf_playlist_v2, B_nmf_playlist_v2)"
   ]
  },
  {
   "cell_type": "code",
   "execution_count": null,
   "metadata": {
    "collapsed": false
   },
   "outputs": [],
   "source": [
    "results_nmf_playlist_v2"
   ]
  },
  {
   "cell_type": "code",
   "execution_count": null,
   "metadata": {
    "collapsed": false
   },
   "outputs": [],
   "source": [
    "results_nmf_playlist_v2_mod"
   ]
  },
  {
   "cell_type": "code",
   "execution_count": null,
   "metadata": {
    "collapsed": true
   },
   "outputs": [],
   "source": []
  },
  {
   "cell_type": "code",
   "execution_count": null,
   "metadata": {
    "collapsed": true
   },
   "outputs": [],
   "source": []
  },
  {
   "cell_type": "code",
   "execution_count": null,
   "metadata": {
    "collapsed": true
   },
   "outputs": [],
   "source": []
  },
  {
   "cell_type": "code",
   "execution_count": null,
   "metadata": {
    "collapsed": true
   },
   "outputs": [],
   "source": []
  },
  {
   "cell_type": "markdown",
   "metadata": {},
   "source": [
    "## Find best nmf_playlist theta playlist"
   ]
  },
  {
   "cell_type": "code",
   "execution_count": null,
   "metadata": {
    "collapsed": false
   },
   "outputs": [],
   "source": [
    "best_theta = 12\n",
    "# 0.004379696413781331 \n",
    "last_diff = (results_nmf_playlist_v2 - results_playlist_only_v2)['p_cat_out']['test_set']\n",
    "\n",
    "best_A = A_nmf_playlist_v2\n",
    "best_B = B_nmf_playlist_v2\n",
    "for i, theta in enumerate(xrange(13, 20)):\n",
    "    theta_playlists_nmf_playlist = theta    \n",
    "    data_path = os.path.join(SCENARIO_DIR, 'nmf_playlist_' + str(i + 1))\n",
    "    A_nmf_playlist_v2, B_nmf_playlist_v2 = training_closure()(data_path, \n",
    "                                                          theta_playlists_nmf_playlist, \n",
    "                                                          theta_songs_nmf_playlist,\n",
    "                                                          STRIPPED_PLAYLIST_GRAPH_train)\n",
    "    results_nmf_playlist_v2 = recommend_and_save(data_path, A_nmf_playlist_v2, B_nmf_playlist_v2)\n",
    "    \n",
    "    diff = (results_nmf_playlist_v2 - results_playlist_only_v2)['p_cat_out']['test_set']\n",
    "    \n",
    "    if diff > last_diff:\n",
    "        last_diff = diff\n",
    "        best_theta = theta\n",
    "        best_A = A_nmf_playlist_v2\n",
    "        best_B = B_nmf_playlist_v2"
   ]
  },
  {
   "cell_type": "code",
   "execution_count": null,
   "metadata": {
    "collapsed": false
   },
   "outputs": [],
   "source": [
    "results_nmf_playlist_v3 = recommend_and_save(data_path, best_A, best_B, STRIPPED_PLAYLIST_GRAPH)"
   ]
  },
  {
   "cell_type": "code",
   "execution_count": null,
   "metadata": {
    "collapsed": false
   },
   "outputs": [],
   "source": [
    "results_nmf_playlist_v3"
   ]
  },
  {
   "cell_type": "code",
   "execution_count": null,
   "metadata": {
    "collapsed": false
   },
   "outputs": [],
   "source": [
    "data_path = os.path.join(SCENARIO_DIR, 'nmf_playlist')\n",
    "np.savez(data_path, A=best_A, B=best_B)"
   ]
  },
  {
   "cell_type": "code",
   "execution_count": null,
   "metadata": {
    "collapsed": true
   },
   "outputs": [],
   "source": []
  },
  {
   "cell_type": "code",
   "execution_count": null,
   "metadata": {
    "collapsed": true
   },
   "outputs": [],
   "source": []
  },
  {
   "cell_type": "code",
   "execution_count": null,
   "metadata": {
    "collapsed": true
   },
   "outputs": [],
   "source": []
  },
  {
   "cell_type": "code",
   "execution_count": null,
   "metadata": {
    "collapsed": false
   },
   "outputs": [],
   "source": []
  },
  {
   "cell_type": "code",
   "execution_count": null,
   "metadata": {
    "collapsed": true
   },
   "outputs": [],
   "source": []
  },
  {
   "cell_type": "code",
   "execution_count": null,
   "metadata": {
    "collapsed": true
   },
   "outputs": [],
   "source": []
  },
  {
   "cell_type": "code",
   "execution_count": null,
   "metadata": {
    "collapsed": true
   },
   "outputs": [],
   "source": []
  },
  {
   "cell_type": "code",
   "execution_count": null,
   "metadata": {
    "collapsed": true
   },
   "outputs": [],
   "source": []
  },
  {
   "cell_type": "markdown",
   "metadata": {},
   "source": [
    "### Output neighbors of a song in the song graph"
   ]
  },
  {
   "cell_type": "code",
   "execution_count": null,
   "metadata": {
    "collapsed": false
   },
   "outputs": [],
   "source": [
    "song_id =  SONGS[SONGS.artist_name == 'The Beatles'].index.values[0]"
   ]
  },
  {
   "cell_type": "code",
   "execution_count": null,
   "metadata": {
    "collapsed": true
   },
   "outputs": [],
   "source": [
    "song_id = 545685 # yesterday"
   ]
  },
  {
   "cell_type": "code",
   "execution_count": null,
   "metadata": {
    "collapsed": false
   },
   "outputs": [],
   "source": [
    "x = SONGS.reset_index()\n",
    "song_id = 1308  # on graph"
   ]
  },
  {
   "cell_type": "code",
   "execution_count": null,
   "metadata": {
    "collapsed": false
   },
   "outputs": [],
   "source": [
    "def get_sorted_neighbors(query, df, g, metadata=['artist_name', 'title', 'genre'], path=None):\n",
    "    s = df.reset_index()\n",
    "    neighbors = g[song_id]\n",
    "\n",
    "    res = []\n",
    "    for k, v in neighbors.iteritems():\n",
    "        res.append((k, v['weight']))\n",
    "        \n",
    "    t = list(reversed(sorted(res, key=operator.itemgetter(1))))\n",
    "    sorted_neighbors = map(lambda x: x[0], t)\n",
    "\n",
    "    res = s[s.index.isin(sorted_neighbors)][metadata]\n",
    "    res = res.reindex(sorted_neighbors, copy=True).reset_index(drop=True)    \n",
    "    res.index += 1\n",
    "    res2 = df.iloc[query][metadata]\n",
    "    \n",
    "    if path is not None:\n",
    "        with open(path, 'w') as f:\n",
    "            f.write(res.to_latex())\n",
    "            \n",
    "    return res, res2\n",
    "\n",
    "path = os.path.join(DATA_DIR, 'song_knn.tex')\n",
    "neighbors, query_song = get_sorted_neighbors(song_id, SONGS, SONG_GRAPH, path=path)"
   ]
  },
  {
   "cell_type": "code",
   "execution_count": null,
   "metadata": {
    "collapsed": false
   },
   "outputs": [],
   "source": [
    "neighbors"
   ]
  },
  {
   "cell_type": "code",
   "execution_count": null,
   "metadata": {
    "collapsed": false
   },
   "outputs": [],
   "source": [
    "query_song"
   ]
  },
  {
   "cell_type": "markdown",
   "metadata": {},
   "source": [
    "## Model parameters"
   ]
  }
 ],
 "metadata": {
  "kernelspec": {
   "display_name": "Python 2",
   "language": "python",
   "name": "python2"
  },
  "language_info": {
   "codemirror_mode": {
    "name": "ipython",
    "version": 2
   },
   "file_extension": ".py",
   "mimetype": "text/x-python",
   "name": "python",
   "nbconvert_exporter": "python",
   "pygments_lexer": "ipython2",
   "version": "2.7.9"
  }
 },
 "nbformat": 4,
 "nbformat_minor": 0
}
